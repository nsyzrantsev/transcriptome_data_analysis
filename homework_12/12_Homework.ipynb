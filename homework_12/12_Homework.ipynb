{
  "nbformat": 4,
  "nbformat_minor": 0,
  "metadata": {
    "colab": {
      "provenance": []
    },
    "kernelspec": {
      "name": "python3",
      "display_name": "Python 3"
    },
    "language_info": {
      "name": "python"
    }
  },
  "cells": [
    {
      "cell_type": "markdown",
      "metadata": {
        "id": "mJ6y62LJ80uZ"
      },
      "source": [
        "## Домашнее задание\n",
        "\n",
        "Попробуйте сделать функцию-враппер (функцию-обертку) вокруг DESeq2, которая будет работать из-под Python и выполнять дифференциальную экспрессию по матрице каунтов, а также по датасету с описанием образцов, которые будут даваться на вход функции. Продумайте, как лучше реализовать хранение аутпута.\n",
        "\n",
        "Приспособьте эту функцию для scanpy так, чтобы она могла определять дифференциально экспрессированные гены для кластеров, используя их псевдобалки по отдельным образцам. В каком случае имеет смысл использовать эту функцию?\n",
        "\n",
        "Добработайте функцию и напишите новую функцию на основе `sc.tl.rank_genes_groups()`, чтобы она была аналогом функции <a href=\"https://satijalab.org/seurat/reference/findconservedmarkers\"><code>FindConservedMarkers()</code></a> из Seurat."
      ]
    },
    {
      "cell_type": "markdown",
      "source": [
        "## Решение"
      ],
      "metadata": {
        "id": "qbHWzRi_LtvK"
      }
    },
    {
      "cell_type": "markdown",
      "source": [
        "### Установка пакетов и импорт данных"
      ],
      "metadata": {
        "id": "1ceUz4svMbAS"
      }
    },
    {
      "cell_type": "markdown",
      "source": [
        "Установим необходимые библиотеки"
      ],
      "metadata": {
        "id": "PhvEwEBZD9x7"
      }
    },
    {
      "cell_type": "code",
      "source": [
        "!pip3 install scanpy[leiden] anndata2ri scikit-misc scvi-tools opentsne harmonypy\n",
        "\n",
        "# Необходимо, чтобы конкретно прогрузился matplotlib\n",
        "import os\n",
        "os.kill(os.getpid(), 9)"
      ],
      "metadata": {
        "colab": {
          "base_uri": "https://localhost:8080/"
        },
        "id": "XP_AaIA1MJEq",
        "outputId": "d601164b-6d03-4dc1-abe9-d9d011eccc72"
      },
      "execution_count": null,
      "outputs": [
        {
          "output_type": "stream",
          "name": "stdout",
          "text": [
            "      Successfully uninstalled matplotlib-3.2.2\n",
            "Successfully installed anndata-0.8.0 anndata2ri-1.1 cached_property-1.5.2 chex-0.1.5 commonmark-0.9.1 contourpy-1.0.6 docrep-0.3.2 dunamai-1.15.0 flax-0.6.3 fonttools-4.38.0 get-version-3.5.4 harmonypy-0.0.9 igraph-0.10.3 jedi-0.18.2 leidenalg-0.9.1 matplotlib-3.6.2 ml-collections-0.1.1 mudata-0.2.1 numpyro-0.10.1 opentsne-0.6.2 optax-0.1.4 orbax-0.1.0 pyDeprecate-0.3.2 pynndescent-0.5.8 pyro-api-0.1.2 pyro-ppl-1.8.4 python-igraph-0.10.3 pytorch-lightning-1.7.7 rich-13.0.1 scanpy-1.9.1 scikit-misc-0.1.4 scvi-tools-0.19.0 session-info-1.0.0 stdlib_list-0.8.0 tensorstore-0.1.30 texttable-1.6.7 torchmetrics-0.11.0 umap-learn-0.5.3\n"
          ]
        }
      ]
    },
    {
      "cell_type": "markdown",
      "source": [
        "Обновим версию gdown"
      ],
      "metadata": {
        "id": "uVcjUctzEA1G"
      }
    },
    {
      "cell_type": "code",
      "source": [
        "!pip install --upgrade --no-cache-dir gdown"
      ],
      "metadata": {
        "id": "020y7jP-MkAW"
      },
      "execution_count": null,
      "outputs": []
    },
    {
      "cell_type": "markdown",
      "source": [
        "Импортируем необходимые модули в python"
      ],
      "metadata": {
        "id": "E5GWeo2UED3I"
      }
    },
    {
      "cell_type": "code",
      "source": [
        "!pip install rpy2==3.5.1"
      ],
      "metadata": {
        "id": "UYVeSWj0FusD"
      },
      "execution_count": null,
      "outputs": []
    },
    {
      "cell_type": "code",
      "source": [
        "import rpy2\n",
        "\n",
        "rpy2.__version__"
      ],
      "metadata": {
        "colab": {
          "base_uri": "https://localhost:8080/",
          "height": 35
        },
        "id": "PR5WHJIZGwEQ",
        "outputId": "df7cfd07-8ad1-47cb-eae3-4989cc5435f7"
      },
      "execution_count": 3,
      "outputs": [
        {
          "output_type": "execute_result",
          "data": {
            "text/plain": [
              "'3.5.1'"
            ],
            "application/vnd.google.colaboratory.intrinsic+json": {
              "type": "string"
            }
          },
          "metadata": {},
          "execution_count": 3
        }
      ]
    },
    {
      "cell_type": "code",
      "source": [
        "import scanpy as sc\n",
        "\n",
        "import anndata2ri\n",
        "anndata2ri.activate()\n",
        "\n",
        "%reload_ext rpy2.ipython\n",
        "\n",
        "import rpy2.robjects as ro\n",
        "ro.numpy2ri.activate()\n",
        "\n",
        "from rpy2.robjects import pandas2ri, Formula\n",
        "from rpy2.robjects.packages import importr\n",
        "\n",
        "sc.set_figure_params(dpi=150)\n",
        "sc.settings.verbosity = 3"
      ],
      "metadata": {
        "id": "i0iKIlMgMLzZ"
      },
      "execution_count": 13,
      "outputs": []
    },
    {
      "cell_type": "code",
      "source": [
        "!apt-get install libgmp3-dev libcairo2-dev libharfbuzz-dev libfribidi-dev libudunits2-dev\n",
        "!gdown --id 1W0TuuQospxcasOX5cQdhT_Xd-k7-QAck\n",
        "!tar xf library.tar.gz\n",
        "!cp -r /content/usr/local/lib/R /usr/local/lib/ >> None\n",
        "!rm -r usr library.tar.gz"
      ],
      "metadata": {
        "colab": {
          "base_uri": "https://localhost:8080/"
        },
        "id": "xjdkMN5YEgrw",
        "outputId": "d74c2a88-5514-4272-878a-7e764f743ac6"
      },
      "execution_count": 83,
      "outputs": [
        {
          "output_type": "stream",
          "name": "stdout",
          "text": [
            "/usr/local/lib/python3.8/dist-packages/gdown/cli.py:121: FutureWarning: Option `--id` was deprecated in version 4.3.1 and will be removed in 5.0. You don't need to pass it anymore to use a file ID.\n",
            "  warnings.warn(\n",
            "Downloading...\n",
            "From: https://drive.google.com/uc?id=1W0TuuQospxcasOX5cQdhT_Xd-k7-QAck\n",
            "To: /content/library.tar.gz\n",
            "100% 2.33G/2.33G [00:19<00:00, 120MB/s]\n",
            "tar: Removing leading `/' from member names\n"
          ]
        }
      ]
    },
    {
      "cell_type": "code",
      "source": [
        "%R .libPaths(\"usr/local/lib/R/site-library/\")\n",
        "\n",
        "!Rscript -e 'install.packages(\"dplyr\")'\n",
        "!Rscript -e 'install.packages(\"ggplot2\")'\n",
        "!Rscript -e 'install.packages(\"tidyr\")'\n",
        "!Rscript -e 'install.packages(\"stringr\")'\n",
        "!Rscript -e 'install.packages(\"statmod\")'\n",
        "!Rscript -e 'install.packages(\"MASS\")'\n",
        "!Rscript -e 'BiocManager::install(\"EnhancedVolcano\")'\n",
        "!Rscript -e 'BiocManager::install(\"DESeq2\")'\n",
        "!Rscript -e 'BiocManager::install(\"apeglm\")'\n",
        "!Rscript -e 'install.packages(\"repr\")'\n",
        "!Rscript -e 'BiocManager::install(\"glmGamPoi\")'"
      ],
      "metadata": {
        "id": "y9tHPut5EoGj"
      },
      "execution_count": null,
      "outputs": []
    },
    {
      "cell_type": "code",
      "source": [
        "%%R\n",
        "\n",
        "suppressPackageStartupMessages({\n",
        "  library(edgeR)\n",
        "  library(stringr)\n",
        "  library(dplyr)\n",
        "  library(tidyr)\n",
        "  library(ggplot2)\n",
        "  library(MASS)\n",
        "  library(glue)\n",
        "  library(EnhancedVolcano)\n",
        "  library(DESeq2)\n",
        "  library(apeglm)\n",
        "  library(repr)\n",
        "  library(glmGamPoi)\n",
        "})"
      ],
      "metadata": {
        "id": "perwQvQOGdK6"
      },
      "execution_count": 14,
      "outputs": []
    },
    {
      "cell_type": "markdown",
      "source": [
        "Скачаем single cell данные"
      ],
      "metadata": {
        "id": "5KHH5SRFLwTl"
      }
    },
    {
      "cell_type": "code",
      "source": [
        "!gdown \"1jW548g6ERFS0t7NywgyjRs6VaE5QwXbg&confirm=t\""
      ],
      "metadata": {
        "colab": {
          "base_uri": "https://localhost:8080/"
        },
        "id": "37Sqa9lOyZiX",
        "outputId": "2683ea83-8f7b-4033-dcb4-fc90bf7a2830"
      },
      "execution_count": 5,
      "outputs": [
        {
          "output_type": "stream",
          "name": "stdout",
          "text": [
            "Downloading...\n",
            "From: https://drive.google.com/uc?id=1jW548g6ERFS0t7NywgyjRs6VaE5QwXbg&confirm=t\n",
            "To: /content/PBMC_Satija.h5ad\n",
            "100% 243M/243M [00:02<00:00, 82.6MB/s]\n"
          ]
        }
      ]
    },
    {
      "cell_type": "markdown",
      "source": [
        "Прочитаем `.h5ad` файл"
      ],
      "metadata": {
        "id": "9kMjt2vaacyb"
      }
    },
    {
      "cell_type": "code",
      "source": [
        "adata_raw = sc.read_h5ad(\"PBMC_Satija.h5ad\")\n",
        "adata_raw.layers[\"counts\"] = adata_raw.X.copy()"
      ],
      "metadata": {
        "id": "PhNG9kUoKtap"
      },
      "execution_count": 58,
      "outputs": []
    },
    {
      "cell_type": "markdown",
      "source": [
        "Выберем из изначального датасета только 20 клеток. Это необходимо, так как при анализе дифф. экспрессии всего датасета переполняется ОЗУ и колаб автоматически сбрасывает все локальные переменные."
      ],
      "metadata": {
        "id": "ORhkRLg5ajD8"
      }
    },
    {
      "cell_type": "code",
      "source": [
        "adata = adata_raw.copy()\n",
        "adata = adata[:20, :]"
      ],
      "metadata": {
        "id": "DR9hUf0B-oSf"
      },
      "execution_count": 60,
      "outputs": []
    },
    {
      "cell_type": "markdown",
      "source": [
        "Пусть тестируемыми группами будут колонки: батчи (образцы тканей от различных доноров) и типу клеток, к которому принадлежит та или иная клетка из scRNA-seq."
      ],
      "metadata": {
        "id": "_fGzgR1ra4NE"
      }
    },
    {
      "cell_type": "code",
      "source": [
        "adata.obs['donor'].value_counts()"
      ],
      "metadata": {
        "colab": {
          "base_uri": "https://localhost:8080/"
        },
        "id": "IvdFQxKyFUUq",
        "outputId": "5b151327-7965-4a3d-8624-a922e7226796"
      },
      "execution_count": 61,
      "outputs": [
        {
          "output_type": "execute_result",
          "data": {
            "text/plain": [
              "P2    9\n",
              "P1    8\n",
              "P3    3\n",
              "Name: donor, dtype: int64"
            ]
          },
          "metadata": {},
          "execution_count": 61
        }
      ]
    },
    {
      "cell_type": "code",
      "source": [
        "adata.obs['celltype.l1'].value_counts()"
      ],
      "metadata": {
        "colab": {
          "base_uri": "https://localhost:8080/"
        },
        "id": "YoROm57tHr4z",
        "outputId": "0eba5151-0ada-46fe-e73d-f2ff39248eda"
      },
      "execution_count": 62,
      "outputs": [
        {
          "output_type": "execute_result",
          "data": {
            "text/plain": [
              "CD8 T      8\n",
              "CD4 T      7\n",
              "NK         2\n",
              "B          1\n",
              "Mono       1\n",
              "other T    1\n",
              "Name: celltype.l1, dtype: int64"
            ]
          },
          "metadata": {},
          "execution_count": 62
        }
      ]
    },
    {
      "cell_type": "code",
      "source": [
        "adata.obs.head()"
      ],
      "metadata": {
        "colab": {
          "base_uri": "https://localhost:8080/",
          "height": 206
        },
        "id": "Dpdu73ry9Hgp",
        "outputId": "30152fe9-2969-43af-d931-be665cda799c"
      },
      "execution_count": 65,
      "outputs": [
        {
          "output_type": "execute_result",
          "data": {
            "text/plain": [
              "                    orig.ident lane donor time celltype.l1 celltype.l2  \\\n",
              "L1_AAACCCACATCAGTCA       P3_3   L1    P3    3       CD8 T     CD8 TEM   \n",
              "L1_AAACCCATCCACACCT       P3_3   L1    P3    3       CD8 T   CD8 Naive   \n",
              "L1_AAACCCATCTGCGGAC       P1_0   L1    P1    0       CD4 T     CD4 TCM   \n",
              "L1_AAACCCATCTTAAGGC       P2_3   L1    P2    3       CD4 T     CD4 CTL   \n",
              "L1_AAACGAAAGATAACAC       P2_3   L1    P2    3           B     B naive   \n",
              "\n",
              "                       celltype.l3 Phase  \n",
              "L1_AAACCCACATCAGTCA      CD8 TEM_1    G1  \n",
              "L1_AAACCCATCCACACCT      CD8 Naive     S  \n",
              "L1_AAACCCATCTGCGGAC      CD4 TCM_1     S  \n",
              "L1_AAACCCATCTTAAGGC        CD4 CTL     S  \n",
              "L1_AAACGAAAGATAACAC  B naive kappa     S  "
            ],
            "text/html": [
              "\n",
              "  <div id=\"df-b2afae53-fdff-49d8-a100-b422cf0bcb44\">\n",
              "    <div class=\"colab-df-container\">\n",
              "      <div>\n",
              "<style scoped>\n",
              "    .dataframe tbody tr th:only-of-type {\n",
              "        vertical-align: middle;\n",
              "    }\n",
              "\n",
              "    .dataframe tbody tr th {\n",
              "        vertical-align: top;\n",
              "    }\n",
              "\n",
              "    .dataframe thead th {\n",
              "        text-align: right;\n",
              "    }\n",
              "</style>\n",
              "<table border=\"1\" class=\"dataframe\">\n",
              "  <thead>\n",
              "    <tr style=\"text-align: right;\">\n",
              "      <th></th>\n",
              "      <th>orig.ident</th>\n",
              "      <th>lane</th>\n",
              "      <th>donor</th>\n",
              "      <th>time</th>\n",
              "      <th>celltype.l1</th>\n",
              "      <th>celltype.l2</th>\n",
              "      <th>celltype.l3</th>\n",
              "      <th>Phase</th>\n",
              "    </tr>\n",
              "  </thead>\n",
              "  <tbody>\n",
              "    <tr>\n",
              "      <th>L1_AAACCCACATCAGTCA</th>\n",
              "      <td>P3_3</td>\n",
              "      <td>L1</td>\n",
              "      <td>P3</td>\n",
              "      <td>3</td>\n",
              "      <td>CD8 T</td>\n",
              "      <td>CD8 TEM</td>\n",
              "      <td>CD8 TEM_1</td>\n",
              "      <td>G1</td>\n",
              "    </tr>\n",
              "    <tr>\n",
              "      <th>L1_AAACCCATCCACACCT</th>\n",
              "      <td>P3_3</td>\n",
              "      <td>L1</td>\n",
              "      <td>P3</td>\n",
              "      <td>3</td>\n",
              "      <td>CD8 T</td>\n",
              "      <td>CD8 Naive</td>\n",
              "      <td>CD8 Naive</td>\n",
              "      <td>S</td>\n",
              "    </tr>\n",
              "    <tr>\n",
              "      <th>L1_AAACCCATCTGCGGAC</th>\n",
              "      <td>P1_0</td>\n",
              "      <td>L1</td>\n",
              "      <td>P1</td>\n",
              "      <td>0</td>\n",
              "      <td>CD4 T</td>\n",
              "      <td>CD4 TCM</td>\n",
              "      <td>CD4 TCM_1</td>\n",
              "      <td>S</td>\n",
              "    </tr>\n",
              "    <tr>\n",
              "      <th>L1_AAACCCATCTTAAGGC</th>\n",
              "      <td>P2_3</td>\n",
              "      <td>L1</td>\n",
              "      <td>P2</td>\n",
              "      <td>3</td>\n",
              "      <td>CD4 T</td>\n",
              "      <td>CD4 CTL</td>\n",
              "      <td>CD4 CTL</td>\n",
              "      <td>S</td>\n",
              "    </tr>\n",
              "    <tr>\n",
              "      <th>L1_AAACGAAAGATAACAC</th>\n",
              "      <td>P2_3</td>\n",
              "      <td>L1</td>\n",
              "      <td>P2</td>\n",
              "      <td>3</td>\n",
              "      <td>B</td>\n",
              "      <td>B naive</td>\n",
              "      <td>B naive kappa</td>\n",
              "      <td>S</td>\n",
              "    </tr>\n",
              "  </tbody>\n",
              "</table>\n",
              "</div>\n",
              "      <button class=\"colab-df-convert\" onclick=\"convertToInteractive('df-b2afae53-fdff-49d8-a100-b422cf0bcb44')\"\n",
              "              title=\"Convert this dataframe to an interactive table.\"\n",
              "              style=\"display:none;\">\n",
              "        \n",
              "  <svg xmlns=\"http://www.w3.org/2000/svg\" height=\"24px\"viewBox=\"0 0 24 24\"\n",
              "       width=\"24px\">\n",
              "    <path d=\"M0 0h24v24H0V0z\" fill=\"none\"/>\n",
              "    <path d=\"M18.56 5.44l.94 2.06.94-2.06 2.06-.94-2.06-.94-.94-2.06-.94 2.06-2.06.94zm-11 1L8.5 8.5l.94-2.06 2.06-.94-2.06-.94L8.5 2.5l-.94 2.06-2.06.94zm10 10l.94 2.06.94-2.06 2.06-.94-2.06-.94-.94-2.06-.94 2.06-2.06.94z\"/><path d=\"M17.41 7.96l-1.37-1.37c-.4-.4-.92-.59-1.43-.59-.52 0-1.04.2-1.43.59L10.3 9.45l-7.72 7.72c-.78.78-.78 2.05 0 2.83L4 21.41c.39.39.9.59 1.41.59.51 0 1.02-.2 1.41-.59l7.78-7.78 2.81-2.81c.8-.78.8-2.07 0-2.86zM5.41 20L4 18.59l7.72-7.72 1.47 1.35L5.41 20z\"/>\n",
              "  </svg>\n",
              "      </button>\n",
              "      \n",
              "  <style>\n",
              "    .colab-df-container {\n",
              "      display:flex;\n",
              "      flex-wrap:wrap;\n",
              "      gap: 12px;\n",
              "    }\n",
              "\n",
              "    .colab-df-convert {\n",
              "      background-color: #E8F0FE;\n",
              "      border: none;\n",
              "      border-radius: 50%;\n",
              "      cursor: pointer;\n",
              "      display: none;\n",
              "      fill: #1967D2;\n",
              "      height: 32px;\n",
              "      padding: 0 0 0 0;\n",
              "      width: 32px;\n",
              "    }\n",
              "\n",
              "    .colab-df-convert:hover {\n",
              "      background-color: #E2EBFA;\n",
              "      box-shadow: 0px 1px 2px rgba(60, 64, 67, 0.3), 0px 1px 3px 1px rgba(60, 64, 67, 0.15);\n",
              "      fill: #174EA6;\n",
              "    }\n",
              "\n",
              "    [theme=dark] .colab-df-convert {\n",
              "      background-color: #3B4455;\n",
              "      fill: #D2E3FC;\n",
              "    }\n",
              "\n",
              "    [theme=dark] .colab-df-convert:hover {\n",
              "      background-color: #434B5C;\n",
              "      box-shadow: 0px 1px 3px 1px rgba(0, 0, 0, 0.15);\n",
              "      filter: drop-shadow(0px 1px 2px rgba(0, 0, 0, 0.3));\n",
              "      fill: #FFFFFF;\n",
              "    }\n",
              "  </style>\n",
              "\n",
              "      <script>\n",
              "        const buttonEl =\n",
              "          document.querySelector('#df-b2afae53-fdff-49d8-a100-b422cf0bcb44 button.colab-df-convert');\n",
              "        buttonEl.style.display =\n",
              "          google.colab.kernel.accessAllowed ? 'block' : 'none';\n",
              "\n",
              "        async function convertToInteractive(key) {\n",
              "          const element = document.querySelector('#df-b2afae53-fdff-49d8-a100-b422cf0bcb44');\n",
              "          const dataTable =\n",
              "            await google.colab.kernel.invokeFunction('convertToInteractive',\n",
              "                                                     [key], {});\n",
              "          if (!dataTable) return;\n",
              "\n",
              "          const docLinkHtml = 'Like what you see? Visit the ' +\n",
              "            '<a target=\"_blank\" href=https://colab.research.google.com/notebooks/data_table.ipynb>data table notebook</a>'\n",
              "            + ' to learn more about interactive tables.';\n",
              "          element.innerHTML = '';\n",
              "          dataTable['output_type'] = 'display_data';\n",
              "          await google.colab.output.renderOutput(dataTable, element);\n",
              "          const docLink = document.createElement('div');\n",
              "          docLink.innerHTML = docLinkHtml;\n",
              "          element.appendChild(docLink);\n",
              "        }\n",
              "      </script>\n",
              "    </div>\n",
              "  </div>\n",
              "  "
            ]
          },
          "metadata": {},
          "execution_count": 65
        }
      ]
    },
    {
      "cell_type": "markdown",
      "source": [
        "### DESeq2 с single cell данными"
      ],
      "metadata": {
        "id": "KtfV8MUlcbxN"
      }
    },
    {
      "cell_type": "markdown",
      "source": [
        "Напишем функцию-оболочку DESeq2, которая будет проводить анализ дифф. экспрессии c AnnData объектом. \n",
        "\n",
        "Вместо указания в аргументе функциии описания образцов добавил аргумент `formula`, который позволяет указывать на вход функции, какой будет дизайн у эксперимента."
      ],
      "metadata": {
        "id": "7UOLRT3FUunE"
      }
    },
    {
      "cell_type": "code",
      "execution_count": 142,
      "metadata": {
        "id": "6P7kSMtI82YF"
      },
      "outputs": [],
      "source": [
        "def deseq2(adata, formula, output_name='deseq2_output'):\n",
        "    '''\n",
        "    Wrapper function of DESeq2 R package, that compute differential expression by condition (formula).\n",
        "    ----------\n",
        "    adata : AnnData\n",
        "        Annotated data matrix.\n",
        "    formula : string\n",
        "        Formula for DESeq2 model\n",
        "    '''\n",
        "\n",
        "    # Import DESeq2 library from R to Python\n",
        "    deseq2 = importr(\"DESeq2\")\n",
        "\n",
        "    # Create DESeqDataSet from AnnData object\n",
        "    dds = deseq2.DESeqDataSetFromMatrix(countData=adata.X.T, \n",
        "                                        colData=adata.obs,\n",
        "                                        design=Formula(formula))\n",
        "    \n",
        "    # Evaluate differential expression by DESeq2 model\n",
        "    dds = deseq2.DESeq(dds)\n",
        "\n",
        "    # Write DESeq2 results into AnnData object    \n",
        "    adata.uns[\"deseq2\"] = dds\n",
        "\n",
        "    # Save DESeq2 output\n",
        "    save_deseq2_results(adata, output_name)"
      ]
    },
    {
      "cell_type": "markdown",
      "source": [
        "Сохранять DESeq2 результаты будем в виде двух файлов:\n",
        "1. `.rds` файл — в нем будет находиться `DESeqDataSet` объект с результатами DESeq2\n",
        "2. `.h5ad` файл — в нем будет сохранен изначальный `AnnData` объект.\n",
        "\n",
        "Выбрал такую логику сохранения, так как это позволяет работать с результатами дифф. экспрессии прямо в Python."
      ],
      "metadata": {
        "id": "zgEiTzslTo7C"
      }
    },
    {
      "cell_type": "code",
      "source": [
        "def save_deseq2_results(adata, output_name):\n",
        "    '''\n",
        "    This saves AnnData Object with DESeqDataSet object into two file:\n",
        "    .rds file (DESeqDataSet object) and\n",
        "    .h5ad file (AnnData object). \n",
        "    ----------\n",
        "    adata : AnnData\n",
        "        Annotated data matrix.\n",
        "    file_name : string\n",
        "        Save file name.\n",
        "    '''\n",
        "\n",
        "    # import saveRDS R library into Python\n",
        "    saveRDS = ro.r['saveRDS']\n",
        "\n",
        "    # Save R DESeqDataSet object with DESeq2 results into .rds file\n",
        "    saveRDS(adata.uns[\"deseq2\"], f'{output_name}.rds')\n",
        "\n",
        "    del adata.uns[\"deseq2\"]\n",
        "\n",
        "    # Save Python object AnnData object without DESeq2 results into .h5ad file\n",
        "    adata.write(f'{output_name}.h5ad')"
      ],
      "metadata": {
        "id": "JrSR7KC0IuFL"
      },
      "execution_count": 132,
      "outputs": []
    },
    {
      "cell_type": "code",
      "source": [
        "formula = '~ donor'"
      ],
      "metadata": {
        "id": "4SiTgxW184Bt"
      },
      "execution_count": 133,
      "outputs": []
    },
    {
      "cell_type": "code",
      "source": [
        "deseq2(adata, formula)"
      ],
      "metadata": {
        "id": "qBvY8omi63eZ"
      },
      "execution_count": null,
      "outputs": []
    },
    {
      "cell_type": "markdown",
      "source": [
        "Напишем функцию для чтения результатов DESeq2."
      ],
      "metadata": {
        "id": "eYj6tGuLWtn_"
      }
    },
    {
      "cell_type": "code",
      "source": [
        "def read_deseq2_output(output_name):\n",
        "    '''\n",
        "    This reads DESeqDataSet object and AnnData object and returns AnnData Object with DESeq2 results.\n",
        "    ----------\n",
        "    adata : AnnData\n",
        "        Annotated data matrix.\n",
        "    file_name : string\n",
        "        Save file name.\n",
        "    '''\n",
        "\n",
        "    # Read .h5ad file with AnnData object\n",
        "    adata = sc.read(f'{output_name}.h5ad')\n",
        "\n",
        "    # Import readRDS library\n",
        "    readRDS = ro.r['readRDS']\n",
        "\n",
        "    # Read .rds file and add it into AnnData object\n",
        "    adata.uns[\"deseq2\"] = readRDS(f'{output_name}.rds')\n",
        "\n",
        "    return adata"
      ],
      "metadata": {
        "id": "Hf1DRyDrPvRe"
      },
      "execution_count": 85,
      "outputs": []
    },
    {
      "cell_type": "code",
      "source": [
        "adata_with_deseq2 = read_deseq2_output('deseq2_output')"
      ],
      "metadata": {
        "id": "ORddABbGP9bQ"
      },
      "execution_count": 135,
      "outputs": []
    },
    {
      "cell_type": "code",
      "source": [
        "dds = adata_with_deseq2.uns['deseq2']"
      ],
      "metadata": {
        "id": "j75KZ7CYWa2u"
      },
      "execution_count": 140,
      "outputs": []
    },
    {
      "cell_type": "code",
      "source": [
        "%%R -i dds\n",
        "\n",
        "dds <- dds[rowSums(counts(dds, normalized = TRUE)) >= 100,]\n",
        "head(results(dds))"
      ],
      "metadata": {
        "colab": {
          "base_uri": "https://localhost:8080/"
        },
        "id": "nyzhiCztZKRS",
        "outputId": "88a64762-c855-4ecd-bc9d-0289520ca92e"
      },
      "execution_count": 143,
      "outputs": [
        {
          "output_type": "stream",
          "name": "stdout",
          "text": [
            "log2 fold change (MLE): donor P3 vs P1 \n",
            "Wald test p-value: donor P3 vs P1 \n",
            "DataFrame with 6 rows and 6 columns\n",
            "   baseMean log2FoldChange     lfcSE      stat    pvalue      padj\n",
            "  <numeric>      <numeric> <numeric> <numeric> <numeric> <numeric>\n",
            "1  12.03048      -0.285783  0.412257 -0.693215  0.488174  0.834904\n",
            "2  33.65125      -0.176118  0.255475 -0.689376  0.490587  0.834904\n",
            "3   6.50988       0.336214  0.680931  0.493756  0.621479  0.894489\n",
            "4   7.30482       0.258107  0.531374  0.485736  0.627154  0.894489\n",
            "5  25.71418      -0.129026  0.302716 -0.426229  0.669941  0.894489\n",
            "6  15.91041      -0.321414  0.362301 -0.887147  0.375000  0.792609\n"
          ]
        }
      ]
    }
  ]
}