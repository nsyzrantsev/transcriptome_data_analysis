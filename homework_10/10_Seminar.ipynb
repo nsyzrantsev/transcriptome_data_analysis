{
  "nbformat": 4,
  "nbformat_minor": 0,
  "metadata": {
    "colab": {
      "provenance": []
    },
    "kernelspec": {
      "name": "python3",
      "display_name": "Python 3"
    },
    "language_info": {
      "name": "python"
    }
  },
  "cells": [
    {
      "cell_type": "markdown",
      "source": [
        "## Домашнее задание\n",
        "\n",
        "Первым делом загрузим необходимые библиотеки для Python и R"
      ],
      "metadata": {
        "id": "1vhzaw2sJQ3a"
      }
    },
    {
      "cell_type": "code",
      "execution_count": null,
      "metadata": {
        "colab": {
          "base_uri": "https://localhost:8080/",
          "height": 1000
        },
        "id": "vutQ7AgNsnat",
        "outputId": "c4f5329b-421c-4cd6-d07b-1d406169d598"
      },
      "outputs": [
        {
          "output_type": "stream",
          "name": "stdout",
          "text": [
            "Looking in indexes: https://pypi.org/simple, https://us-python.pkg.dev/colab-wheels/public/simple/\n",
            "Collecting scanpy[leiden]\n",
            "  Downloading scanpy-1.9.1-py3-none-any.whl (2.0 MB)\n",
            "\u001b[2K     \u001b[90m━━━━━━━━━━━━━━━━━━━━━━━━━━━━━━━━━━━━━━━━\u001b[0m \u001b[32m2.0/2.0 MB\u001b[0m \u001b[31m32.9 MB/s\u001b[0m eta \u001b[36m0:00:00\u001b[0m\n",
            "\u001b[?25hCollecting anndata2ri\n",
            "  Downloading anndata2ri-1.1-py3-none-any.whl (25 kB)\n",
            "Collecting scikit-misc\n",
            "  Downloading scikit_misc-0.1.4-cp38-cp38-manylinux_2_5_x86_64.manylinux1_x86_64.whl (8.8 MB)\n",
            "\u001b[2K     \u001b[90m━━━━━━━━━━━━━━━━━━━━━━━━━━━━━━━━━━━━━━━━\u001b[0m \u001b[32m8.8/8.8 MB\u001b[0m \u001b[31m76.5 MB/s\u001b[0m eta \u001b[36m0:00:00\u001b[0m\n",
            "\u001b[?25hCollecting scvi-tools\n",
            "  Downloading scvi_tools-0.19.0-py3-none-any.whl (296 kB)\n",
            "\u001b[2K     \u001b[90m━━━━━━━━━━━━━━━━━━━━━━━━━━━━━━━━━━━━━━\u001b[0m \u001b[32m296.4/296.4 KB\u001b[0m \u001b[31m29.1 MB/s\u001b[0m eta \u001b[36m0:00:00\u001b[0m\n",
            "\u001b[?25hCollecting rpy2==3.5.1\n",
            "  Downloading rpy2-3.5.1.tar.gz (201 kB)\n",
            "\u001b[2K     \u001b[90m━━━━━━━━━━━━━━━━━━━━━━━━━━━━━━━━━━━━━━\u001b[0m \u001b[32m201.7/201.7 KB\u001b[0m \u001b[31m23.6 MB/s\u001b[0m eta \u001b[36m0:00:00\u001b[0m\n",
            "\u001b[?25h  Preparing metadata (setup.py) ... \u001b[?25l\u001b[?25hdone\n",
            "Requirement already satisfied: cffi>=1.10.0 in /usr/local/lib/python3.8/dist-packages (from rpy2==3.5.1) (1.15.1)\n",
            "Requirement already satisfied: jinja2 in /usr/local/lib/python3.8/dist-packages (from rpy2==3.5.1) (2.11.3)\n",
            "Requirement already satisfied: pytz in /usr/local/lib/python3.8/dist-packages (from rpy2==3.5.1) (2022.7)\n",
            "Requirement already satisfied: tzlocal in /usr/local/lib/python3.8/dist-packages (from rpy2==3.5.1) (1.5.1)\n",
            "Requirement already satisfied: scipy>=1.4 in /usr/local/lib/python3.8/dist-packages (from scanpy[leiden]) (1.7.3)\n",
            "Requirement already satisfied: numba>=0.41.0 in /usr/local/lib/python3.8/dist-packages (from scanpy[leiden]) (0.56.4)\n",
            "Requirement already satisfied: packaging in /usr/local/lib/python3.8/dist-packages (from scanpy[leiden]) (21.3)\n",
            "Requirement already satisfied: seaborn in /usr/local/lib/python3.8/dist-packages (from scanpy[leiden]) (0.11.2)\n",
            "Collecting session-info\n",
            "  Downloading session_info-1.0.0.tar.gz (24 kB)\n",
            "  Preparing metadata (setup.py) ... \u001b[?25l\u001b[?25hdone\n",
            "Requirement already satisfied: tqdm in /usr/local/lib/python3.8/dist-packages (from scanpy[leiden]) (4.64.1)\n",
            "Requirement already satisfied: patsy in /usr/local/lib/python3.8/dist-packages (from scanpy[leiden]) (0.5.3)\n",
            "Requirement already satisfied: natsort in /usr/local/lib/python3.8/dist-packages (from scanpy[leiden]) (5.5.0)\n",
            "Requirement already satisfied: numpy>=1.17.0 in /usr/local/lib/python3.8/dist-packages (from scanpy[leiden]) (1.21.6)\n",
            "Collecting anndata>=0.7.4\n",
            "  Downloading anndata-0.8.0-py3-none-any.whl (96 kB)\n",
            "\u001b[2K     \u001b[90m━━━━━━━━━━━━━━━━━━━━━━━━━━━━━━━━━━━━━━━━\u001b[0m \u001b[32m96.1/96.1 KB\u001b[0m \u001b[31m10.9 MB/s\u001b[0m eta \u001b[36m0:00:00\u001b[0m\n",
            "\u001b[?25hCollecting matplotlib>=3.4\n",
            "  Downloading matplotlib-3.6.2-cp38-cp38-manylinux_2_12_x86_64.manylinux2010_x86_64.whl (9.4 MB)\n",
            "\u001b[2K     \u001b[90m━━━━━━━━━━━━━━━━━━━━━━━━━━━━━━━━━━━━━━━━\u001b[0m \u001b[32m9.4/9.4 MB\u001b[0m \u001b[31m70.6 MB/s\u001b[0m eta \u001b[36m0:00:00\u001b[0m\n",
            "\u001b[?25hRequirement already satisfied: h5py>=3 in /usr/local/lib/python3.8/dist-packages (from scanpy[leiden]) (3.1.0)\n",
            "Requirement already satisfied: joblib in /usr/local/lib/python3.8/dist-packages (from scanpy[leiden]) (1.2.0)\n",
            "Requirement already satisfied: scikit-learn>=0.22 in /usr/local/lib/python3.8/dist-packages (from scanpy[leiden]) (1.0.2)\n",
            "Requirement already satisfied: statsmodels>=0.10.0rc2 in /usr/local/lib/python3.8/dist-packages (from scanpy[leiden]) (0.12.2)\n",
            "Collecting umap-learn>=0.3.10\n",
            "  Downloading umap-learn-0.5.3.tar.gz (88 kB)\n",
            "\u001b[2K     \u001b[90m━━━━━━━━━━━━━━━━━━━━━━━━━━━━━━━━━━━━━━━━\u001b[0m \u001b[32m88.2/88.2 KB\u001b[0m \u001b[31m10.3 MB/s\u001b[0m eta \u001b[36m0:00:00\u001b[0m\n",
            "\u001b[?25h  Preparing metadata (setup.py) ... \u001b[?25l\u001b[?25hdone\n",
            "Requirement already satisfied: networkx>=2.3 in /usr/local/lib/python3.8/dist-packages (from scanpy[leiden]) (2.8.8)\n",
            "Requirement already satisfied: pandas>=1.0 in /usr/local/lib/python3.8/dist-packages (from scanpy[leiden]) (1.3.5)\n",
            "Collecting leidenalg\n",
            "  Downloading leidenalg-0.9.1-cp38-cp38-manylinux_2_17_x86_64.manylinux2014_x86_64.whl (1.3 MB)\n",
            "\u001b[2K     \u001b[90m━━━━━━━━━━━━━━━━━━━━━━━━━━━━━━━━━━━━━━━━\u001b[0m \u001b[32m1.3/1.3 MB\u001b[0m \u001b[31m62.3 MB/s\u001b[0m eta \u001b[36m0:00:00\u001b[0m\n",
            "\u001b[?25hCollecting python-igraph\n",
            "  Downloading python-igraph-0.10.3.tar.gz (9.5 kB)\n",
            "  Preparing metadata (setup.py) ... \u001b[?25l\u001b[?25hdone\n",
            "Collecting get-version\n",
            "  Downloading get_version-3.5.4-py3-none-any.whl (18 kB)\n",
            "Collecting flax\n",
            "  Downloading flax-0.6.3-py3-none-any.whl (197 kB)\n",
            "\u001b[2K     \u001b[90m━━━━━━━━━━━━━━━━━━━━━━━━━━━━━━━━━━━━━━\u001b[0m \u001b[32m197.4/197.4 KB\u001b[0m \u001b[31m20.2 MB/s\u001b[0m eta \u001b[36m0:00:00\u001b[0m\n",
            "\u001b[?25hCollecting rich>=9.1.0\n",
            "  Downloading rich-13.0.0-py3-none-any.whl (238 kB)\n",
            "\u001b[2K     \u001b[90m━━━━━━━━━━━━━━━━━━━━━━━━━━━━━━━━━━━━━━\u001b[0m \u001b[32m238.1/238.1 KB\u001b[0m \u001b[31m22.4 MB/s\u001b[0m eta \u001b[36m0:00:00\u001b[0m\n",
            "\u001b[?25hCollecting torchmetrics>=0.6.0\n",
            "  Downloading torchmetrics-0.11.0-py3-none-any.whl (512 kB)\n",
            "\u001b[2K     \u001b[90m━━━━━━━━━━━━━━━━━━━━━━━━━━━━━━━━━━━━━━\u001b[0m \u001b[32m512.4/512.4 KB\u001b[0m \u001b[31m36.7 MB/s\u001b[0m eta \u001b[36m0:00:00\u001b[0m\n",
            "\u001b[?25hCollecting chex\n",
            "  Downloading chex-0.1.5-py3-none-any.whl (85 kB)\n",
            "\u001b[2K     \u001b[90m━━━━━━━━━━━━━━━━━━━━━━━━━━━━━━━━━━━━━━━━\u001b[0m \u001b[32m85.3/85.3 KB\u001b[0m \u001b[31m9.3 MB/s\u001b[0m eta \u001b[36m0:00:00\u001b[0m\n",
            "\u001b[?25hCollecting optax\n",
            "  Downloading optax-0.1.4-py3-none-any.whl (154 kB)\n",
            "\u001b[2K     \u001b[90m━━━━━━━━━━━━━━━━━━━━━━━━━━━━━━━━━━━━━━\u001b[0m \u001b[32m154.9/154.9 KB\u001b[0m \u001b[31m18.1 MB/s\u001b[0m eta \u001b[36m0:00:00\u001b[0m\n",
            "\u001b[?25hCollecting numpyro\n",
            "  Downloading numpyro-0.10.1-py3-none-any.whl (292 kB)\n",
            "\u001b[2K     \u001b[90m━━━━━━━━━━━━━━━━━━━━━━━━━━━━━━━━━━━━━━\u001b[0m \u001b[32m292.7/292.7 KB\u001b[0m \u001b[31m28.0 MB/s\u001b[0m eta \u001b[36m0:00:00\u001b[0m\n",
            "\u001b[?25hRequirement already satisfied: openpyxl>=3.0 in /usr/local/lib/python3.8/dist-packages (from scvi-tools) (3.0.10)\n",
            "Collecting pytorch-lightning<1.8,>=1.7.0\n",
            "  Downloading pytorch_lightning-1.7.7-py3-none-any.whl (708 kB)\n",
            "\u001b[2K     \u001b[90m━━━━━━━━━━━━━━━━━━━━━━━━━━━━━━━━━━━━━━\u001b[0m \u001b[32m708.1/708.1 KB\u001b[0m \u001b[31m48.1 MB/s\u001b[0m eta \u001b[36m0:00:00\u001b[0m\n",
            "\u001b[?25hRequirement already satisfied: torch>=1.8.0 in /usr/local/lib/python3.8/dist-packages (from scvi-tools) (1.13.0+cu116)\n",
            "Requirement already satisfied: jax>=0.3 in /usr/local/lib/python3.8/dist-packages (from scvi-tools) (0.3.25)\n",
            "Collecting ml-collections>=0.1.1\n",
            "  Downloading ml_collections-0.1.1.tar.gz (77 kB)\n",
            "\u001b[2K     \u001b[90m━━━━━━━━━━━━━━━━━━━━━━━━━━━━━━━━━━━━━━━━\u001b[0m \u001b[32m77.9/77.9 KB\u001b[0m \u001b[31m8.4 MB/s\u001b[0m eta \u001b[36m0:00:00\u001b[0m\n",
            "\u001b[?25h  Preparing metadata (setup.py) ... \u001b[?25l\u001b[?25hdone\n",
            "Collecting pyro-ppl>=1.6.0\n",
            "  Downloading pyro_ppl-1.8.4-py3-none-any.whl (730 kB)\n",
            "\u001b[2K     \u001b[90m━━━━━━━━━━━━━━━━━━━━━━━━━━━━━━━━━━━━━━\u001b[0m \u001b[32m730.7/730.7 KB\u001b[0m \u001b[31m49.4 MB/s\u001b[0m eta \u001b[36m0:00:00\u001b[0m\n",
            "\u001b[?25hCollecting docrep>=0.3.2\n",
            "  Downloading docrep-0.3.2.tar.gz (33 kB)\n",
            "  Preparing metadata (setup.py) ... \u001b[?25l\u001b[?25hdone\n",
            "Requirement already satisfied: jaxlib in /usr/local/lib/python3.8/dist-packages (from scvi-tools) (0.3.25+cuda11.cudnn805)\n",
            "Collecting mudata>=0.1.2\n",
            "  Downloading mudata-0.2.1-py3-none-any.whl (23 kB)\n",
            "Requirement already satisfied: ipywidgets in /usr/local/lib/python3.8/dist-packages (from scvi-tools) (7.7.1)\n",
            "Requirement already satisfied: pycparser in /usr/local/lib/python3.8/dist-packages (from cffi>=1.10.0->rpy2==3.5.1) (2.21)\n",
            "Requirement already satisfied: six in /usr/local/lib/python3.8/dist-packages (from docrep>=0.3.2->scvi-tools) (1.15.0)\n",
            "Requirement already satisfied: opt-einsum in /usr/local/lib/python3.8/dist-packages (from jax>=0.3->scvi-tools) (3.3.0)\n",
            "Requirement already satisfied: typing-extensions in /usr/local/lib/python3.8/dist-packages (from jax>=0.3->scvi-tools) (4.4.0)\n",
            "Requirement already satisfied: cycler>=0.10 in /usr/local/lib/python3.8/dist-packages (from matplotlib>=3.4->scanpy[leiden]) (0.11.0)\n",
            "Requirement already satisfied: pillow>=6.2.0 in /usr/local/lib/python3.8/dist-packages (from matplotlib>=3.4->scanpy[leiden]) (7.1.2)\n",
            "Requirement already satisfied: pyparsing>=2.2.1 in /usr/local/lib/python3.8/dist-packages (from matplotlib>=3.4->scanpy[leiden]) (3.0.9)\n",
            "Requirement already satisfied: python-dateutil>=2.7 in /usr/local/lib/python3.8/dist-packages (from matplotlib>=3.4->scanpy[leiden]) (2.8.2)\n",
            "Collecting contourpy>=1.0.1\n",
            "  Downloading contourpy-1.0.6-cp38-cp38-manylinux_2_17_x86_64.manylinux2014_x86_64.whl (295 kB)\n",
            "\u001b[2K     \u001b[90m━━━━━━━━━━━━━━━━━━━━━━━━━━━━━━━━━━━━━━\u001b[0m \u001b[32m296.0/296.0 KB\u001b[0m \u001b[31m30.1 MB/s\u001b[0m eta \u001b[36m0:00:00\u001b[0m\n",
            "\u001b[?25hCollecting fonttools>=4.22.0\n",
            "  Downloading fonttools-4.38.0-py3-none-any.whl (965 kB)\n",
            "\u001b[2K     \u001b[90m━━━━━━━━━━━━━━━━━━━━━━━━━━━━━━━━━━━━━━\u001b[0m \u001b[32m965.4/965.4 KB\u001b[0m \u001b[31m23.5 MB/s\u001b[0m eta \u001b[36m0:00:00\u001b[0m\n",
            "\u001b[?25hRequirement already satisfied: kiwisolver>=1.0.1 in /usr/local/lib/python3.8/dist-packages (from matplotlib>=3.4->scanpy[leiden]) (1.4.4)\n",
            "Requirement already satisfied: absl-py in /usr/local/lib/python3.8/dist-packages (from ml-collections>=0.1.1->scvi-tools) (1.3.0)\n",
            "Requirement already satisfied: PyYAML in /usr/local/lib/python3.8/dist-packages (from ml-collections>=0.1.1->scvi-tools) (6.0)\n",
            "Requirement already satisfied: contextlib2 in /usr/local/lib/python3.8/dist-packages (from ml-collections>=0.1.1->scvi-tools) (0.5.5)\n",
            "Requirement already satisfied: llvmlite<0.40,>=0.39.0dev0 in /usr/local/lib/python3.8/dist-packages (from numba>=0.41.0->scanpy[leiden]) (0.39.1)\n",
            "Requirement already satisfied: importlib-metadata in /usr/local/lib/python3.8/dist-packages (from numba>=0.41.0->scanpy[leiden]) (5.2.0)\n",
            "Requirement already satisfied: setuptools in /usr/local/lib/python3.8/dist-packages (from numba>=0.41.0->scanpy[leiden]) (57.4.0)\n",
            "Requirement already satisfied: et-xmlfile in /usr/local/lib/python3.8/dist-packages (from openpyxl>=3.0->scvi-tools) (1.1.0)\n",
            "Collecting pyro-api>=0.1.1\n",
            "  Downloading pyro_api-0.1.2-py3-none-any.whl (11 kB)\n",
            "Requirement already satisfied: fsspec[http]!=2021.06.0,>=2021.05.0 in /usr/local/lib/python3.8/dist-packages (from pytorch-lightning<1.8,>=1.7.0->scvi-tools) (2022.11.0)\n",
            "Requirement already satisfied: tensorboard>=2.9.1 in /usr/local/lib/python3.8/dist-packages (from pytorch-lightning<1.8,>=1.7.0->scvi-tools) (2.9.1)\n",
            "Collecting pyDeprecate>=0.3.1\n",
            "  Downloading pyDeprecate-0.3.2-py3-none-any.whl (10 kB)\n",
            "Requirement already satisfied: pygments<3.0.0,>=2.6.0 in /usr/local/lib/python3.8/dist-packages (from rich>=9.1.0->scvi-tools) (2.6.1)\n",
            "Collecting commonmark<0.10.0,>=0.9.0\n",
            "  Downloading commonmark-0.9.1-py2.py3-none-any.whl (51 kB)\n",
            "\u001b[2K     \u001b[90m━━━━━━━━━━━━━━━━━━━━━━━━━━━━━━━━━━━━━━━━\u001b[0m \u001b[32m51.1/51.1 KB\u001b[0m \u001b[31m5.8 MB/s\u001b[0m eta \u001b[36m0:00:00\u001b[0m\n",
            "\u001b[?25hRequirement already satisfied: threadpoolctl>=2.0.0 in /usr/local/lib/python3.8/dist-packages (from scikit-learn>=0.22->scanpy[leiden]) (3.1.0)\n",
            "Collecting pynndescent>=0.5\n",
            "  Downloading pynndescent-0.5.8.tar.gz (1.1 MB)\n",
            "\u001b[2K     \u001b[90m━━━━━━━━━━━━━━━━━━━━━━━━━━━━━━━━━━━━━━━━\u001b[0m \u001b[32m1.1/1.1 MB\u001b[0m \u001b[31m63.7 MB/s\u001b[0m eta \u001b[36m0:00:00\u001b[0m\n",
            "\u001b[?25h  Preparing metadata (setup.py) ... \u001b[?25l\u001b[?25hdone\n",
            "Requirement already satisfied: dm-tree>=0.1.5 in /usr/local/lib/python3.8/dist-packages (from chex->scvi-tools) (0.1.8)\n",
            "Requirement already satisfied: toolz>=0.9.0 in /usr/local/lib/python3.8/dist-packages (from chex->scvi-tools) (0.12.0)\n",
            "Collecting tensorstore\n",
            "  Downloading tensorstore-0.1.28-cp38-cp38-manylinux_2_17_x86_64.manylinux2014_x86_64.whl (8.3 MB)\n",
            "\u001b[2K     \u001b[90m━━━━━━━━━━━━━━━━━━━━━━━━━━━━━━━━━━━━━━━━\u001b[0m \u001b[32m8.3/8.3 MB\u001b[0m \u001b[31m85.6 MB/s\u001b[0m eta \u001b[36m0:00:00\u001b[0m\n",
            "\u001b[?25hCollecting orbax\n",
            "  Downloading orbax-0.1.0-py3-none-any.whl (66 kB)\n",
            "\u001b[2K     \u001b[90m━━━━━━━━━━━━━━━━━━━━━━━━━━━━━━━━━━━━━━━━\u001b[0m \u001b[32m67.0/67.0 KB\u001b[0m \u001b[31m7.6 MB/s\u001b[0m eta \u001b[36m0:00:00\u001b[0m\n",
            "\u001b[?25hRequirement already satisfied: msgpack in /usr/local/lib/python3.8/dist-packages (from flax->scvi-tools) (1.0.4)\n",
            "Collecting dunamai\n",
            "  Downloading dunamai-1.15.0-py3-none-any.whl (23 kB)\n",
            "Requirement already satisfied: jupyterlab-widgets>=1.0.0 in /usr/local/lib/python3.8/dist-packages (from ipywidgets->scvi-tools) (3.0.5)\n",
            "Requirement already satisfied: ipython>=4.0.0 in /usr/local/lib/python3.8/dist-packages (from ipywidgets->scvi-tools) (7.9.0)\n",
            "Requirement already satisfied: widgetsnbextension~=3.6.0 in /usr/local/lib/python3.8/dist-packages (from ipywidgets->scvi-tools) (3.6.1)\n",
            "Requirement already satisfied: traitlets>=4.3.1 in /usr/local/lib/python3.8/dist-packages (from ipywidgets->scvi-tools) (5.7.1)\n",
            "Requirement already satisfied: ipython-genutils~=0.2.0 in /usr/local/lib/python3.8/dist-packages (from ipywidgets->scvi-tools) (0.2.0)\n",
            "Requirement already satisfied: ipykernel>=4.5.1 in /usr/local/lib/python3.8/dist-packages (from ipywidgets->scvi-tools) (5.3.4)\n",
            "Requirement already satisfied: MarkupSafe>=0.23 in /usr/local/lib/python3.8/dist-packages (from jinja2->rpy2==3.5.1) (2.0.1)\n",
            "Collecting igraph<0.11,>=0.10.0\n",
            "  Downloading igraph-0.10.3-cp38-cp38-manylinux_2_17_x86_64.manylinux2014_x86_64.whl (3.3 MB)\n",
            "\u001b[2K     \u001b[90m━━━━━━━━━━━━━━━━━━━━━━━━━━━━━━━━━━━━━━━━\u001b[0m \u001b[32m3.3/3.3 MB\u001b[0m \u001b[31m63.3 MB/s\u001b[0m eta \u001b[36m0:00:00\u001b[0m\n",
            "\u001b[?25hRequirement already satisfied: multipledispatch in /usr/local/lib/python3.8/dist-packages (from numpyro->scvi-tools) (0.6.0)\n",
            "Collecting texttable>=1.6.2\n",
            "  Downloading texttable-1.6.7-py2.py3-none-any.whl (10 kB)\n",
            "Collecting stdlib_list\n",
            "  Downloading stdlib_list-0.8.0-py3-none-any.whl (63 kB)\n",
            "\u001b[2K     \u001b[90m━━━━━━━━━━━━━━━━━━━━━━━━━━━━━━━━━━━━━━━━\u001b[0m \u001b[32m63.5/63.5 KB\u001b[0m \u001b[31m7.7 MB/s\u001b[0m eta \u001b[36m0:00:00\u001b[0m\n",
            "\u001b[?25hRequirement already satisfied: aiohttp!=4.0.0a0,!=4.0.0a1 in /usr/local/lib/python3.8/dist-packages (from fsspec[http]!=2021.06.0,>=2021.05.0->pytorch-lightning<1.8,>=1.7.0->scvi-tools) (3.8.3)\n",
            "Requirement already satisfied: requests in /usr/local/lib/python3.8/dist-packages (from fsspec[http]!=2021.06.0,>=2021.05.0->pytorch-lightning<1.8,>=1.7.0->scvi-tools) (2.25.1)\n",
            "Requirement already satisfied: tornado>=4.2 in /usr/local/lib/python3.8/dist-packages (from ipykernel>=4.5.1->ipywidgets->scvi-tools) (6.0.4)\n",
            "Requirement already satisfied: jupyter-client in /usr/local/lib/python3.8/dist-packages (from ipykernel>=4.5.1->ipywidgets->scvi-tools) (6.1.12)\n",
            "Requirement already satisfied: prompt-toolkit<2.1.0,>=2.0.0 in /usr/local/lib/python3.8/dist-packages (from ipython>=4.0.0->ipywidgets->scvi-tools) (2.0.10)\n",
            "Requirement already satisfied: decorator in /usr/local/lib/python3.8/dist-packages (from ipython>=4.0.0->ipywidgets->scvi-tools) (4.4.2)\n",
            "Requirement already satisfied: pickleshare in /usr/local/lib/python3.8/dist-packages (from ipython>=4.0.0->ipywidgets->scvi-tools) (0.7.5)\n",
            "Requirement already satisfied: backcall in /usr/local/lib/python3.8/dist-packages (from ipython>=4.0.0->ipywidgets->scvi-tools) (0.2.0)\n",
            "Collecting jedi>=0.10\n",
            "  Downloading jedi-0.18.2-py2.py3-none-any.whl (1.6 MB)\n",
            "\u001b[2K     \u001b[90m━━━━━━━━━━━━━━━━━━━━━━━━━━━━━━━━━━━━━━━━\u001b[0m \u001b[32m1.6/1.6 MB\u001b[0m \u001b[31m65.0 MB/s\u001b[0m eta \u001b[36m0:00:00\u001b[0m\n",
            "\u001b[?25hRequirement already satisfied: pexpect in /usr/local/lib/python3.8/dist-packages (from ipython>=4.0.0->ipywidgets->scvi-tools) (4.8.0)\n",
            "Requirement already satisfied: wheel>=0.26 in /usr/local/lib/python3.8/dist-packages (from tensorboard>=2.9.1->pytorch-lightning<1.8,>=1.7.0->scvi-tools) (0.38.4)\n",
            "Requirement already satisfied: werkzeug>=1.0.1 in /usr/local/lib/python3.8/dist-packages (from tensorboard>=2.9.1->pytorch-lightning<1.8,>=1.7.0->scvi-tools) (1.0.1)\n",
            "Requirement already satisfied: google-auth<3,>=1.6.3 in /usr/local/lib/python3.8/dist-packages (from tensorboard>=2.9.1->pytorch-lightning<1.8,>=1.7.0->scvi-tools) (2.15.0)\n",
            "Requirement already satisfied: markdown>=2.6.8 in /usr/local/lib/python3.8/dist-packages (from tensorboard>=2.9.1->pytorch-lightning<1.8,>=1.7.0->scvi-tools) (3.4.1)\n",
            "Requirement already satisfied: tensorboard-plugin-wit>=1.6.0 in /usr/local/lib/python3.8/dist-packages (from tensorboard>=2.9.1->pytorch-lightning<1.8,>=1.7.0->scvi-tools) (1.8.1)\n",
            "Requirement already satisfied: grpcio>=1.24.3 in /usr/local/lib/python3.8/dist-packages (from tensorboard>=2.9.1->pytorch-lightning<1.8,>=1.7.0->scvi-tools) (1.51.1)\n",
            "Requirement already satisfied: protobuf<3.20,>=3.9.2 in /usr/local/lib/python3.8/dist-packages (from tensorboard>=2.9.1->pytorch-lightning<1.8,>=1.7.0->scvi-tools) (3.19.6)\n",
            "Requirement already satisfied: google-auth-oauthlib<0.5,>=0.4.1 in /usr/local/lib/python3.8/dist-packages (from tensorboard>=2.9.1->pytorch-lightning<1.8,>=1.7.0->scvi-tools) (0.4.6)\n",
            "Requirement already satisfied: tensorboard-data-server<0.7.0,>=0.6.0 in /usr/local/lib/python3.8/dist-packages (from tensorboard>=2.9.1->pytorch-lightning<1.8,>=1.7.0->scvi-tools) (0.6.1)\n",
            "Requirement already satisfied: notebook>=4.4.1 in /usr/local/lib/python3.8/dist-packages (from widgetsnbextension~=3.6.0->ipywidgets->scvi-tools) (5.7.16)\n",
            "Requirement already satisfied: zipp>=0.5 in /usr/local/lib/python3.8/dist-packages (from importlib-metadata->numba>=0.41.0->scanpy[leiden]) (3.11.0)\n",
            "Requirement already satisfied: etils in /usr/local/lib/python3.8/dist-packages (from orbax->flax->scvi-tools) (0.9.0)\n",
            "Requirement already satisfied: pytest in /usr/local/lib/python3.8/dist-packages (from orbax->flax->scvi-tools) (3.6.4)\n",
            "Requirement already satisfied: importlib_resources in /usr/local/lib/python3.8/dist-packages (from orbax->flax->scvi-tools) (5.10.1)\n",
            "Collecting cached_property\n",
            "  Downloading cached_property-1.5.2-py2.py3-none-any.whl (7.6 kB)\n",
            "Requirement already satisfied: charset-normalizer<3.0,>=2.0 in /usr/local/lib/python3.8/dist-packages (from aiohttp!=4.0.0a0,!=4.0.0a1->fsspec[http]!=2021.06.0,>=2021.05.0->pytorch-lightning<1.8,>=1.7.0->scvi-tools) (2.1.1)\n",
            "Requirement already satisfied: yarl<2.0,>=1.0 in /usr/local/lib/python3.8/dist-packages (from aiohttp!=4.0.0a0,!=4.0.0a1->fsspec[http]!=2021.06.0,>=2021.05.0->pytorch-lightning<1.8,>=1.7.0->scvi-tools) (1.8.2)\n",
            "Requirement already satisfied: aiosignal>=1.1.2 in /usr/local/lib/python3.8/dist-packages (from aiohttp!=4.0.0a0,!=4.0.0a1->fsspec[http]!=2021.06.0,>=2021.05.0->pytorch-lightning<1.8,>=1.7.0->scvi-tools) (1.3.1)\n",
            "Requirement already satisfied: async-timeout<5.0,>=4.0.0a3 in /usr/local/lib/python3.8/dist-packages (from aiohttp!=4.0.0a0,!=4.0.0a1->fsspec[http]!=2021.06.0,>=2021.05.0->pytorch-lightning<1.8,>=1.7.0->scvi-tools) (4.0.2)\n",
            "Requirement already satisfied: frozenlist>=1.1.1 in /usr/local/lib/python3.8/dist-packages (from aiohttp!=4.0.0a0,!=4.0.0a1->fsspec[http]!=2021.06.0,>=2021.05.0->pytorch-lightning<1.8,>=1.7.0->scvi-tools) (1.3.3)\n",
            "Requirement already satisfied: multidict<7.0,>=4.5 in /usr/local/lib/python3.8/dist-packages (from aiohttp!=4.0.0a0,!=4.0.0a1->fsspec[http]!=2021.06.0,>=2021.05.0->pytorch-lightning<1.8,>=1.7.0->scvi-tools) (6.0.3)\n",
            "Requirement already satisfied: attrs>=17.3.0 in /usr/local/lib/python3.8/dist-packages (from aiohttp!=4.0.0a0,!=4.0.0a1->fsspec[http]!=2021.06.0,>=2021.05.0->pytorch-lightning<1.8,>=1.7.0->scvi-tools) (22.2.0)\n",
            "Requirement already satisfied: cachetools<6.0,>=2.0.0 in /usr/local/lib/python3.8/dist-packages (from google-auth<3,>=1.6.3->tensorboard>=2.9.1->pytorch-lightning<1.8,>=1.7.0->scvi-tools) (5.2.0)\n",
            "Requirement already satisfied: pyasn1-modules>=0.2.1 in /usr/local/lib/python3.8/dist-packages (from google-auth<3,>=1.6.3->tensorboard>=2.9.1->pytorch-lightning<1.8,>=1.7.0->scvi-tools) (0.2.8)\n",
            "Requirement already satisfied: rsa<5,>=3.1.4 in /usr/local/lib/python3.8/dist-packages (from google-auth<3,>=1.6.3->tensorboard>=2.9.1->pytorch-lightning<1.8,>=1.7.0->scvi-tools) (4.9)\n",
            "Requirement already satisfied: requests-oauthlib>=0.7.0 in /usr/local/lib/python3.8/dist-packages (from google-auth-oauthlib<0.5,>=0.4.1->tensorboard>=2.9.1->pytorch-lightning<1.8,>=1.7.0->scvi-tools) (1.3.1)\n",
            "Requirement already satisfied: parso<0.9.0,>=0.8.0 in /usr/local/lib/python3.8/dist-packages (from jedi>=0.10->ipython>=4.0.0->ipywidgets->scvi-tools) (0.8.3)\n",
            "Requirement already satisfied: nbconvert<6.0 in /usr/local/lib/python3.8/dist-packages (from notebook>=4.4.1->widgetsnbextension~=3.6.0->ipywidgets->scvi-tools) (5.6.1)\n",
            "Requirement already satisfied: Send2Trash in /usr/local/lib/python3.8/dist-packages (from notebook>=4.4.1->widgetsnbextension~=3.6.0->ipywidgets->scvi-tools) (1.8.0)\n",
            "Requirement already satisfied: pyzmq>=17 in /usr/local/lib/python3.8/dist-packages (from notebook>=4.4.1->widgetsnbextension~=3.6.0->ipywidgets->scvi-tools) (23.2.1)\n",
            "Requirement already satisfied: prometheus-client in /usr/local/lib/python3.8/dist-packages (from notebook>=4.4.1->widgetsnbextension~=3.6.0->ipywidgets->scvi-tools) (0.15.0)\n",
            "Requirement already satisfied: nbformat in /usr/local/lib/python3.8/dist-packages (from notebook>=4.4.1->widgetsnbextension~=3.6.0->ipywidgets->scvi-tools) (5.7.1)\n",
            "Requirement already satisfied: terminado>=0.8.1 in /usr/local/lib/python3.8/dist-packages (from notebook>=4.4.1->widgetsnbextension~=3.6.0->ipywidgets->scvi-tools) (0.13.3)\n",
            "Requirement already satisfied: jupyter-core>=4.4.0 in /usr/local/lib/python3.8/dist-packages (from notebook>=4.4.1->widgetsnbextension~=3.6.0->ipywidgets->scvi-tools) (5.1.1)\n",
            "Requirement already satisfied: wcwidth in /usr/local/lib/python3.8/dist-packages (from prompt-toolkit<2.1.0,>=2.0.0->ipython>=4.0.0->ipywidgets->scvi-tools) (0.2.5)\n",
            "Requirement already satisfied: chardet<5,>=3.0.2 in /usr/local/lib/python3.8/dist-packages (from requests->fsspec[http]!=2021.06.0,>=2021.05.0->pytorch-lightning<1.8,>=1.7.0->scvi-tools) (4.0.0)\n",
            "Requirement already satisfied: idna<3,>=2.5 in /usr/local/lib/python3.8/dist-packages (from requests->fsspec[http]!=2021.06.0,>=2021.05.0->pytorch-lightning<1.8,>=1.7.0->scvi-tools) (2.10)\n",
            "Requirement already satisfied: urllib3<1.27,>=1.21.1 in /usr/local/lib/python3.8/dist-packages (from requests->fsspec[http]!=2021.06.0,>=2021.05.0->pytorch-lightning<1.8,>=1.7.0->scvi-tools) (1.24.3)\n",
            "Requirement already satisfied: certifi>=2017.4.17 in /usr/local/lib/python3.8/dist-packages (from requests->fsspec[http]!=2021.06.0,>=2021.05.0->pytorch-lightning<1.8,>=1.7.0->scvi-tools) (2022.12.7)\n",
            "Requirement already satisfied: ptyprocess>=0.5 in /usr/local/lib/python3.8/dist-packages (from pexpect->ipython>=4.0.0->ipywidgets->scvi-tools) (0.7.0)\n",
            "Requirement already satisfied: more-itertools>=4.0.0 in /usr/local/lib/python3.8/dist-packages (from pytest->orbax->flax->scvi-tools) (9.0.0)\n",
            "Requirement already satisfied: atomicwrites>=1.0 in /usr/local/lib/python3.8/dist-packages (from pytest->orbax->flax->scvi-tools) (1.4.1)\n",
            "Requirement already satisfied: pluggy<0.8,>=0.5 in /usr/local/lib/python3.8/dist-packages (from pytest->orbax->flax->scvi-tools) (0.7.1)\n",
            "Requirement already satisfied: py>=1.5.0 in /usr/local/lib/python3.8/dist-packages (from pytest->orbax->flax->scvi-tools) (1.11.0)\n",
            "Requirement already satisfied: platformdirs>=2.5 in /usr/local/lib/python3.8/dist-packages (from jupyter-core>=4.4.0->notebook>=4.4.1->widgetsnbextension~=3.6.0->ipywidgets->scvi-tools) (2.6.0)\n",
            "Requirement already satisfied: mistune<2,>=0.8.1 in /usr/local/lib/python3.8/dist-packages (from nbconvert<6.0->notebook>=4.4.1->widgetsnbextension~=3.6.0->ipywidgets->scvi-tools) (0.8.4)\n",
            "Requirement already satisfied: bleach in /usr/local/lib/python3.8/dist-packages (from nbconvert<6.0->notebook>=4.4.1->widgetsnbextension~=3.6.0->ipywidgets->scvi-tools) (5.0.1)\n",
            "Requirement already satisfied: testpath in /usr/local/lib/python3.8/dist-packages (from nbconvert<6.0->notebook>=4.4.1->widgetsnbextension~=3.6.0->ipywidgets->scvi-tools) (0.6.0)\n",
            "Requirement already satisfied: pandocfilters>=1.4.1 in /usr/local/lib/python3.8/dist-packages (from nbconvert<6.0->notebook>=4.4.1->widgetsnbextension~=3.6.0->ipywidgets->scvi-tools) (1.5.0)\n",
            "Requirement already satisfied: defusedxml in /usr/local/lib/python3.8/dist-packages (from nbconvert<6.0->notebook>=4.4.1->widgetsnbextension~=3.6.0->ipywidgets->scvi-tools) (0.7.1)\n",
            "Requirement already satisfied: entrypoints>=0.2.2 in /usr/local/lib/python3.8/dist-packages (from nbconvert<6.0->notebook>=4.4.1->widgetsnbextension~=3.6.0->ipywidgets->scvi-tools) (0.4)\n",
            "Requirement already satisfied: fastjsonschema in /usr/local/lib/python3.8/dist-packages (from nbformat->notebook>=4.4.1->widgetsnbextension~=3.6.0->ipywidgets->scvi-tools) (2.16.2)\n",
            "Requirement already satisfied: jsonschema>=2.6 in /usr/local/lib/python3.8/dist-packages (from nbformat->notebook>=4.4.1->widgetsnbextension~=3.6.0->ipywidgets->scvi-tools) (4.3.3)\n",
            "Requirement already satisfied: pyasn1<0.5.0,>=0.4.6 in /usr/local/lib/python3.8/dist-packages (from pyasn1-modules>=0.2.1->google-auth<3,>=1.6.3->tensorboard>=2.9.1->pytorch-lightning<1.8,>=1.7.0->scvi-tools) (0.4.8)\n",
            "Requirement already satisfied: oauthlib>=3.0.0 in /usr/local/lib/python3.8/dist-packages (from requests-oauthlib>=0.7.0->google-auth-oauthlib<0.5,>=0.4.1->tensorboard>=2.9.1->pytorch-lightning<1.8,>=1.7.0->scvi-tools) (3.2.2)\n",
            "Requirement already satisfied: pyrsistent!=0.17.0,!=0.17.1,!=0.17.2,>=0.14.0 in /usr/local/lib/python3.8/dist-packages (from jsonschema>=2.6->nbformat->notebook>=4.4.1->widgetsnbextension~=3.6.0->ipywidgets->scvi-tools) (0.19.2)\n",
            "Requirement already satisfied: webencodings in /usr/local/lib/python3.8/dist-packages (from bleach->nbconvert<6.0->notebook>=4.4.1->widgetsnbextension~=3.6.0->ipywidgets->scvi-tools) (0.5.1)\n",
            "Building wheels for collected packages: rpy2, docrep, ml-collections, umap-learn, python-igraph, session-info, pynndescent\n",
            "  Building wheel for rpy2 (setup.py) ... \u001b[?25l\u001b[?25hdone\n",
            "  Created wheel for rpy2: filename=rpy2-3.5.1-cp38-cp38-linux_x86_64.whl size=310194 sha256=887a20fd4e27338bd61dac352d4e93f42177647c50cb1bd31fd329a5a3c4144a\n",
            "  Stored in directory: /root/.cache/pip/wheels/6b/40/7d/f63e87fd83e8b99ee837c8e3489081c4b3489134bc520235ed\n",
            "  Building wheel for docrep (setup.py) ... \u001b[?25l\u001b[?25hdone\n",
            "  Created wheel for docrep: filename=docrep-0.3.2-py3-none-any.whl size=19896 sha256=ac38c09d9703db5c92d6f301487db4483ea8a76c1e7d6d1abdc740d789fb105e\n",
            "  Stored in directory: /root/.cache/pip/wheels/48/f0/c9/3928c369e4e0aae8c3daa3c36e5ddf982aed49d3196addc1f0\n",
            "  Building wheel for ml-collections (setup.py) ... \u001b[?25l\u001b[?25hdone\n",
            "  Created wheel for ml-collections: filename=ml_collections-0.1.1-py3-none-any.whl size=94524 sha256=59d216ed8dd18b21c615730faa51185de266ef998458f0a18275171307a7521c\n",
            "  Stored in directory: /root/.cache/pip/wheels/6d/9f/a9/9e8309035a5bf09ed9086bbca8c9b74cb6413d3eb203e2bc8c\n",
            "  Building wheel for umap-learn (setup.py) ... \u001b[?25l\u001b[?25hdone\n",
            "  Created wheel for umap-learn: filename=umap_learn-0.5.3-py3-none-any.whl size=82829 sha256=3f57b5c163cafe1e7f57de724aa1bccac954da500fb76165c39391d9891471e4\n",
            "  Stored in directory: /root/.cache/pip/wheels/a9/3a/67/06a8950e053725912e6a8c42c4a3a241410f6487b8402542ea\n",
            "  Building wheel for python-igraph (setup.py) ... \u001b[?25l\u001b[?25hdone\n",
            "  Created wheel for python-igraph: filename=python_igraph-0.10.3-py3-none-any.whl size=9074 sha256=dbf62be045446a83f146e960e29e847cf3c790494ae1c982b1b0067b6d74160c\n",
            "  Stored in directory: /root/.cache/pip/wheels/89/e5/ce/6b6a72dd08502dee685b95fb8733a983bc86575c013371f15a\n",
            "  Building wheel for session-info (setup.py) ... \u001b[?25l\u001b[?25hdone\n",
            "  Created wheel for session-info: filename=session_info-1.0.0-py3-none-any.whl size=8046 sha256=bca3d8608203092d72dcf073d6383245d7f8cebb2d89149ce5b7b7bf04db8af7\n",
            "  Stored in directory: /root/.cache/pip/wheels/5c/1b/4d/111d73980c5c6a8e5e5905a19eccc34296cb359cac54c6c5b9\n",
            "  Building wheel for pynndescent (setup.py) ... \u001b[?25l\u001b[?25hdone\n",
            "  Created wheel for pynndescent: filename=pynndescent-0.5.8-py3-none-any.whl size=55513 sha256=9ba8df2d06fc2e65a3d2ec77c376752574ad204b24abf8c7aac4d6150d75feef\n",
            "  Stored in directory: /root/.cache/pip/wheels/1c/63/3a/29954bca1a27ba100ed8c27973a78cb71b43dc67aed62e80c3\n",
            "Successfully built rpy2 docrep ml-collections umap-learn python-igraph session-info pynndescent\n",
            "Installing collected packages: texttable, stdlib_list, pyro-api, commonmark, cached_property, tensorstore, session-info, scikit-misc, rich, pyDeprecate, ml-collections, jedi, igraph, fonttools, docrep, contourpy, torchmetrics, rpy2, python-igraph, pyro-ppl, matplotlib, leidenalg, dunamai, pynndescent, numpyro, get-version, chex, anndata, umap-learn, optax, mudata, anndata2ri, scanpy, pytorch-lightning, orbax, flax, scvi-tools\n",
            "  Attempting uninstall: rpy2\n",
            "    Found existing installation: rpy2 3.5.5\n",
            "    Uninstalling rpy2-3.5.5:\n",
            "      Successfully uninstalled rpy2-3.5.5\n",
            "  Attempting uninstall: matplotlib\n",
            "    Found existing installation: matplotlib 3.2.2\n",
            "    Uninstalling matplotlib-3.2.2:\n",
            "      Successfully uninstalled matplotlib-3.2.2\n",
            "Successfully installed anndata-0.8.0 anndata2ri-1.1 cached_property-1.5.2 chex-0.1.5 commonmark-0.9.1 contourpy-1.0.6 docrep-0.3.2 dunamai-1.15.0 flax-0.6.3 fonttools-4.38.0 get-version-3.5.4 igraph-0.10.3 jedi-0.18.2 leidenalg-0.9.1 matplotlib-3.6.2 ml-collections-0.1.1 mudata-0.2.1 numpyro-0.10.1 optax-0.1.4 orbax-0.1.0 pyDeprecate-0.3.2 pynndescent-0.5.8 pyro-api-0.1.2 pyro-ppl-1.8.4 python-igraph-0.10.3 pytorch-lightning-1.7.7 rich-13.0.0 rpy2-3.5.1 scanpy-1.9.1 scikit-misc-0.1.4 scvi-tools-0.19.0 session-info-1.0.0 stdlib_list-0.8.0 tensorstore-0.1.28 texttable-1.6.7 torchmetrics-0.11.0 umap-learn-0.5.3\n"
          ]
        },
        {
          "output_type": "display_data",
          "data": {
            "application/vnd.colab-display-data+json": {
              "pip_warning": {
                "packages": [
                  "matplotlib",
                  "mpl_toolkits"
                ]
              }
            }
          },
          "metadata": {}
        },
        {
          "output_type": "stream",
          "name": "stdout",
          "text": [
            "Looking in indexes: https://pypi.org/simple, https://us-python.pkg.dev/colab-wheels/public/simple/\n",
            "Collecting bbknn\n",
            "  Downloading bbknn-1.5.1-py3-none-any.whl (11 kB)\n",
            "Collecting harmonypy\n",
            "  Downloading harmonypy-0.0.9-py3-none-any.whl (20 kB)\n",
            "Collecting scanorama\n",
            "  Downloading scanorama-1.7.3-py3-none-any.whl (12 kB)\n",
            "Collecting annoy\n",
            "  Downloading annoy-1.17.1.tar.gz (647 kB)\n",
            "\u001b[2K     \u001b[90m━━━━━━━━━━━━━━━━━━━━━━━━━━━━━━━━━━━━━━\u001b[0m \u001b[32m648.0/648.0 KB\u001b[0m \u001b[31m16.8 MB/s\u001b[0m eta \u001b[36m0:00:00\u001b[0m\n",
            "\u001b[?25h  Preparing metadata (setup.py) ... \u001b[?25l\u001b[?25hdone\n",
            "Requirement already satisfied: packaging in /usr/local/lib/python3.8/dist-packages (from bbknn) (21.3)\n",
            "Requirement already satisfied: pynndescent in /usr/local/lib/python3.8/dist-packages (from bbknn) (0.5.8)\n",
            "Requirement already satisfied: Cython in /usr/local/lib/python3.8/dist-packages (from bbknn) (0.29.32)\n",
            "Requirement already satisfied: umap-learn in /usr/local/lib/python3.8/dist-packages (from bbknn) (0.5.3)\n",
            "Requirement already satisfied: numpy in /usr/local/lib/python3.8/dist-packages (from bbknn) (1.21.6)\n",
            "Requirement already satisfied: scipy in /usr/local/lib/python3.8/dist-packages (from bbknn) (1.7.3)\n",
            "Requirement already satisfied: scikit-learn in /usr/local/lib/python3.8/dist-packages (from bbknn) (1.0.2)\n",
            "Requirement already satisfied: pandas in /usr/local/lib/python3.8/dist-packages (from harmonypy) (1.3.5)\n",
            "Requirement already satisfied: matplotlib>=2.0.2 in /usr/local/lib/python3.8/dist-packages (from scanorama) (3.6.2)\n",
            "Collecting intervaltree>=3.1.0\n",
            "  Downloading intervaltree-3.1.0.tar.gz (32 kB)\n",
            "  Preparing metadata (setup.py) ... \u001b[?25l\u001b[?25hdone\n",
            "Collecting geosketch>=1.0\n",
            "  Downloading geosketch-1.2-py3-none-any.whl (8.2 kB)\n",
            "Collecting fbpca>=1.0\n",
            "  Downloading fbpca-1.0.tar.gz (11 kB)\n",
            "  Preparing metadata (setup.py) ... \u001b[?25l\u001b[?25hdone\n",
            "Requirement already satisfied: sortedcontainers<3.0,>=2.0 in /usr/local/lib/python3.8/dist-packages (from intervaltree>=3.1.0->scanorama) (2.4.0)\n",
            "Requirement already satisfied: fonttools>=4.22.0 in /usr/local/lib/python3.8/dist-packages (from matplotlib>=2.0.2->scanorama) (4.38.0)\n",
            "Requirement already satisfied: cycler>=0.10 in /usr/local/lib/python3.8/dist-packages (from matplotlib>=2.0.2->scanorama) (0.11.0)\n",
            "Requirement already satisfied: pyparsing>=2.2.1 in /usr/local/lib/python3.8/dist-packages (from matplotlib>=2.0.2->scanorama) (3.0.9)\n",
            "Requirement already satisfied: pillow>=6.2.0 in /usr/local/lib/python3.8/dist-packages (from matplotlib>=2.0.2->scanorama) (7.1.2)\n",
            "Requirement already satisfied: python-dateutil>=2.7 in /usr/local/lib/python3.8/dist-packages (from matplotlib>=2.0.2->scanorama) (2.8.2)\n",
            "Requirement already satisfied: contourpy>=1.0.1 in /usr/local/lib/python3.8/dist-packages (from matplotlib>=2.0.2->scanorama) (1.0.6)\n",
            "Requirement already satisfied: kiwisolver>=1.0.1 in /usr/local/lib/python3.8/dist-packages (from matplotlib>=2.0.2->scanorama) (1.4.4)\n",
            "Requirement already satisfied: threadpoolctl>=2.0.0 in /usr/local/lib/python3.8/dist-packages (from scikit-learn->bbknn) (3.1.0)\n",
            "Requirement already satisfied: joblib>=0.11 in /usr/local/lib/python3.8/dist-packages (from scikit-learn->bbknn) (1.2.0)\n",
            "Requirement already satisfied: pytz>=2017.3 in /usr/local/lib/python3.8/dist-packages (from pandas->harmonypy) (2022.7)\n",
            "Requirement already satisfied: llvmlite>=0.30 in /usr/local/lib/python3.8/dist-packages (from pynndescent->bbknn) (0.39.1)\n",
            "Requirement already satisfied: numba>=0.51.2 in /usr/local/lib/python3.8/dist-packages (from pynndescent->bbknn) (0.56.4)\n",
            "Requirement already satisfied: tqdm in /usr/local/lib/python3.8/dist-packages (from umap-learn->bbknn) (4.64.1)\n",
            "Requirement already satisfied: importlib-metadata in /usr/local/lib/python3.8/dist-packages (from numba>=0.51.2->pynndescent->bbknn) (5.2.0)\n",
            "Requirement already satisfied: setuptools in /usr/local/lib/python3.8/dist-packages (from numba>=0.51.2->pynndescent->bbknn) (57.4.0)\n",
            "Requirement already satisfied: six>=1.5 in /usr/local/lib/python3.8/dist-packages (from python-dateutil>=2.7->matplotlib>=2.0.2->scanorama) (1.15.0)\n",
            "Requirement already satisfied: zipp>=0.5 in /usr/local/lib/python3.8/dist-packages (from importlib-metadata->numba>=0.51.2->pynndescent->bbknn) (3.11.0)\n",
            "Building wheels for collected packages: annoy, fbpca, intervaltree\n",
            "  Building wheel for annoy (setup.py) ... \u001b[?25l\u001b[?25hdone\n",
            "  Created wheel for annoy: filename=annoy-1.17.1-cp38-cp38-linux_x86_64.whl size=394056 sha256=a8df1f7f273874e7658903ce5870c535c2cb2e6186b7e802ca27c7ca57d5e548\n",
            "  Stored in directory: /root/.cache/pip/wheels/f9/93/19/30511c4a9ae6b4937455a134c34a39e13943e2c6f46fcd2ed2\n",
            "  Building wheel for fbpca (setup.py) ... \u001b[?25l\u001b[?25hdone\n",
            "  Created wheel for fbpca: filename=fbpca-1.0-py3-none-any.whl size=11376 sha256=d7533ae917c08cecf441fe9daa01646b065af37c25376138af0f15c3f6e4b402\n",
            "  Stored in directory: /root/.cache/pip/wheels/b4/3b/77/a06a07a415b222f47a7e522333f85ce64c0defd07a57762267\n",
            "  Building wheel for intervaltree (setup.py) ... \u001b[?25l\u001b[?25hdone\n",
            "  Created wheel for intervaltree: filename=intervaltree-3.1.0-py2.py3-none-any.whl size=26118 sha256=943cff6e76111eb595f3459e8e33c1311daf62a85cd1baaca271ae66cd3b55aa\n",
            "  Stored in directory: /root/.cache/pip/wheels/45/23/de/5789a92962483fd33cb06674792b9697c1b3766d7c7742830e\n",
            "Successfully built annoy fbpca intervaltree\n",
            "Installing collected packages: fbpca, annoy, intervaltree, harmonypy, geosketch, scanorama, bbknn\n",
            "  Attempting uninstall: intervaltree\n",
            "    Found existing installation: intervaltree 2.1.0\n",
            "    Uninstalling intervaltree-2.1.0:\n",
            "      Successfully uninstalled intervaltree-2.1.0\n",
            "Successfully installed annoy-1.17.1 bbknn-1.5.1 fbpca-1.0 geosketch-1.2 harmonypy-0.0.9 intervaltree-3.1.0 scanorama-1.7.3\n",
            "Looking in indexes: https://pypi.org/simple, https://us-python.pkg.dev/colab-wheels/public/simple/\n",
            "Requirement already satisfied: gdown in /usr/local/lib/python3.8/dist-packages (4.4.0)\n",
            "Collecting gdown\n",
            "  Downloading gdown-4.6.0-py3-none-any.whl (14 kB)\n",
            "Requirement already satisfied: tqdm in /usr/local/lib/python3.8/dist-packages (from gdown) (4.64.1)\n",
            "Requirement already satisfied: beautifulsoup4 in /usr/local/lib/python3.8/dist-packages (from gdown) (4.6.3)\n",
            "Requirement already satisfied: requests[socks] in /usr/local/lib/python3.8/dist-packages (from gdown) (2.25.1)\n",
            "Requirement already satisfied: filelock in /usr/local/lib/python3.8/dist-packages (from gdown) (3.8.2)\n",
            "Requirement already satisfied: six in /usr/local/lib/python3.8/dist-packages (from gdown) (1.15.0)\n",
            "Requirement already satisfied: chardet<5,>=3.0.2 in /usr/local/lib/python3.8/dist-packages (from requests[socks]->gdown) (4.0.0)\n",
            "Requirement already satisfied: certifi>=2017.4.17 in /usr/local/lib/python3.8/dist-packages (from requests[socks]->gdown) (2022.12.7)\n",
            "Requirement already satisfied: idna<3,>=2.5 in /usr/local/lib/python3.8/dist-packages (from requests[socks]->gdown) (2.10)\n",
            "Requirement already satisfied: urllib3<1.27,>=1.21.1 in /usr/local/lib/python3.8/dist-packages (from requests[socks]->gdown) (1.24.3)\n",
            "Requirement already satisfied: PySocks!=1.5.7,>=1.5.6 in /usr/local/lib/python3.8/dist-packages (from requests[socks]->gdown) (1.7.1)\n",
            "Installing collected packages: gdown\n",
            "  Attempting uninstall: gdown\n",
            "    Found existing installation: gdown 4.4.0\n",
            "    Uninstalling gdown-4.4.0:\n",
            "      Successfully uninstalled gdown-4.4.0\n",
            "Successfully installed gdown-4.6.0\n",
            "Reading package lists... Done\n",
            "Building dependency tree       \n",
            "Reading state information... Done\n",
            "libharfbuzz-dev is already the newest version (1.7.2-1ubuntu1).\n",
            "libharfbuzz-dev set to manually installed.\n",
            "The following package was automatically installed and is no longer required:\n",
            "  libnvidia-common-460\n",
            "Use 'apt autoremove' to remove it.\n",
            "The following additional packages will be installed:\n",
            "  libcairo-script-interpreter2 libgmp-dev libgmpxx4ldbl libpixman-1-dev\n",
            "  libudunits2-0 libudunits2-data libxcb-shm0-dev\n",
            "Suggested packages:\n",
            "  libcairo2-doc gmp-doc libgmp10-doc libmpfr-dev\n",
            "The following NEW packages will be installed:\n",
            "  libcairo-script-interpreter2 libcairo2-dev libfribidi-dev libgmp-dev\n",
            "  libgmp3-dev libgmpxx4ldbl libpixman-1-dev libudunits2-0 libudunits2-data\n",
            "  libudunits2-dev libxcb-shm0-dev\n",
            "0 upgraded, 11 newly installed, 0 to remove and 20 not upgraded.\n",
            "Need to get 1,735 kB of archives.\n",
            "After this operation, 6,864 kB of additional disk space will be used.\n",
            "Get:1 http://archive.ubuntu.com/ubuntu bionic-updates/main amd64 libcairo-script-interpreter2 amd64 1.15.10-2ubuntu0.1 [53.5 kB]\n",
            "Get:2 http://archive.ubuntu.com/ubuntu bionic-updates/main amd64 libpixman-1-dev amd64 0.34.0-2ubuntu0.1 [244 kB]\n",
            "Get:3 http://archive.ubuntu.com/ubuntu bionic-updates/main amd64 libxcb-shm0-dev amd64 1.13-2~ubuntu18.04 [6,684 B]\n",
            "Get:4 http://archive.ubuntu.com/ubuntu bionic-updates/main amd64 libcairo2-dev amd64 1.15.10-2ubuntu0.1 [626 kB]\n",
            "Get:5 http://archive.ubuntu.com/ubuntu bionic-updates/main amd64 libfribidi-dev amd64 0.19.7-2ubuntu0.1 [42.5 kB]\n",
            "Get:6 http://archive.ubuntu.com/ubuntu bionic-updates/main amd64 libgmpxx4ldbl amd64 2:6.1.2+dfsg-2ubuntu0.1 [8,984 B]\n",
            "Get:7 http://archive.ubuntu.com/ubuntu bionic-updates/main amd64 libgmp-dev amd64 2:6.1.2+dfsg-2ubuntu0.1 [316 kB]\n",
            "Get:8 http://archive.ubuntu.com/ubuntu bionic-updates/main amd64 libgmp3-dev amd64 2:6.1.2+dfsg-2ubuntu0.1 [2,012 B]\n",
            "Get:9 http://archive.ubuntu.com/ubuntu bionic/universe amd64 libudunits2-data all 2.2.26-1 [18.7 kB]\n",
            "Get:10 http://archive.ubuntu.com/ubuntu bionic/universe amd64 libudunits2-0 amd64 2.2.26-1 [54.3 kB]\n",
            "Get:11 http://archive.ubuntu.com/ubuntu bionic/universe amd64 libudunits2-dev amd64 2.2.26-1 [362 kB]\n",
            "Fetched 1,735 kB in 1s (1,234 kB/s)\n",
            "Selecting previously unselected package libcairo-script-interpreter2:amd64.\n",
            "(Reading database ... 124016 files and directories currently installed.)\n",
            "Preparing to unpack .../00-libcairo-script-interpreter2_1.15.10-2ubuntu0.1_amd64.deb ...\n",
            "Unpacking libcairo-script-interpreter2:amd64 (1.15.10-2ubuntu0.1) ...\n",
            "Selecting previously unselected package libpixman-1-dev:amd64.\n",
            "Preparing to unpack .../01-libpixman-1-dev_0.34.0-2ubuntu0.1_amd64.deb ...\n",
            "Unpacking libpixman-1-dev:amd64 (0.34.0-2ubuntu0.1) ...\n",
            "Selecting previously unselected package libxcb-shm0-dev:amd64.\n",
            "Preparing to unpack .../02-libxcb-shm0-dev_1.13-2~ubuntu18.04_amd64.deb ...\n",
            "Unpacking libxcb-shm0-dev:amd64 (1.13-2~ubuntu18.04) ...\n",
            "Selecting previously unselected package libcairo2-dev:amd64.\n",
            "Preparing to unpack .../03-libcairo2-dev_1.15.10-2ubuntu0.1_amd64.deb ...\n",
            "Unpacking libcairo2-dev:amd64 (1.15.10-2ubuntu0.1) ...\n",
            "Selecting previously unselected package libfribidi-dev.\n",
            "Preparing to unpack .../04-libfribidi-dev_0.19.7-2ubuntu0.1_amd64.deb ...\n",
            "Unpacking libfribidi-dev (0.19.7-2ubuntu0.1) ...\n",
            "Selecting previously unselected package libgmpxx4ldbl:amd64.\n",
            "Preparing to unpack .../05-libgmpxx4ldbl_2%3a6.1.2+dfsg-2ubuntu0.1_amd64.deb ...\n",
            "Unpacking libgmpxx4ldbl:amd64 (2:6.1.2+dfsg-2ubuntu0.1) ...\n",
            "Selecting previously unselected package libgmp-dev:amd64.\n",
            "Preparing to unpack .../06-libgmp-dev_2%3a6.1.2+dfsg-2ubuntu0.1_amd64.deb ...\n",
            "Unpacking libgmp-dev:amd64 (2:6.1.2+dfsg-2ubuntu0.1) ...\n",
            "Selecting previously unselected package libgmp3-dev.\n",
            "Preparing to unpack .../07-libgmp3-dev_2%3a6.1.2+dfsg-2ubuntu0.1_amd64.deb ...\n",
            "Unpacking libgmp3-dev (2:6.1.2+dfsg-2ubuntu0.1) ...\n",
            "Selecting previously unselected package libudunits2-data.\n",
            "Preparing to unpack .../08-libudunits2-data_2.2.26-1_all.deb ...\n",
            "Unpacking libudunits2-data (2.2.26-1) ...\n",
            "Selecting previously unselected package libudunits2-0:amd64.\n",
            "Preparing to unpack .../09-libudunits2-0_2.2.26-1_amd64.deb ...\n",
            "Unpacking libudunits2-0:amd64 (2.2.26-1) ...\n",
            "Selecting previously unselected package libudunits2-dev.\n",
            "Preparing to unpack .../10-libudunits2-dev_2.2.26-1_amd64.deb ...\n",
            "Unpacking libudunits2-dev (2.2.26-1) ...\n",
            "Setting up libcairo-script-interpreter2:amd64 (1.15.10-2ubuntu0.1) ...\n",
            "Setting up libxcb-shm0-dev:amd64 (1.13-2~ubuntu18.04) ...\n",
            "Setting up libudunits2-data (2.2.26-1) ...\n",
            "Setting up libfribidi-dev (0.19.7-2ubuntu0.1) ...\n",
            "Setting up libpixman-1-dev:amd64 (0.34.0-2ubuntu0.1) ...\n",
            "Setting up libgmpxx4ldbl:amd64 (2:6.1.2+dfsg-2ubuntu0.1) ...\n",
            "Setting up libudunits2-0:amd64 (2.2.26-1) ...\n",
            "Setting up libgmp-dev:amd64 (2:6.1.2+dfsg-2ubuntu0.1) ...\n",
            "Setting up libcairo2-dev:amd64 (1.15.10-2ubuntu0.1) ...\n",
            "Setting up libudunits2-dev (2.2.26-1) ...\n",
            "Setting up libgmp3-dev (2:6.1.2+dfsg-2ubuntu0.1) ...\n",
            "Processing triggers for man-db (2.8.3-2ubuntu0.1) ...\n",
            "Processing triggers for libc-bin (2.27-3ubuntu1.6) ...\n",
            "/usr/local/lib/python3.8/dist-packages/gdown/cli.py:121: FutureWarning: Option `--id` was deprecated in version 4.3.1 and will be removed in 5.0. You don't need to pass it anymore to use a file ID.\n",
            "  warnings.warn(\n",
            "Downloading...\n",
            "From: https://drive.google.com/uc?id=1W0TuuQospxcasOX5cQdhT_Xd-k7-QAck\n",
            "To: /content/library.tar.gz\n",
            "100% 2.33G/2.33G [00:11<00:00, 197MB/s]\n",
            "tar: Removing leading `/' from member names\n"
          ]
        }
      ],
      "source": [
        "!pip3 install scanpy[leiden] anndata2ri scikit-misc scvi-tools rpy2==3.5.1\n",
        "!pip3 install bbknn harmonypy scanorama\n",
        "!pip install --upgrade --no-cache-dir gdown\n",
        "\n",
        "!apt-get install libgmp3-dev libcairo2-dev libharfbuzz-dev libfribidi-dev libudunits2-dev\n",
        "!gdown --id 1W0TuuQospxcasOX5cQdhT_Xd-k7-QAck\n",
        "!tar xf library.tar.gz\n",
        "!cp -r /content/usr/local/lib/R /usr/local/lib/\n",
        "!rm -r usr library.tar.gz\n",
        "\n",
        "# Необходимо, чтобы конкретно прогрузился matplotlib\n",
        "import os\n",
        "os.kill(os.getpid(), 9)"
      ]
    },
    {
      "cell_type": "code",
      "source": [
        "import anndata2ri\n",
        "anndata2ri.activate()\n",
        "!pip install rpy2==3.5.1\n",
        "%load_ext rpy2.ipython"
      ],
      "metadata": {
        "colab": {
          "base_uri": "https://localhost:8080/"
        },
        "id": "I_ejne0dIWX-",
        "outputId": "b6eaf47d-b9a6-413f-f7b4-b22006f1395b"
      },
      "execution_count": 1,
      "outputs": [
        {
          "output_type": "stream",
          "name": "stdout",
          "text": [
            "Looking in indexes: https://pypi.org/simple, https://us-python.pkg.dev/colab-wheels/public/simple/\n",
            "Requirement already satisfied: rpy2==3.5.1 in /usr/local/lib/python3.8/dist-packages (3.5.1)\n",
            "Requirement already satisfied: jinja2 in /usr/local/lib/python3.8/dist-packages (from rpy2==3.5.1) (2.11.3)\n",
            "Requirement already satisfied: pytz in /usr/local/lib/python3.8/dist-packages (from rpy2==3.5.1) (2022.7)\n",
            "Requirement already satisfied: tzlocal in /usr/local/lib/python3.8/dist-packages (from rpy2==3.5.1) (1.5.1)\n",
            "Requirement already satisfied: cffi>=1.10.0 in /usr/local/lib/python3.8/dist-packages (from rpy2==3.5.1) (1.15.1)\n",
            "Requirement already satisfied: pycparser in /usr/local/lib/python3.8/dist-packages (from cffi>=1.10.0->rpy2==3.5.1) (2.21)\n",
            "Requirement already satisfied: MarkupSafe>=0.23 in /usr/local/lib/python3.8/dist-packages (from jinja2->rpy2==3.5.1) (2.0.1)\n"
          ]
        }
      ]
    },
    {
      "cell_type": "code",
      "source": [
        "# Импортируем нужные библиотеки\n",
        "import scanpy as sc\n",
        "import numpy as np\n",
        "import seaborn as sns\n",
        "import pandas as pd\n",
        "import matplotlib.pyplot as plt\n",
        "\n",
        "# Методы батч-коррекции\n",
        "import bbknn\n",
        "import scanorama\n",
        "import harmonypy\n",
        "\n",
        "# rpy2 и anndata2ri\n",
        "import anndata2ri\n",
        "import rpy2"
      ],
      "metadata": {
        "id": "b0p58vEnIYvA"
      },
      "execution_count": 8,
      "outputs": []
    },
    {
      "cell_type": "code",
      "source": [
        "# Настраиваем эститику иллюстраций\n",
        "sc.settings.set_figure_params(dpi=150)\n",
        "sc.settings.verbosity = 3\n",
        "sns.set_style(\"ticks\")"
      ],
      "metadata": {
        "id": "uzHKur3MIkLq"
      },
      "execution_count": 3,
      "outputs": []
    },
    {
      "cell_type": "code",
      "source": [
        "import rpy2.robjects as ro\n",
        "import anndata2ri\n",
        "\n",
        "ro.numpy2ri.activate()\n",
        "anndata2ri.activate()  "
      ],
      "metadata": {
        "id": "s888tHE5Ih3o"
      },
      "execution_count": 4,
      "outputs": []
    },
    {
      "cell_type": "code",
      "source": [
        "!Rscript -e 'BiocManager::install(\"DropletUtils\")'"
      ],
      "metadata": {
        "colab": {
          "base_uri": "https://localhost:8080/"
        },
        "id": "GQIL2AHrLDCR",
        "outputId": "44ed5f76-0ee2-422b-e62f-0423eca898d6"
      },
      "execution_count": 7,
      "outputs": [
        {
          "output_type": "stream",
          "name": "stdout",
          "text": [
            "'getOption(\"repos\")' replaces Bioconductor standard repositories, see\n",
            "'?repositories' for details\n",
            "\n",
            "replacement repositories:\n",
            "    CRAN: https://cran.rstudio.com\n",
            "\n",
            "Bioconductor version 3.15 (BiocManager 1.30.18), R 4.2.2 Patched (2022-11-10\n",
            "  r83330)\n",
            "Old packages: 'BiocManager', 'BiocParallel', 'callr', 'classInt', 'clue',\n",
            "  'conos', 'DelayedMatrixStats', 'devtools', 'e1071', 'fontawesome', 'formatR',\n",
            "  'future', 'future.apply', 'GenomeInfoDb', 'GenomicFeatures', 'ggbeeswarm',\n",
            "  'ggrepel', 'ggridges', 'globals', 'gtools', 'htmlwidgets', 'httpuv',\n",
            "  'igraph', 'IRkernel', 'irlba', 'leiden', 'leidenAlg', 'leidenbase', 'limma',\n",
            "  'listenv', 'lme4', 'locfit', 'matrixStats', 'minqa', 'parallelly', 'pbapply',\n",
            "  'pbdZMQ', 'pkgdown', 'plotly', 'plyr', 'png', 'polyclip', 'progressr',\n",
            "  'R.utils', 'ragg', 'raster', 'RcppAnnoy', 'RcppArmadillo', 'RcppEigen',\n",
            "  'RcppSpdlog', 'RCurl', 'reticulate', 'rgeos', 'Rook', 'roxygen2', 'rsample',\n",
            "  'RSQLite', 's2', 'ScaledMatrix', 'sctransform', 'Seurat', 'SeuratObject',\n",
            "  'sf', 'shiny', 'SingleCellExperiment', 'slider', 'sp', 'spatstat.data',\n",
            "  'spatstat.geom', 'spatstat.random', 'spatstat.sparse', 'spatstat.utils',\n",
            "  'spData', 'spdep', 'stringr', 'terra', 'tictoc', 'units', 'wk', 'XML', 'zoo',\n",
            "  'bit', 'broom', 'bslib', 'cli', 'data.table', 'digest', 'evaluate', 'gert',\n",
            "  'highr', 'htmltools', 'isoband', 'jsonlite', 'knitr', 'openssl', 'pkgload',\n",
            "  'purrr', 'rmarkdown', 'sass', 'testthat', 'tidyverse', 'tinytex', 'vctrs',\n",
            "  'whisker', 'xfun', 'boot', 'foreign', 'nlme'\n",
            "Warning message:\n",
            "package(s) not installed when version(s) same as current; use `force = TRUE` to\n",
            "  re-install: 'DropletUtils' \n"
          ]
        }
      ]
    },
    {
      "cell_type": "markdown",
      "source": [
        "### Задание 1\n",
        "Выберите любимый метод батч-коррекции. Создайте NextFlow-пайплайн, который бы включал в себя все шаги, начиная от контроля качества прочтений и подсчёта экспрессий при помощи `kallisto | bustools` и заканчивая интеграцией нескольких датасетов."
      ],
      "metadata": {
        "id": "_237n6X3IlA9"
      }
    },
    {
      "cell_type": "markdown",
      "source": [
        "### Решение\n",
        "\n",
        "Напишем python-скрипт для подготовки и объединения нескольких batches в единый .h5ad файл. В качестве метода понижения размерности датасета используем Harmony."
      ],
      "metadata": {
        "id": "WrYuK0Ub4-hu"
      }
    },
    {
      "cell_type": "markdown",
      "source": [
        "```python\n",
        "import sys\n",
        "\n",
        "# Libraries for data analysis\n",
        "import scanpy as sc\n",
        "import numpy as np\n",
        "import seaborn as sns\n",
        "import pandas as pd\n",
        "import matplotlib.pyplot as plt\n",
        "\n",
        "# Load batch correction method\n",
        "import harmonypy\n",
        "\n",
        "# Load libraries for working with R\n",
        "import rpy2.robjects as ro\n",
        "import anndata2ri\n",
        "\n",
        "ro.numpy2ri.activate()\n",
        "anndata2ri.activate()\n",
        "\n",
        "def droplet_clean(adata):\n",
        "    '''\n",
        "    This clean AnnData object from droplets and select statistical significant cells.\n",
        "\n",
        "    Parameters\n",
        "    ----------\n",
        "    adata : AnnData\n",
        "        Annotated data matrix.\n",
        "\n",
        "    Returns\n",
        "    ----------\n",
        "    AnnData object.\n",
        "    '''\n",
        "    adata = adata[adata.X.sum(axis=1).A.T[0] >= 10]\n",
        "    # load DropletUtils package in R\n",
        "    ro.r(\"suppressPackageStartupMessages(library(DropletUtils))\")\n",
        "    # create input_h5ad variable in R\n",
        "    ro.globalenv[\"input_h5ad\"] = adata.copy()\n",
        "    # clearing the dataset from droplets by emptyDrops function\n",
        "    adata_without_droplets = ro.r('cleared_expressions <- emptyDrops(assay(input_h5ad))')\n",
        "    # Select statistically significant cells\n",
        "    cell_barcodes = adata_without_droplets.loc[adata_without_droplets.FDR < 0.05]\n",
        "    adata_cleared = adata[cell_barcodes.index]\n",
        "    return adata_cleared\n",
        "\n",
        "def select_hvg(adata, batch_key):\n",
        "    '''\n",
        "    This selects high-variable genes in the AnnData object by function in the scanpy package.\n",
        "\n",
        "    Parameters\n",
        "    ----------\n",
        "    adata : AnnData\n",
        "        Annotated data matrix.\n",
        "\n",
        "    Returns\n",
        "    ----------\n",
        "    AnnData object.\n",
        "    '''\n",
        "    adata_hvg = adata.copy()\n",
        "\n",
        "    sc.pp.normalize_total(adata_hvg)\n",
        "    sc.pp.log1p(adata_hvg)\n",
        "\n",
        "    sc.pp.highly_variable_genes(\n",
        "        adata_hvg,\n",
        "        n_top_genes=3000,\n",
        "        flavor=\"seurat_v3\",\n",
        "        layer=\"counts\",\n",
        "        batch_key=batch_key\n",
        "    )\n",
        "    adata_hvg.raw = adata_hvg\n",
        "    adata_hvg = adata_hvg[:, adata_hvg.var.highly_variable]\n",
        "\n",
        "    return adata_hvg\n",
        "\n",
        "def add_batch_name_column(adata, batch_key, batch_value):\n",
        "    '''\n",
        "    This adds a batch column with values into the AnnData object.\n",
        "\n",
        "    Parameters\n",
        "    ----------\n",
        "    adata : AnnData\n",
        "        Annotated data matrix.\n",
        "    batch_key : str\n",
        "        Name of column in `adata.obs` that corresponds to the name of samples (batches).\n",
        "    batch_value : str\n",
        "        Cell value in `adata.obs` allows for determining whether a cell belongs to some sample (batch).\n",
        "\n",
        "    Returns\n",
        "    ----------\n",
        "    AnnData object.\n",
        "    '''\n",
        "    adata.obs[batch_key] = [batch_value] * len(adata.obs)\n",
        "    return adata\n",
        "\n",
        "def split_batches(adata, batch_key):\n",
        "    '''\n",
        "    This splits one AnnData object into few ones (per batch).\n",
        "    \n",
        "    Parameters\n",
        "    ----------\n",
        "    adata : AnnData\n",
        "        Annotated data matrix.\n",
        "    batch_key : str\n",
        "        Name of column in `adata.obs` that corresponds to the name of samples / batches.\n",
        "\n",
        "    Returns\n",
        "    ----------\n",
        "    List of AnnData objects.\n",
        "    '''\n",
        "    adatas = []\n",
        "    for batch in set(adata.obs[batch_key]):\n",
        "        adatas.append(adata[adata.obs[batch_key] == batch].copy())\n",
        "    return adatas\n",
        "\n",
        "def concatenate_batches(adatas, batch_key=\"batch\"):\n",
        "    '''\n",
        "    This function concatenates different AnnData objects into one.\n",
        "    \n",
        "    Parameters\n",
        "    ----------\n",
        "    adata : AnnData\n",
        "        Annotated data matrix.\n",
        "    batch_key : str, optional\n",
        "        Name of column in `adata.obs` that corresponds to the name of samples / batches.\n",
        "\n",
        "    Returns\n",
        "    ----------\n",
        "    AnnData object.\n",
        "    '''\n",
        "    adata = adatas[0].concatenate(adatas[1:], batch_key=batch_key, index_unique=None)\n",
        "    return adata\n",
        "\n",
        "def harmony(adata, batch_key):\n",
        "    '''\n",
        "    This evaluates harmony coordinates for visualization clusters in AnnData object.\n",
        "\n",
        "    Parameters\n",
        "    ----------\n",
        "    adata : AnnData\n",
        "        Annotated data matrix.\n",
        "    batch_key : str, optional\n",
        "        Name of column in `adata.obs` that corresponds to the name of samples / batches.\n",
        "\n",
        "    Returns\n",
        "    ----------\n",
        "    AnnData object.\n",
        "    '''\n",
        "    adata_harmony = adata.copy()\n",
        "\n",
        "    sc.external.pp.harmony_integrate(adata_harmony, key=batch_key, max_iter_harmony=20)\n",
        "\n",
        "    sc.pp.neighbors(\n",
        "        adata_harmony,\n",
        "        use_rep=\"X_pca_harmony\",\n",
        "        n_pcs=30\n",
        "    )\n",
        "\n",
        "    sc.tl.leiden(adata_harmony)\n",
        "\n",
        "    sc.tl.umap(adata_harmony)\n",
        "\n",
        "    return adata_harmony\n",
        "\n",
        "def filter_adata(h5ad_file, batch_key, batch_value):\n",
        "    '''\n",
        "    This filters the AnnData object and prepares him for the next steps.\n",
        "\n",
        "    Parameters\n",
        "    ----------\n",
        "    adata : AnnData\n",
        "        Annotated data matrix.\n",
        "    batch_key : str, optional\n",
        "        Name of column in `adata.obs` that corresponds to the name of samples / batches.\n",
        "    batch_value : str\n",
        "        Cell value in `adata.obs` allows for determining whether a cell belongs to some sample (batch).\n",
        "\n",
        "    Returns\n",
        "    ----------\n",
        "    AnnData object.\n",
        "    '''\n",
        "    adata = sc.read_h5ad(h5ad_file)\n",
        "    adata.layers[\"counts\"] = adata.X.copy()\n",
        "    batched_adata = add_batch_name_column(adata, batch_key, batch_value)\n",
        "    adata_without_droplets = droplet_clean(batched_adata)\n",
        "    adata_hvg = select_hvg(adata_without_droplets, batch_key)\n",
        "    return adata_hvg\n",
        "\n",
        "if __name__ == '__main__':\n",
        "    # Load batch correction method type \n",
        "    # into this script from command line argument\n",
        "    h5ad_list = sys.argv[1:]\n",
        "    batch_key = 'batch'\n",
        "\n",
        "    # Filter all datasets and\n",
        "    # save them into list\n",
        "    adata_list = []\n",
        "    for i, h5ad_file in enumerate(h5ad_list):\n",
        "        batch_value = f'{batch_key}_{i+1}'\n",
        "        filtered_adata = filter_adata(h5ad_file, batch_key, batch_value)\n",
        "        adata_list.append(filtered_adata)\n",
        "\n",
        "    # Concatenate adatas from different samples\n",
        "    # into one concatenated adata object\n",
        "    concatenated_adatas = concatenate_batches(adata_list, batch_key)\n",
        "\n",
        "    # Scale and calculate PCA \n",
        "    # for all adatas in an adata list\n",
        "    sc.pp.scale(concatenated_adatas)\n",
        "    sc.tl.pca(concatenated_adatas)\n",
        "\n",
        "    # Run harmony batch correction method\n",
        "    # for concatenated batches\n",
        "    batches_after_harmony_correction = harmony(concatenated_adatas, batch_key)\n",
        "\n",
        "    # Save integrated batches as a .h5ad file\n",
        "    batches_after_harmony_correction.write_h5ad(\"integrated_batches.h5ad\")\n",
        "```"
      ],
      "metadata": {
        "id": "y9mRP-A7JigM"
      }
    },
    {
      "cell_type": "markdown",
      "source": [
        "Напишем nextflow пайплайн, который будет скачивать данные экспрессий разных образцов (samples/batches), проводить их фильтрацию и чистку и объединять в одиный .h5ad файл."
      ],
      "metadata": {
        "id": "C0pjHPRZ5S-F"
      }
    },
    {
      "cell_type": "markdown",
      "source": [
        "```nextflow\n",
        "params.results_dir = \"results\"\n",
        "SRA_list = params.SRA.split(\",\")\n",
        "params.index = \"/content/transcriptome.idx\"\n",
        "params.t2g = \"/content/t2g.txt\"\n",
        "params.chemistry = \"10xv2\"\n",
        "params.processing_script = \"/content/batches_processing.py\"\n",
        "\n",
        "log.info \"\"\n",
        "log.info \"  Q U A L I T Y   C O N T R O L  \"\n",
        "log.info \"=================================\"\n",
        "log.info \"SRA number         : ${SRA_list}\"\n",
        "log.info \"Results location   : ${params.results_dir}\"\n",
        "\n",
        "// Downloading .fastq files by the fasterq-dump tool of the sratoolkit\n",
        "process DownloadFastQ {\n",
        "  publishDir \"${params.results_dir}\"\n",
        "\n",
        "  input:\n",
        "    val sra\n",
        "\n",
        "  output:\n",
        "    path \"${sra}/*\"\n",
        "\n",
        "  script:\n",
        "    \"\"\"\n",
        "    /content/sratoolkit.3.0.0-ubuntu64/bin/fasterq-dump ${sra} -O ${sra}/\n",
        "    \"\"\"\n",
        "}\n",
        "\n",
        "// Kallisto | Bustools process, which evaluate gene expressions by the pseudoalignment and save expressions in .h5ad file\n",
        "process KalistoBustools {\n",
        "  publishDir \"${params.results_dir}\"\n",
        "\n",
        "  input:\n",
        "    path fastq_files\n",
        "    val sra\n",
        "\n",
        "  output:\n",
        "    path \"${sra}/counts_unfiltered/${sra}_adata.h5ad\"\n",
        "\n",
        "  script:\n",
        "    \"\"\"\n",
        "    kb count --keep-tmp -i ${params.index} -g ${params.t2g} -o ${sra}/ -x ${params.chemistry} --h5ad -t 2 ${fastq_files}\n",
        "    mv ${sra}/counts_unfiltered/adata.h5ad ${sra}/counts_unfiltered/${sra}_adata.h5ad\n",
        "    \"\"\"\n",
        "}\n",
        "\n",
        "// This process eliminates batch effect and\n",
        "// integrates list of batches into one .h5ad file\n",
        "process BatchesProcessing {\n",
        "  publishDir \"${params.results_dir}\"\n",
        "\n",
        "  input:\n",
        "    path h5ad_files\n",
        "\n",
        "  output:\n",
        "    path \"*\"\n",
        "\n",
        "  script:\n",
        "    \"\"\"\n",
        "    /usr/local/bin/python ${params.processing_script} ${h5ad_files}\n",
        "    \"\"\"\n",
        "}\n",
        "\n",
        "workflow {\n",
        "  data = Channel.of( SRA_list )\n",
        "  DownloadFastQ( data )\n",
        "  KalistoBustools( DownloadFastQ.out, data )\n",
        "  BatchesProcessing( KalistoBustools.out.collect() )\n",
        "}\n",
        "```"
      ],
      "metadata": {
        "id": "9-ZDQ5f-JaYx"
      }
    },
    {
      "cell_type": "markdown",
      "source": [
        "Установим kallisto | bustools"
      ],
      "metadata": {
        "id": "sUuvFEZv6MF6"
      }
    },
    {
      "cell_type": "code",
      "source": [
        "!pip install kb-python"
      ],
      "metadata": {
        "id": "of1yADILI1-b"
      },
      "execution_count": null,
      "outputs": []
    },
    {
      "cell_type": "markdown",
      "source": [
        "Скачаем и распакуем reference transcriptome для алгоритма псевдовыравнивания kallisto | bustools"
      ],
      "metadata": {
        "id": "w85bn4ts6Qjx"
      }
    },
    {
      "cell_type": "code",
      "source": [
        "!curl -O https://cf.10xgenomics.com/supp/cell-exp/refdata-gex-mm10-2020-A.tar.gz\n",
        "!tar -xvf refdata-gex-mm10-2020-A.tar.gz >> None"
      ],
      "metadata": {
        "colab": {
          "base_uri": "https://localhost:8080/"
        },
        "id": "gRPoDCPZI4Bd",
        "outputId": "2c028f7c-91dc-49dd-b536-13229bd11fd1"
      },
      "execution_count": 2,
      "outputs": [
        {
          "output_type": "stream",
          "name": "stdout",
          "text": [
            "  % Total    % Received % Xferd  Average Speed   Time    Time     Time  Current\n",
            "                                 Dload  Upload   Total   Spent    Left  Speed\n",
            "100 9835M  100 9835M    0     0   119M      0  0:01:21  0:01:21 --:--:--  138M\n"
          ]
        }
      ]
    },
    {
      "cell_type": "markdown",
      "source": [
        "Скачаем и распакуем fastq утилиту для скачивания .fastq файлов по SRR"
      ],
      "metadata": {
        "id": "tBZfrxMa6f2U"
      }
    },
    {
      "cell_type": "code",
      "source": [
        "!wget https://ftp-trace.ncbi.nlm.nih.gov/sra/sdk/3.0.0/sratoolkit.3.0.0-ubuntu64.tar.gz\n",
        "!tar -xvzf sratoolkit.3.0.0-ubuntu64.tar.gz >> None\n",
        "!sratoolkit.3.0.0-ubuntu64/bin/vdb-config -i"
      ],
      "metadata": {
        "colab": {
          "base_uri": "https://localhost:8080/"
        },
        "id": "9NwefHiUI6a3",
        "outputId": "976aed8c-7c8d-42ec-b77c-1dfb0d04f0ef"
      },
      "execution_count": 10,
      "outputs": [
        {
          "output_type": "stream",
          "name": "stdout",
          "text": [
            "--2023-01-06 12:17:05--  https://ftp-trace.ncbi.nlm.nih.gov/sra/sdk/3.0.0/sratoolkit.3.0.0-ubuntu64.tar.gz\n",
            "Resolving ftp-trace.ncbi.nlm.nih.gov (ftp-trace.ncbi.nlm.nih.gov)... 165.112.9.229, 165.112.9.230, 2607:f220:41e:250::12, ...\n",
            "Connecting to ftp-trace.ncbi.nlm.nih.gov (ftp-trace.ncbi.nlm.nih.gov)|165.112.9.229|:443... connected.\n",
            "HTTP request sent, awaiting response... 200 OK\n",
            "Length: 85777118 (82M) [application/x-gzip]\n",
            "Saving to: ‘sratoolkit.3.0.0-ubuntu64.tar.gz’\n",
            "\n",
            "sratoolkit.3.0.0-ub 100%[===================>]  81.80M  31.5MB/s    in 2.6s    \n",
            "\n",
            "2023-01-06 12:17:08 (31.5 MB/s) - ‘sratoolkit.3.0.0-ubuntu64.tar.gz’ saved [85777118/85777118]\n",
            "\n",
            "\u001b[2J\u001b[?25l\u001b[?1000h\u001b[?1002h2023-01-06T12:17:11 vdb-config.3.0.0 fatal: SIGNAL - Segmentation fault \n"
          ]
        }
      ]
    },
    {
      "cell_type": "markdown",
      "source": [
        "Сгенерируем index файл с референс-транскриптомом"
      ],
      "metadata": {
        "id": "KYt4HGRI6qAa"
      }
    },
    {
      "cell_type": "code",
      "source": [
        "!kb ref -i transcriptome.idx -g t2g.txt -f1 transcriptome.fa /content/refdata-gex-mm10-2020-A/fasta/genome.fa /content/refdata-gex-mm10-2020-A/genes/genes.gtf"
      ],
      "metadata": {
        "colab": {
          "base_uri": "https://localhost:8080/"
        },
        "id": "OstjJjFHI9OD",
        "outputId": "302d90ab-a1da-4225-cc78-941502f5e152"
      },
      "execution_count": 3,
      "outputs": [
        {
          "output_type": "stream",
          "name": "stdout",
          "text": [
            "[2023-01-06 12:40:42,768]    INFO [ref] Preparing /content/refdata-gex-mm10-2020-A/fasta/genome.fa, /content/refdata-gex-mm10-2020-A/genes/genes.gtf\n",
            "[2023-01-06 12:41:35,016]    INFO [ref] Splitting genome /content/refdata-gex-mm10-2020-A/fasta/genome.fa into cDNA at /content/tmp/tmpx2aotp0p\n",
            "[2023-01-06 12:42:27,337]    INFO [ref] Concatenating 1 cDNAs to transcriptome.fa\n",
            "[2023-01-06 12:42:28,175]    INFO [ref] Creating transcript-to-gene mapping at t2g.txt\n",
            "[2023-01-06 12:42:29,629]    INFO [ref] Indexing transcriptome.fa to transcriptome.idx\n"
          ]
        }
      ]
    },
    {
      "cell_type": "markdown",
      "source": [
        "Удалим ненужные папки и архивы"
      ],
      "metadata": {
        "id": "r-IpX4QG6xys"
      }
    },
    {
      "cell_type": "code",
      "source": [
        "!rm -r refdata-gex-mm10-2020-A *.tar.gz"
      ],
      "metadata": {
        "colab": {
          "base_uri": "https://localhost:8080/"
        },
        "id": "ySRL7dWAer_N",
        "outputId": "ed3b2384-a330-4fc7-a0a3-2c10d961e1b9"
      },
      "execution_count": 15,
      "outputs": [
        {
          "output_type": "stream",
          "name": "stdout",
          "text": [
            "rm: cannot remove '*.tar.gz': No such file or directory\n"
          ]
        }
      ]
    },
    {
      "cell_type": "markdown",
      "source": [
        "Установим nextflow"
      ],
      "metadata": {
        "id": "P3MIvimg63UZ"
      }
    },
    {
      "cell_type": "code",
      "source": [
        "!curl -fsSL https://get.nextflow.io | bash"
      ],
      "metadata": {
        "id": "koNwQ0bgI-ve"
      },
      "execution_count": null,
      "outputs": []
    },
    {
      "cell_type": "markdown",
      "source": [
        "Почистим рабочие папки nextflow с предыдущих запусков"
      ],
      "metadata": {
        "id": "50brywzK66ov"
      }
    },
    {
      "cell_type": "code",
      "source": [
        "!rm -r work results"
      ],
      "metadata": {
        "colab": {
          "base_uri": "https://localhost:8080/"
        },
        "id": "Xl2ktGTrABuw",
        "outputId": "e3f4f42c-6a57-498f-a9cf-70557a1fbb22"
      },
      "execution_count": 15,
      "outputs": [
        {
          "output_type": "stream",
          "name": "stdout",
          "text": [
            "rm: cannot remove 'results': No such file or directory\n"
          ]
        }
      ]
    },
    {
      "cell_type": "markdown",
      "source": [
        "Запустим nextflow пайплайн. В качестве аргумента укажем SRR, которые мы хотим объединить в один .h5ad файл."
      ],
      "metadata": {
        "id": "NciFk-j_7BEf"
      }
    },
    {
      "cell_type": "code",
      "source": [
        "!./nextflow run pipeline.nf --SRA SRR14131220,SRR14131223 -resume"
      ],
      "metadata": {
        "colab": {
          "base_uri": "https://localhost:8080/"
        },
        "id": "zHGRjDd_JAfM",
        "outputId": "76f2021d-24dc-4cb5-8ca3-b9c477053ed9"
      },
      "execution_count": 19,
      "outputs": [
        {
          "output_type": "stream",
          "name": "stdout",
          "text": [
            "N E X T F L O W  ~  version 22.10.4\n",
            "Launching `pipeline.nf` [condescending_varahamihira] DSL2 - revision: 9b0c165247\n",
            "\n",
            "  Q U A L I T Y   C O N T R O L  \n",
            "=================================\n",
            "SRA number         : [SRR14131220, SRR14131223]\n",
            "Results location   : results\n",
            "[-        ] process > DownloadFastQ   -\u001b[K\n",
            "[-        ] process > KalistoBustools -\u001b[K\n",
            "\u001b[3A\n",
            "[-        ] process > DownloadFastQ     -\u001b[K\n",
            "[-        ] process > KalistoBustools   -\u001b[K\n",
            "[-        ] process > BatchesProcessing -\u001b[K\n",
            "\u001b[4A\n",
            "[6a/5b2b2b] process > DownloadFastQ (2) [100%] 2 of 2, cached: 2\u001b[K\n",
            "[-        ] process > KalistoBustools   -\u001b[K\n",
            "[-        ] process > BatchesProcessing -\u001b[K\n",
            "\u001b[4A\n",
            "[6a/5b2b2b] process > DownloadFastQ (2) [100%] 2 of 2, cached: 2 ✔\u001b[K\n",
            "[-        ] process > KalistoBustools   -\u001b[K\n",
            "[-        ] process > BatchesProcessing -\u001b[K\n",
            "\u001b[4A\n",
            "executor >  local (2)\u001b[K\n",
            "[6a/5b2b2b] process > DownloadFastQ (2)   [100%] 2 of 2, cached: 2 ✔\u001b[K\n",
            "[3e/54c382] process > KalistoBustools (2) [  0%] 0 of 2\u001b[K\n",
            "[-        ] process > BatchesProcessing   -\u001b[K\n",
            "\u001b[5A\n",
            "executor >  local (2)\u001b[K\n",
            "[6a/5b2b2b] process > DownloadFastQ (2)   [100%] 2 of 2, cached: 2 ✔\u001b[K\n",
            "[6f/9f52e2] process > KalistoBustools (1) [ 50%] 1 of 2\u001b[K\n",
            "[-        ] process > BatchesProcessing   -\u001b[K\n",
            "\u001b[5A\n",
            "executor >  local (3)\u001b[K\n",
            "[6a/5b2b2b] process > DownloadFastQ (2)   [100%] 2 of 2, cached: 2 ✔\u001b[K\n",
            "[3e/54c382] process > KalistoBustools (2) [100%] 2 of 2 ✔\u001b[K\n",
            "[bd/714957] process > BatchesProcessing   [  0%] 0 of 1\u001b[K\n",
            "\u001b[5A\n",
            "executor >  local (3)\u001b[K\n",
            "[6a/5b2b2b] process > DownloadFastQ (2)   [100%] 2 of 2, cached: 2 ✔\u001b[K\n",
            "[3e/54c382] process > KalistoBustools (2) [100%] 2 of 2 ✔\u001b[K\n",
            "[bd/714957] process > BatchesProcessing   [100%] 1 of 1 ✔\u001b[K\n",
            "\u001b[32;1mCompleted at: 06-Jan-2023 14:21:35\n",
            "Duration    : 19m 33s\n",
            "CPU hours   : 1.0 (44.9% cached)\n",
            "Succeeded   : 3\n",
            "Cached      : 2\n",
            "\u001b[22;39m\u001b[K\n",
            "\n"
          ]
        }
      ]
    },
    {
      "cell_type": "markdown",
      "source": [
        "### Задание 2\n",
        "\n",
        "Придумайте метрику контроля качества для смешения батчей без использования априорного знания о типе клетки. Провалидируйте вашу метрику на датасетах, с которыми мы работали сегодня.\n",
        "\n",
        "### Решение"
      ],
      "metadata": {
        "id": "K4vJOseWIzZR"
      }
    }
  ]
}