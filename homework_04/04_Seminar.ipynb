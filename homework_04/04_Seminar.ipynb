{
  "nbformat": 4,
  "nbformat_minor": 0,
  "metadata": {
    "colab": {
      "provenance": []
    },
    "kernelspec": {
      "name": "python3",
      "display_name": "Python 3"
    },
    "language_info": {
      "name": "python"
    }
  },
  "cells": [
    {
      "cell_type": "markdown",
      "source": [
        "## Домашнее задание"
      ],
      "metadata": {
        "id": "xv0n6OMOcoBC"
      }
    },
    {
      "cell_type": "markdown",
      "source": [
        "Проведите аналогичный анализ с помощью DESeq2 и сравните его результаты с результатами edgeR и реализованной нами GLM (можете построить scatter plot для p-value, полученных разными методами).\n",
        "\n",
        "В чем основные различия используемых моделей и тестов?"
      ],
      "metadata": {
        "id": "7-dUdssRcp5-"
      }
    },
    {
      "cell_type": "markdown",
      "source": [
        "Для этого нужно будет:\n",
        "\n",
        "1.   Импортировать еще раз из аутпута salmon наши каунты, но теперь выгрузить в DESeq2, а не в edgeR (https://bioconductor.org/packages/release/bioc/vignettes/tximport/inst/doc/tximport.html#DESeq2)\n",
        "2.   Реализовать стандартный пайплайн DESeq2, сравнивая с тем, как это делается в edgeR (https://bioconductor.org/packages/release/bioc/vignettes/DESeq2/inst/doc/DESeq2.html)"
      ],
      "metadata": {
        "id": "mEAJV-rOcqq9"
      }
    },
    {
      "cell_type": "markdown",
      "source": [
        "## Решение"
      ],
      "metadata": {
        "id": "tdINW45qctnF"
      }
    },
    {
      "cell_type": "markdown",
      "source": [
        "---\n",
        "### Установка пакетов и импорт данных"
      ],
      "metadata": {
        "id": "xnkojHCldCCa"
      }
    },
    {
      "cell_type": "markdown",
      "source": [
        "На всякий случай обновим gdown для того, чтобы датасет c google disk скачался удачно"
      ],
      "metadata": {
        "id": "AqZsLAZ3dJcE"
      }
    },
    {
      "cell_type": "code",
      "source": [
        "!pip install --upgrade --no-cache-dir gdown"
      ],
      "metadata": {
        "id": "a78TVjHvYbKE"
      },
      "execution_count": null,
      "outputs": []
    },
    {
      "cell_type": "markdown",
      "source": [
        "Установим и подгрузим нужную версию rpy2"
      ],
      "metadata": {
        "id": "zBoqa8cBdXat"
      }
    },
    {
      "cell_type": "code",
      "execution_count": 91,
      "metadata": {
        "id": "PJTz9ao1UfYa",
        "colab": {
          "base_uri": "https://localhost:8080/"
        },
        "outputId": "8eaccd3c-e7d1-4072-ccfb-18fb8576e699"
      },
      "outputs": [
        {
          "output_type": "stream",
          "name": "stdout",
          "text": [
            "Looking in indexes: https://pypi.org/simple, https://us-python.pkg.dev/colab-wheels/public/simple/\n",
            "Requirement already satisfied: rpy2==3.5.1 in /usr/local/lib/python3.8/dist-packages (3.5.1)\n",
            "Requirement already satisfied: cffi>=1.10.0 in /usr/local/lib/python3.8/dist-packages (from rpy2==3.5.1) (1.15.1)\n",
            "Requirement already satisfied: jinja2 in /usr/local/lib/python3.8/dist-packages (from rpy2==3.5.1) (2.11.3)\n",
            "Requirement already satisfied: pytz in /usr/local/lib/python3.8/dist-packages (from rpy2==3.5.1) (2022.7)\n",
            "Requirement already satisfied: tzlocal in /usr/local/lib/python3.8/dist-packages (from rpy2==3.5.1) (1.5.1)\n",
            "Requirement already satisfied: pycparser in /usr/local/lib/python3.8/dist-packages (from cffi>=1.10.0->rpy2==3.5.1) (2.21)\n",
            "Requirement already satisfied: MarkupSafe>=0.23 in /usr/local/lib/python3.8/dist-packages (from jinja2->rpy2==3.5.1) (2.0.1)\n",
            "The rpy2.ipython extension is already loaded. To reload it, use:\n",
            "  %reload_ext rpy2.ipython\n"
          ]
        }
      ],
      "source": [
        "!pip install rpy2==3.5.1\n",
        "%load_ext rpy2.ipython"
      ]
    },
    {
      "cell_type": "markdown",
      "source": [
        "Скачаем необходимые для R библиотеки"
      ],
      "metadata": {
        "id": "FWlbRSjfde7W"
      }
    },
    {
      "cell_type": "code",
      "source": [
        "!apt-get install libgmp3-dev libcairo2-dev libharfbuzz-dev libfribidi-dev libudunits2-dev\n",
        "!gdown --id 1W0TuuQospxcasOX5cQdhT_Xd-k7-QAck\n",
        "!tar xf library.tar.gz\n",
        "!cp -r /content/usr/local/lib/R /usr/local/lib/\n",
        "!rm -r usr"
      ],
      "metadata": {
        "id": "BMzTY__RYgGi"
      },
      "execution_count": null,
      "outputs": []
    },
    {
      "cell_type": "markdown",
      "source": [
        "Установим недостающие библиотеки вручную"
      ],
      "metadata": {
        "id": "q3eOiXJXdjKB"
      }
    },
    {
      "cell_type": "code",
      "source": [
        "%R .libPaths(\"usr/local/lib/R/site-library/\")\n",
        "\n",
        "!Rscript -e 'install.packages(\"dplyr\")'\n",
        "!Rscript -e 'install.packages(\"ggplot2\")'\n",
        "!Rscript -e 'install.packages(\"tidyr\")'\n",
        "!Rscript -e 'install.packages(\"stringr\")'\n",
        "!Rscript -e 'install.packages(\"statmod\")'\n",
        "!Rscript -e 'install.packages(\"MASS\")'\n",
        "!Rscript -e 'BiocManager::install(\"EnhancedVolcano\")'\n",
        "!Rscript -e 'BiocManager::install(\"DESeq2\")'\n",
        "!Rscript -e 'BiocManager::install(\"apeglm\")'\n",
        "!Rscript -e 'install.packages(\"repr\")'"
      ],
      "metadata": {
        "id": "5pW6svysYlDQ"
      },
      "execution_count": null,
      "outputs": []
    },
    {
      "cell_type": "markdown",
      "source": [
        "Подгрузим библиотеки в R"
      ],
      "metadata": {
        "id": "zCgNtkWxdmWM"
      }
    },
    {
      "cell_type": "code",
      "source": [
        "%%R\n",
        "\n",
        "suppressPackageStartupMessages({\n",
        "  library(edgeR)\n",
        "  library(stringr)\n",
        "  library(dplyr)\n",
        "  library(tidyr)\n",
        "  library(tximport)\n",
        "  library(EnsDb.Mmusculus.v79)\n",
        "  library(ggplot2)\n",
        "  library(MASS)\n",
        "  library(glue)\n",
        "  library(EnhancedVolcano)\n",
        "  library(DESeq2)\n",
        "  library(apeglm)\n",
        "  library(repr)\n",
        "})"
      ],
      "metadata": {
        "id": "Mx-PkntNZrgO"
      },
      "execution_count": 92,
      "outputs": []
    },
    {
      "cell_type": "markdown",
      "source": [
        "Скачаем датасет с экспрессиями"
      ],
      "metadata": {
        "id": "4Q58WuyjdoYh"
      }
    },
    {
      "cell_type": "code",
      "source": [
        "!wget -r -np -R \"index.html*\" http://arcuda.skoltech.ru/~d.bobrovsky/teaching/transcriptomics/samples/\n",
        "!mkdir data\n",
        "!mkdir data/samples\n",
        "!mv arcuda.skoltech.ru/~d.bobrovsky/teaching/transcriptomics/samples/* data/samples\n",
        "!rm -r arcuda.skoltech.ru"
      ],
      "metadata": {
        "id": "wPqtrzo2aG8n"
      },
      "execution_count": null,
      "outputs": []
    },
    {
      "cell_type": "markdown",
      "source": [
        "Скачаем датасет с референс транскриптомом мышей"
      ],
      "metadata": {
        "id": "wylzcWH5dvEp"
      }
    },
    {
      "cell_type": "code",
      "source": [
        "!wget -O data/mouse_mart.csv http://arcuda.skoltech.ru/~d.bobrovsky/teaching/transcriptomics/mouse_mart.csv"
      ],
      "metadata": {
        "colab": {
          "base_uri": "https://localhost:8080/"
        },
        "id": "HqobF8MTdq1I",
        "outputId": "2c23fe4b-f192-4636-80e6-8aa32d3213b5"
      },
      "execution_count": null,
      "outputs": [
        {
          "output_type": "stream",
          "name": "stdout",
          "text": [
            "--2023-01-08 07:54:47--  http://arcuda.skoltech.ru/~d.bobrovsky/teaching/transcriptomics/mouse_mart.csv\n",
            "Resolving arcuda.skoltech.ru (arcuda.skoltech.ru)... 195.133.216.197\n",
            "Connecting to arcuda.skoltech.ru (arcuda.skoltech.ru)|195.133.216.197|:80... connected.\n",
            "HTTP request sent, awaiting response... 200 OK\n",
            "Length: 13518751 (13M)\n",
            "Saving to: ‘data/mouse_mart.csv’\n",
            "\n",
            "data/mouse_mart.csv 100%[===================>]  12.89M  4.07MB/s    in 3.2s    \n",
            "\n",
            "2023-01-08 07:54:51 (4.07 MB/s) - ‘data/mouse_mart.csv’ saved [13518751/13518751]\n",
            "\n"
          ]
        }
      ]
    },
    {
      "cell_type": "markdown",
      "source": [
        "---\n",
        "## Подготовка данных к DESeq2"
      ],
      "metadata": {
        "id": "tvuSFlYjd4En"
      }
    },
    {
      "cell_type": "markdown",
      "source": [
        "Загрузка аннотированного генома мыши и загрузка Ensebml Mouse Transcripts IDs (ENSMUST)"
      ],
      "metadata": {
        "id": "zy6kVdnXgZ1c"
      }
    },
    {
      "cell_type": "code",
      "source": [
        "%%R\n",
        "\n",
        "txdb <- EnsDb.Mmusculus.v79\n",
        "tx2gene <- transcripts(txdb, return.type=\"DataFrame\")"
      ],
      "metadata": {
        "id": "XUwT5ftEgaRO"
      },
      "execution_count": 93,
      "outputs": []
    },
    {
      "cell_type": "markdown",
      "source": [
        "Преобразование Ensembl Mouse Transcripts IDs в Ensembl Mouse Genes IDs: ENSMUST $\\rightarrow$ ENSMUSG\n",
        "\n"
      ],
      "metadata": {
        "id": "xNOEo0a3hChl"
      }
    },
    {
      "cell_type": "code",
      "source": [
        "%%R\n",
        "\n",
        "tx2gene <- tx2gene[c(\"tx_id\",\"gene_id\")]"
      ],
      "metadata": {
        "id": "0AvGbn6kg2Xx"
      },
      "execution_count": 94,
      "outputs": []
    },
    {
      "cell_type": "code",
      "source": [
        "%%R\n",
        "\n",
        "head(tx2gene)"
      ],
      "metadata": {
        "colab": {
          "base_uri": "https://localhost:8080/"
        },
        "id": "4v077VBLhTIS",
        "outputId": "6bf32f05-f40e-44f8-8511-a7c264d7f4a2"
      },
      "execution_count": 95,
      "outputs": [
        {
          "output_type": "stream",
          "name": "stdout",
          "text": [
            "DataFrame with 6 rows and 2 columns\n",
            "               tx_id            gene_id\n",
            "         <character>        <character>\n",
            "1 ENSMUST00000082387 ENSMUSG00000064336\n",
            "2 ENSMUST00000179436 ENSMUSG00000095742\n",
            "3 ENSMUST00000082388 ENSMUSG00000064337\n",
            "4 ENSMUST00000177695 ENSMUSG00000094121\n",
            "5 ENSMUST00000082389 ENSMUSG00000064338\n",
            "6 ENSMUST00000082390 ENSMUSG00000064339\n"
          ]
        }
      ]
    },
    {
      "cell_type": "markdown",
      "source": [
        "Создание вектора из путей файлов с экспрессиями генов"
      ],
      "metadata": {
        "id": "VZxFDqAygcbx"
      }
    },
    {
      "cell_type": "code",
      "source": [
        "%%R\n",
        "\n",
        "samples <- str_c(c(str_c(\"wt_water_\",c(1,2,3,4)),\n",
        "                   str_c(\"wt_bicarb_\",c(1,2,3,4)),\n",
        "                   str_c(\"ko_water_\",c(1,2,3,4)),\n",
        "                   str_c(\"ko_bicarb_\",c(1,2,3,4))),\".sf\")\n",
        "\n",
        "files <- str_c(\"data/samples/\",samples)"
      ],
      "metadata": {
        "id": "q99uGZuzgcyp"
      },
      "execution_count": 96,
      "outputs": []
    },
    {
      "cell_type": "markdown",
      "source": [
        "Загрузка наших данных в tximport"
      ],
      "metadata": {
        "id": "As3nmFFcgn8d"
      }
    },
    {
      "cell_type": "code",
      "source": [
        "%%R\n",
        "\n",
        "txi <- tximport(files, type = \"salmon\", tx2gene = tx2gene, ignoreTxVersion=T)\n",
        "cts <- txi$counts"
      ],
      "metadata": {
        "colab": {
          "base_uri": "https://localhost:8080/"
        },
        "id": "HJ1EG_T5aR0u",
        "outputId": "964f2c76-34cf-4880-d4b4-6a838f832964"
      },
      "execution_count": 97,
      "outputs": [
        {
          "output_type": "stream",
          "name": "stderr",
          "text": [
            "WARNING:rpy2.rinterface_lib.callbacks:R[write to console]: reading in files with read_tsv\n",
            "\n",
            "WARNING:rpy2.rinterface_lib.callbacks:R[write to console]: 1 \n",
            "WARNING:rpy2.rinterface_lib.callbacks:R[write to console]: 2 \n",
            "WARNING:rpy2.rinterface_lib.callbacks:R[write to console]: 3 \n",
            "WARNING:rpy2.rinterface_lib.callbacks:R[write to console]: 4 \n",
            "WARNING:rpy2.rinterface_lib.callbacks:R[write to console]: 5 \n",
            "WARNING:rpy2.rinterface_lib.callbacks:R[write to console]: 6 \n",
            "WARNING:rpy2.rinterface_lib.callbacks:R[write to console]: 7 \n",
            "WARNING:rpy2.rinterface_lib.callbacks:R[write to console]: 8 \n",
            "WARNING:rpy2.rinterface_lib.callbacks:R[write to console]: 9 \n",
            "WARNING:rpy2.rinterface_lib.callbacks:R[write to console]: 10 \n",
            "WARNING:rpy2.rinterface_lib.callbacks:R[write to console]: 11 \n",
            "WARNING:rpy2.rinterface_lib.callbacks:R[write to console]: 12 \n",
            "WARNING:rpy2.rinterface_lib.callbacks:R[write to console]: 13 \n",
            "WARNING:rpy2.rinterface_lib.callbacks:R[write to console]: 14 \n",
            "WARNING:rpy2.rinterface_lib.callbacks:R[write to console]: 15 \n",
            "WARNING:rpy2.rinterface_lib.callbacks:R[write to console]: 16 \n",
            "WARNING:rpy2.rinterface_lib.callbacks:R[write to console]: \n",
            "\n",
            "WARNING:rpy2.rinterface_lib.callbacks:R[write to console]: transcripts missing from tx2gene: 43521\n",
            "\n",
            "WARNING:rpy2.rinterface_lib.callbacks:R[write to console]: summarizing abundance\n",
            "\n",
            "WARNING:rpy2.rinterface_lib.callbacks:R[write to console]: summarizing counts\n",
            "\n",
            "WARNING:rpy2.rinterface_lib.callbacks:R[write to console]: summarizing length\n",
            "\n"
          ]
        }
      ]
    },
    {
      "cell_type": "markdown",
      "source": [
        "Загрузка .csv файла с референс геномом"
      ],
      "metadata": {
        "id": "mrQxyqbbmGF2"
      }
    },
    {
      "cell_type": "code",
      "source": [
        "%%R\n",
        "\n",
        "mart <- read.csv(\"data/mouse_mart.csv\")"
      ],
      "metadata": {
        "id": "Hi5ThQTaaVhw"
      },
      "execution_count": 98,
      "outputs": []
    },
    {
      "cell_type": "markdown",
      "source": [
        "Создание фильтра с протеин кодирующими генами"
      ],
      "metadata": {
        "id": "Jkd0hfa9l85_"
      }
    },
    {
      "cell_type": "code",
      "source": [
        "%%R\n",
        "\n",
        "genetype <- mart$Gene.type[match(rownames(cts), mart$Gene.stable.ID)]\n",
        "typefilter <- genetype == \"protein_coding\"\n",
        "typefilter[is.na(typefilter)] <- FALSE"
      ],
      "metadata": {
        "id": "uEqd071Sl8ea"
      },
      "execution_count": 99,
      "outputs": []
    },
    {
      "cell_type": "markdown",
      "source": [
        "Фильтрация наших данных через фильтр"
      ],
      "metadata": {
        "id": "m21AWPktl-oH"
      }
    },
    {
      "cell_type": "code",
      "source": [
        "%%R\n",
        "\n",
        "cts <- cts[typefilter,]\n",
        "txi$counts <- txi$counts[typefilter, ]\n",
        "txi$abundance <- txi$abundance[typefilter,]\n",
        "txi$length <- txi$length[typefilter,]"
      ],
      "metadata": {
        "id": "YxHnEMP4l-15"
      },
      "execution_count": 100,
      "outputs": []
    },
    {
      "cell_type": "markdown",
      "source": [
        "---\n",
        "\n",
        "## Анализ экспрессии с помощью DESeq2"
      ],
      "metadata": {
        "id": "qoq1pd7pmrzL"
      }
    },
    {
      "cell_type": "markdown",
      "source": [
        "Импортируем наш датасет в виде tximport object в DESeq c указанием тестируемых групп.\n",
        "\n",
        "WT — Wild type (дикий тип мышей).  \n",
        "KO — Nocaute Mouse (нокаутный тип мышей или лабораторный тип).  \n",
        "Water — Water treatment (кормление мышей обычной водой).  \n",
        "Bicarb — Bicarb treatment (кормление мышей водой с повышенной концентрацией бикарбонатов).\n"
      ],
      "metadata": {
        "id": "I8l8Gx1rcVts"
      }
    },
    {
      "cell_type": "code",
      "source": [
        "%%R\n",
        "\n",
        "# WT = \"Wild mouse type\"\n",
        "# KO = \"Nocaute Mouse\" \n",
        "# Water = Water treatment\n",
        "# Bicarb = Bicarbonate treatment\n",
        "\n",
        "condition <- c(rep(\"WT_Water\", 4), \n",
        "               rep(\"WT_Bicarb\", 4),\n",
        "               rep(\"KO_Water\", 4),\n",
        "               rep(\"KO_Bicarb\", 4))\n",
        "\n",
        "sampleTable <- data.frame(condition = condition)\n",
        "\n",
        "dds <- DESeqDataSetFromTximport(txi, sampleTable, design = ~condition)"
      ],
      "metadata": {
        "colab": {
          "base_uri": "https://localhost:8080/"
        },
        "id": "_Yab7OrGa23B",
        "outputId": "1c7bbdec-43eb-4798-e23d-9cc7d9dadbd9"
      },
      "execution_count": 101,
      "outputs": [
        {
          "output_type": "stream",
          "name": "stderr",
          "text": [
            "WARNING:rpy2.rinterface_lib.callbacks:R[write to console]: using counts and average transcript lengths from tximport\n",
            "\n"
          ]
        }
      ]
    },
    {
      "cell_type": "code",
      "source": [
        "%%R\n",
        "\n",
        "design(dds)"
      ],
      "metadata": {
        "colab": {
          "base_uri": "https://localhost:8080/"
        },
        "id": "jNvjkdAGaY5M",
        "outputId": "ca921f2e-12b5-4801-f146-9c64666d2552"
      },
      "execution_count": 102,
      "outputs": [
        {
          "output_type": "stream",
          "name": "stdout",
          "text": [
            "~condition\n"
          ]
        }
      ]
    },
    {
      "cell_type": "code",
      "source": [
        "%%R\n",
        "\n",
        "dds$condition"
      ],
      "metadata": {
        "colab": {
          "base_uri": "https://localhost:8080/"
        },
        "id": "-4RPmNaOa9bS",
        "outputId": "a2f9eabe-e890-4d4c-aaea-09738491eb10"
      },
      "execution_count": 103,
      "outputs": [
        {
          "output_type": "stream",
          "name": "stdout",
          "text": [
            " [1] WT_Water  WT_Water  WT_Water  WT_Water  WT_Bicarb WT_Bicarb WT_Bicarb\n",
            " [8] WT_Bicarb KO_Water  KO_Water  KO_Water  KO_Water  KO_Bicarb KO_Bicarb\n",
            "[15] KO_Bicarb KO_Bicarb\n",
            "Levels: KO_Bicarb KO_Water WT_Bicarb WT_Water\n"
          ]
        }
      ]
    },
    {
      "cell_type": "markdown",
      "source": [
        "Проведем анализ дифференциальной экспрессии с помощью DESeq с использованием Likelihood ratio test (LRT)."
      ],
      "metadata": {
        "id": "fp7R3lfre5KI"
      }
    },
    {
      "cell_type": "code",
      "source": [
        "%%R\n",
        "\n",
        "dds <- DESeq(dds, test=\"LRT\", reduced = ~1)\n",
        "\n",
        "# filtering minimum counts \n",
        "dds <- dds[rowSums(counts(dds, normalized = TRUE)) >= 100,]"
      ],
      "metadata": {
        "id": "KfGBcVeObAo-"
      },
      "execution_count": null,
      "outputs": []
    },
    {
      "cell_type": "code",
      "source": [
        "%%R\n",
        "\n",
        "dds"
      ],
      "metadata": {
        "colab": {
          "base_uri": "https://localhost:8080/"
        },
        "id": "90FmHZUBv0G0",
        "outputId": "da325025-0563-45f8-b11a-e5e57cd68fc4"
      },
      "execution_count": 116,
      "outputs": [
        {
          "output_type": "stream",
          "name": "stdout",
          "text": [
            "class: DESeqDataSet \n",
            "dim: 13674 16 \n",
            "metadata(1): version\n",
            "assays(6): counts avgTxLength ... H cooks\n",
            "rownames(13674): ENSMUSG00000000001 ENSMUSG00000000028 ...\n",
            "  ENSMUSG00000104346 ENSMUSG00000104445\n",
            "rowData names(25): baseMean baseVar ... deviance maxCooks\n",
            "colnames: NULL\n",
            "colData names(1): condition\n"
          ]
        }
      ]
    },
    {
      "cell_type": "code",
      "source": [
        "%%R\n",
        "\n",
        "res <- results(dds)"
      ],
      "metadata": {
        "id": "8bVRNXdkwjxu"
      },
      "execution_count": 118,
      "outputs": []
    },
    {
      "cell_type": "code",
      "source": [
        "%%R\n",
        "\n",
        "head(res)"
      ],
      "metadata": {
        "colab": {
          "base_uri": "https://localhost:8080/"
        },
        "id": "6V9VwdCzwyeG",
        "outputId": "ee5a6675-8bbf-4b9f-e5f1-6a28eec3193d"
      },
      "execution_count": 119,
      "outputs": [
        {
          "output_type": "stream",
          "name": "stdout",
          "text": [
            "log2 fold change (MLE): condition WT Water vs KO Bicarb \n",
            "LRT p-value: '~ condition' vs '~ 1' \n",
            "DataFrame with 6 rows and 6 columns\n",
            "                    baseMean log2FoldChange     lfcSE      stat      pvalue\n",
            "                   <numeric>      <numeric> <numeric> <numeric>   <numeric>\n",
            "ENSMUSG00000000001  786.2827       0.448049 0.0704631 62.008282 2.18816e-13\n",
            "ENSMUSG00000000028   18.1981       0.209794 0.3414668  0.500689 9.18740e-01\n",
            "ENSMUSG00000000056  706.8992      -0.231329 0.1205904 31.710033 6.02410e-07\n",
            "ENSMUSG00000000058  287.4423       0.434304 0.1397790 10.599190 1.41029e-02\n",
            "ENSMUSG00000000078  671.2699      -0.194872 0.0719638  8.137219 4.32593e-02\n",
            "ENSMUSG00000000085  366.3524      -0.663415 0.1981054 42.801366 2.71196e-09\n",
            "                          padj\n",
            "                     <numeric>\n",
            "ENSMUSG00000000001 6.20334e-12\n",
            "ENSMUSG00000000028 9.59917e-01\n",
            "ENSMUSG00000000056 6.54290e-06\n",
            "ENSMUSG00000000058 4.52436e-02\n",
            "ENSMUSG00000000078 1.12029e-01\n",
            "ENSMUSG00000000085 4.45260e-08\n"
          ]
        }
      ]
    },
    {
      "cell_type": "code",
      "source": [
        "%%R\n",
        "\n",
        "summary(res)"
      ],
      "metadata": {
        "colab": {
          "base_uri": "https://localhost:8080/"
        },
        "id": "0Ezvwrt7xANZ",
        "outputId": "08423765-4e97-4c83-f733-f013c8a659f1"
      },
      "execution_count": 120,
      "outputs": [
        {
          "output_type": "stream",
          "name": "stdout",
          "text": [
            "\n",
            "out of 13674 with nonzero total read count\n",
            "adjusted p-value < 0.1\n",
            "LFC > 0 (up)       : 2475, 18%\n",
            "LFC < 0 (down)     : 2526, 18%\n",
            "outliers [1]       : 27, 0.2%\n",
            "low counts [2]     : 266, 1.9%\n",
            "(mean count < 8)\n",
            "[1] see 'cooksCutoff' argument of ?results\n",
            "[2] see 'independentFiltering' argument of ?results\n",
            "\n"
          ]
        }
      ]
    },
    {
      "cell_type": "markdown",
      "source": [
        "Выгрузим из DESeqDataSet объекта результаты попарных сравнений:\n",
        "* Нокаутные мыши на водной и бикарбонатной диете\n",
        "* Дикие мыши на водной и бикарбонатной диете\n",
        "* Нокаутные и дикие мыши на водной диете\n",
        "* Нокаутные и дикие мыши на бикарбонатной диете"
      ],
      "metadata": {
        "id": "gx7z3R8WyjJ1"
      }
    },
    {
      "cell_type": "code",
      "source": [
        "%%R\n",
        "\n",
        "res_KO_vs_Treat <- results(dds, contrast=c(\"condition\", \"KO_Water\", \"KO_Bicarb\"), alpha=0.05)\n",
        "res_WT_vs_Treat <- results(dds, contrast=c(\"condition\", \"WT_Water\", \"WT_Bicarb\"), alpha=0.05)\n",
        "res_Water_vs_KOWT <- results(dds, contrast=c(\"condition\", \"KO_Water\", \"WT_Water\"), alpha=0.05)\n",
        "res_Bicarb_vs_KOWT <- results(dds, contrast=c(\"condition\", \"KO_Bicarb\", \"WT_Bicarb\"), alpha=0.05)"
      ],
      "metadata": {
        "id": "KWkT-8jgycRg"
      },
      "execution_count": null,
      "outputs": []
    },
    {
      "cell_type": "code",
      "source": [
        "%%R\n",
        "\n",
        "resultsNames(dds)"
      ],
      "metadata": {
        "colab": {
          "base_uri": "https://localhost:8080/"
        },
        "id": "P_f6OtWxa-fy",
        "outputId": "6f7a0369-75e5-4539-b899-969aa47c2f7a"
      },
      "execution_count": 105,
      "outputs": [
        {
          "output_type": "stream",
          "name": "stdout",
          "text": [
            "[1] \"Intercept\"                        \"condition_KO_Water_vs_KO_Bicarb\" \n",
            "[3] \"condition_WT_Bicarb_vs_KO_Bicarb\" \"condition_WT_Water_vs_KO_Bicarb\" \n"
          ]
        }
      ]
    },
    {
      "cell_type": "code",
      "source": [
        "%%R \n",
        "\n",
        "summary(res_Water_vs_KOWT)"
      ],
      "metadata": {
        "colab": {
          "base_uri": "https://localhost:8080/"
        },
        "id": "4di48CzabFiT",
        "outputId": "12b19471-7621-49b2-f1fd-6a29261bd3cb"
      },
      "execution_count": 109,
      "outputs": [
        {
          "output_type": "stream",
          "name": "stdout",
          "text": [
            "\n",
            "out of 13674 with nonzero total read count\n",
            "adjusted p-value < 0.05\n",
            "LFC > 0 (up)       : 2199, 16%\n",
            "LFC < 0 (down)     : 2068, 15%\n",
            "outliers [1]       : 27, 0.2%\n",
            "low counts [2]     : 266, 1.9%\n",
            "(mean count < 8)\n",
            "[1] see 'cooksCutoff' argument of ?results\n",
            "[2] see 'independentFiltering' argument of ?results\n",
            "\n"
          ]
        }
      ]
    },
    {
      "cell_type": "code",
      "source": [
        "%%R \n",
        "\n",
        "summary(res_Bicarb_vs_KOWT)"
      ],
      "metadata": {
        "colab": {
          "base_uri": "https://localhost:8080/"
        },
        "id": "wzjp8GzhcPh8",
        "outputId": "b7141526-5853-406a-d2f0-d4c75505fea7"
      },
      "execution_count": 110,
      "outputs": [
        {
          "output_type": "stream",
          "name": "stdout",
          "text": [
            "\n",
            "out of 13674 with nonzero total read count\n",
            "adjusted p-value < 0.05\n",
            "LFC > 0 (up)       : 2205, 16%\n",
            "LFC < 0 (down)     : 2061, 15%\n",
            "outliers [1]       : 27, 0.2%\n",
            "low counts [2]     : 266, 1.9%\n",
            "(mean count < 8)\n",
            "[1] see 'cooksCutoff' argument of ?results\n",
            "[2] see 'independentFiltering' argument of ?results\n",
            "\n"
          ]
        }
      ]
    },
    {
      "cell_type": "code",
      "source": [
        "%%R\n",
        "\n",
        "summary(res_WT_vs_Treat)"
      ],
      "metadata": {
        "colab": {
          "base_uri": "https://localhost:8080/"
        },
        "id": "InpJu3J4cQqE",
        "outputId": "4f3f195a-ee30-4374-fc22-497789e46ce1"
      },
      "execution_count": null,
      "outputs": [
        {
          "output_type": "stream",
          "name": "stdout",
          "text": [
            "\n",
            "out of 13674 with nonzero total read count\n",
            "adjusted p-value < 0.05\n",
            "LFC > 0 (up)       : 2147, 16%\n",
            "LFC < 0 (down)     : 2118, 15%\n",
            "outliers [1]       : 27, 0.2%\n",
            "low counts [2]     : 266, 1.9%\n",
            "(mean count < 8)\n",
            "[1] see 'cooksCutoff' argument of ?results\n",
            "[2] see 'independentFiltering' argument of ?results\n",
            "\n"
          ]
        }
      ]
    },
    {
      "cell_type": "code",
      "source": [
        "%%R\n",
        "\n",
        "summary(res_KO_vs_Treat)"
      ],
      "metadata": {
        "colab": {
          "base_uri": "https://localhost:8080/"
        },
        "id": "6Ui-zmCMcU2Y",
        "outputId": "6541da3e-ce1a-48ba-da3c-812386a9dcda"
      },
      "execution_count": null,
      "outputs": [
        {
          "output_type": "stream",
          "name": "stdout",
          "text": [
            "\n",
            "out of 13674 with nonzero total read count\n",
            "adjusted p-value < 0.05\n",
            "LFC > 0 (up)       : 2421, 18%\n",
            "LFC < 0 (down)     : 1840, 13%\n",
            "outliers [1]       : 27, 0.2%\n",
            "low counts [2]     : 266, 1.9%\n",
            "(mean count < 8)\n",
            "[1] see 'cooksCutoff' argument of ?results\n",
            "[2] see 'independentFiltering' argument of ?results\n",
            "\n"
          ]
        }
      ]
    },
    {
      "cell_type": "markdown",
      "source": [
        "Создадим вектор с символьными обозначениями генов: ENSMUG id $\\rightarrow$ Gene symbol\n",
        "\n"
      ],
      "metadata": {
        "id": "ZBOTuwjlnfcl"
      }
    },
    {
      "cell_type": "code",
      "source": [
        "%%R\n",
        "\n",
        "require(org.Mm.eg.db)\n",
        "Symbol <- mapIds(org.Mm.eg.db, keys=rownames(res_bicarb_vs_KOWT), keytype=\"ENSEMBL\", column=\"SYMBOL\")"
      ],
      "metadata": {
        "colab": {
          "base_uri": "https://localhost:8080/"
        },
        "id": "OqZIWNdyy_qT",
        "outputId": "8ff2e79d-511c-4857-f0f0-36c3579b2465"
      },
      "execution_count": null,
      "outputs": [
        {
          "output_type": "stream",
          "name": "stderr",
          "text": [
            "WARNING:rpy2.rinterface_lib.callbacks:R[write to console]: 'select()' returned 1:many mapping between keys and columns\n",
            "\n"
          ]
        }
      ]
    },
    {
      "cell_type": "markdown",
      "source": [
        "Добавим в датасеты столбец с символьным обозначением Ensemble Mouse Genes Ids"
      ],
      "metadata": {
        "id": "mHCaKCKSX5VA"
      }
    },
    {
      "cell_type": "code",
      "source": [
        "res_bicarb_vs_KOWT$gene <- Symbol\n",
        "res_water_vs_KOWT$gene <- Symbol\n",
        "res_WT_vs_treat$gene <- Symbol\n",
        "res_KO_vs_treat <- Symbol"
      ],
      "metadata": {
        "id": "p26FdhOdlgYK"
      },
      "execution_count": null,
      "outputs": []
    },
    {
      "cell_type": "markdown",
      "source": [
        "Построим volcano plot для группы \"нокаутные и дикие мыши на бикарбонатной диете\"."
      ],
      "metadata": {
        "id": "xFG2t6pTm9N3"
      }
    },
    {
      "cell_type": "code",
      "source": [
        "%%R\n",
        "\n",
        "library(repr)\n",
        "\n",
        "options(repr.plot.width=50, repr.plot.height=50)"
      ],
      "metadata": {
        "id": "5unx20RdVrqh"
      },
      "execution_count": null,
      "outputs": []
    },
    {
      "cell_type": "code",
      "source": [
        "%%R\n",
        "\n",
        "EnhancedVolcano(res_bicarb_vs_KOWT,\n",
        "  lab = res_bicarb_vs_KOWT$gene,\n",
        "  title = 'KO Bicab versus WT Bicab',\n",
        "  x = 'log2FoldChange',\n",
        "  pCutoff = 10e-14,\n",
        "  y = 'pvalue',\n",
        "  pointSize = 2.0,\n",
        "  labSize = 6.0)"
      ],
      "metadata": {
        "colab": {
          "base_uri": "https://localhost:8080/",
          "height": 497
        },
        "id": "T-uCjDlByxRy",
        "outputId": "3c22fc41-2d20-4159-a69e-93614933e362"
      },
      "execution_count": 124,
      "outputs": [
        {
          "output_type": "display_data",
          "data": {
            "image/png": "[encoded data removed]"
          },
          "metadata": {}
        }
      ]
    },
    {
      "cell_type": "markdown",
      "source": [
        "\n",
        "\n",
        "P.S. К сожалению, у меня не удалось настроить размер volcano plot, поэтому график получился не таким красивым, каким мог быть."
      ],
      "metadata": {
        "id": "Ym16bNDXzyqO"
      }
    },
    {
      "cell_type": "code",
      "source": [
        "%%R\n",
        "\n",
        "EnhancedVolcano(res_water_vs_KOWT,\n",
        "  lab = res_water_vs_KOWT$gene,\n",
        "  title = 'Water versus KOWT',\n",
        "  x = 'log2FoldChange',\n",
        "  pCutoff = 10e-14,\n",
        "  y = 'pvalue',\n",
        "  pointSize = 2.0,\n",
        "  labSize = 6.0)"
      ],
      "metadata": {
        "colab": {
          "base_uri": "https://localhost:8080/",
          "height": 497
        },
        "id": "BMtBovOeQ40I",
        "outputId": "bae93839-a45e-4c37-b7d6-36dbe01ec994"
      },
      "execution_count": null,
      "outputs": [
        {
          "output_type": "display_data",
          "data": {
            "image/png": "[encoded data removed]"
          },
          "metadata": {}
        }
      ]
    },
    {
      "cell_type": "markdown",
      "source": [
        "DESeq2 отличается от edgeR на этапе нормализации каунтов. \n",
        "\n",
        "edgeR нормализует каунты следуюзим образом:\n",
        "1. Определяет гены, которые меньше всего изменили свою экспрессию (обычно, это гены домашнего хозяйства, т.е. housekeeping genes) в разных образцах.\n",
        "2. Вычисляет среднее значение изменения данных генов \n",
        "3. Домножает каждый из образцов на полученный нормировочный коэффициент.\n",
        "\n",
        "DESeq же проводит нормализацию по следующей схеме:\n",
        "\n",
        "1. Вычисляет среднегеометрическое экспрессии каунтов всех образцов каждого гена (pseudo-reference sample)\n",
        "2. Разделяет каунты каждого образца на соответствующее среднегеометрическое (ratio of sampleA/ref и ratio of sampleB/ref)\n",
        "3. Определяет медианы массива значений предыдущего этапа у каждого образца\n",
        "4. Полученные медианы каждого из образцов и будут являться нормировочными коэффициентами, на которые необходимо разделить каунты каждого гена на соответствующий образцу коэффициент."
      ],
      "metadata": {
        "id": "MVi0Rnph1ZtR"
      }
    }
  ]
}