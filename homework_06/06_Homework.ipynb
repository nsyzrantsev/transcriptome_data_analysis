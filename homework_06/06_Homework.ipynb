{
  "cells": [
    {
      "cell_type": "markdown",
      "metadata": {
        "id": "oL23uYAgGpwu"
      },
      "source": [
        "# Семинар 6. Основы работы с библиотеками scanpy и Seurat\n",
        "\n",
        "Это практикум с анализом данных scRNA-Seq. Он основан на пакете scanpy для Python 3 и Seurat для R версии 4 и больше."
      ]
    },
    {
      "cell_type": "code",
      "execution_count": null,
      "metadata": {
        "id": "A35F75zRGLg4"
      },
      "outputs": [],
      "source": [
        "# Загрузка R magic\n",
        "!pip install rpy2==3.5.1\n",
        "\n",
        "# Установка нужных пакетов\n",
        "!apt-get install libgmp3-dev libcairo2-dev libharfbuzz-dev libfribidi-dev libudunits2-dev\n",
        "!pip install --upgrade --no-cache-dir gdown\n",
        "!gdown 1W0TuuQospxcasOX5cQdhT_Xd-k7-QAck\n",
        "!tar xf library.tar.gz\n",
        "!pip3 install scanpy[leiden] anndata2ri\n",
        "\n",
        "# Необходимо, чтобы конкретно прогрузился matplotlib\n",
        "import os\n",
        "os.kill(os.getpid(), 9)\n",
        "\n",
        "%load_ext rpy2.ipython"
      ]
    },
    {
      "cell_type": "code",
      "source": [
        "import anndata2ri\n",
        "anndata2ri.activate()\n",
        "%load_ext rpy2.ipython\n",
        "%R .libPaths(\"usr/local/lib/R/site-library/\")"
      ],
      "metadata": {
        "id": "qB7sEMg-j5bN",
        "colab": {
          "base_uri": "https://localhost:8080/",
          "height": 58
        },
        "outputId": "51252f5e-b507-4d90-f5b6-4172d34dc6f2"
      },
      "execution_count": 4,
      "outputs": [
        {
          "output_type": "execute_result",
          "data": {
            "text/plain": [
              "<rpy2.robjects.vectors.StrVector object at 0x7fd5b8a80240> [RTYPES.STRSXP]\n",
              "R classes: ('character',)\n",
              "['/content/..., '/usr/loca..., '/usr/lib/..., '/usr/lib/...]"
            ],
            "text/html": [
              "\n",
              "        <span>StrVector with 4 elements.</span>\n",
              "        <table>\n",
              "        <tbody>\n",
              "          <tr>\n",
              "          \n",
              "            <td>\n",
              "            '/content/...\n",
              "            </td>\n",
              "          \n",
              "            <td>\n",
              "            '/usr/loca...\n",
              "            </td>\n",
              "          \n",
              "            <td>\n",
              "            '/usr/lib/...\n",
              "            </td>\n",
              "          \n",
              "            <td>\n",
              "            '/usr/lib/...\n",
              "            </td>\n",
              "          \n",
              "          </tr>\n",
              "        </tbody>\n",
              "        </table>\n",
              "        "
            ]
          },
          "metadata": {},
          "execution_count": 4
        }
      ]
    },
    {
      "cell_type": "markdown",
      "source": [
        "Давайте для начала скачаем и распакуем архив с аутпутом программы Cell Ranger (без файла выравнивания, для уменьшения объёма). Он лежит в Google Colab со следующим ID: `1qmMBM0gt3EO9Gk30Weo11Sriy3wuZmUM` — и может быть загружен при помощи gdown:"
      ],
      "metadata": {
        "id": "4PTK01407GA3"
      }
    },
    {
      "cell_type": "code",
      "execution_count": 5,
      "metadata": {
        "id": "rXXRTE3TITtd",
        "colab": {
          "base_uri": "https://localhost:8080/"
        },
        "outputId": "a745da77-3200-4613-eceb-127615f907a4"
      },
      "outputs": [
        {
          "output_type": "stream",
          "name": "stdout",
          "text": [
            "Downloading...\n",
            "From: https://drive.google.com/uc?id=1Ctq4EmV2ps1dMiFcbqW467ywezRSGGN0\n",
            "To: /content/PBMC_10k.zip\n",
            "100% 345M/345M [00:02<00:00, 119MB/s]\n",
            "Archive:  PBMC_10k.zip\n",
            "  inflating: filtered_feature_bc_matrix.h5  \n",
            "  inflating: filtered_feature_bc_matrix.tar.gz  \n",
            "  inflating: metrics_summary.csv     \n",
            "  inflating: raw_feature_bc_matrix.h5  \n",
            "  inflating: raw_feature_bc_matrix.tar.gz  \n",
            "  inflating: web_summary.html        \n"
          ]
        }
      ],
      "source": [
        "!gdown 1Ctq4EmV2ps1dMiFcbqW467ywezRSGGN0\n",
        "!unzip PBMC_10k.zip"
      ]
    },
    {
      "cell_type": "markdown",
      "metadata": {
        "id": "wwzXjAqnLqMb"
      },
      "source": [
        "Мы видим четыре файла: архив с нефильтрованной матрицей экспрессий, архив с отфильтрованными клетками, а также .html-отчёт о качестве выравнивания и его текстовая версия. Разархивируем отфильтрованные матрицы экспрессий."
      ]
    },
    {
      "cell_type": "code",
      "execution_count": 6,
      "metadata": {
        "colab": {
          "base_uri": "https://localhost:8080/"
        },
        "id": "EsenuQB8KvtG",
        "outputId": "63ac3623-d4f9-4b1f-8826-0536fb05f3a6"
      },
      "outputs": [
        {
          "output_type": "stream",
          "name": "stdout",
          "text": [
            "filtered_feature_bc_matrix/\n",
            "filtered_feature_bc_matrix/matrix.mtx.gz\n",
            "filtered_feature_bc_matrix/features.tsv.gz\n",
            "filtered_feature_bc_matrix/barcodes.tsv.gz\n"
          ]
        }
      ],
      "source": [
        "!tar -xvzf filtered_feature_bc_matrix.tar.gz"
      ]
    },
    {
      "cell_type": "markdown",
      "source": [
        "## Scanpy и AnnData"
      ],
      "metadata": {
        "id": "LPH5QQ9Y8ASP"
      }
    },
    {
      "cell_type": "markdown",
      "source": [
        "Давайте прочитаем содержимое отфильтрованной матрицы и создадим объект формата AnnData (и назовём его adata). Попробуем вывести его функцией `print()`."
      ],
      "metadata": {
        "id": "UIY6qOfE7Wil"
      }
    },
    {
      "cell_type": "code",
      "source": [
        "import scanpy as sc\n",
        "\n",
        "adata = sc.read_10x_mtx(\"filtered_feature_bc_matrix\") # Эта функция позволяет быстро прочитать аутпут программы Cell Ranger\n",
        "print(adata) # Выведем содержимое"
      ],
      "metadata": {
        "colab": {
          "base_uri": "https://localhost:8080/"
        },
        "id": "rzmhYntl7UaL",
        "outputId": "1e7400e4-6ef8-4218-bf14-f2a9dfcec819"
      },
      "execution_count": 7,
      "outputs": [
        {
          "output_type": "stream",
          "name": "stdout",
          "text": [
            "AnnData object with n_obs × n_vars = 11996 × 36601\n",
            "    var: 'gene_ids', 'feature_types'\n"
          ]
        }
      ]
    },
    {
      "cell_type": "markdown",
      "source": [
        "Сердце объекта AnnData — это матрица, в которой находятся данные по числу UMI каждого гена на каждую клетку. В нашем случае эта матрица имеет размерность число клеток × число генов, то есть 8381 × 33694. Для того, чтобы напрямую обратиться к этой матрице, необходимо вызвать объект `adata.X`.\n",
        "\n",
        "Эта матрица пока находится в sparse-виде. Это такой формат, который подразумевает, что нулей в матрице сильно больше, чем ненулевых элементов — тогда в явном виде можно хранить только координаты ненулевых элементов, это сильно экономит память. Ниже будет приведена иллюстрация того, как выглядит sparse-матрица."
      ],
      "metadata": {
        "id": "47Azok5j7gMX"
      }
    },
    {
      "cell_type": "code",
      "source": [
        "from scipy.sparse import csr_matrix\n",
        "import numpy as np\n",
        "\n",
        "x = np.matrix(\n",
        "    [[1, 0, 0, 0, 0],\n",
        "     [0, 1, 0, 0, 0],\n",
        "     [0, 0, 1, 0, 0],\n",
        "     [0, 0, 0, 1, 0],\n",
        "     [0, 0, 0, 0, 1]]\n",
        ") # Создадим матрицу, с которой мы будем работать\n",
        "print(x) # Выведем её содержимое"
      ],
      "metadata": {
        "colab": {
          "base_uri": "https://localhost:8080/"
        },
        "id": "Ur4kYE8s7YY1",
        "outputId": "d8b15502-458c-4253-a288-1f600aff1f5c"
      },
      "execution_count": 8,
      "outputs": [
        {
          "output_type": "stream",
          "name": "stdout",
          "text": [
            "[[1 0 0 0 0]\n",
            " [0 1 0 0 0]\n",
            " [0 0 1 0 0]\n",
            " [0 0 0 1 0]\n",
            " [0 0 0 0 1]]\n"
          ]
        }
      ]
    },
    {
      "cell_type": "code",
      "source": [
        "x_csr = csr_matrix(x) # Создадим из матрицы x sparse-матрицу\n",
        "print(x_csr) # Выведем её содержимое"
      ],
      "metadata": {
        "colab": {
          "base_uri": "https://localhost:8080/"
        },
        "id": "Mgx6S3Ta7jpG",
        "outputId": "de448209-50d2-408f-9469-91479dc00e69"
      },
      "execution_count": 9,
      "outputs": [
        {
          "output_type": "stream",
          "name": "stdout",
          "text": [
            "  (0, 0)\t1\n",
            "  (1, 1)\t1\n",
            "  (2, 2)\t1\n",
            "  (3, 3)\t1\n",
            "  (4, 4)\t1\n"
          ]
        }
      ]
    },
    {
      "cell_type": "code",
      "source": [
        "x_csr.A"
      ],
      "metadata": {
        "colab": {
          "base_uri": "https://localhost:8080/"
        },
        "id": "DSDz9v2O_h7K",
        "outputId": "8c3de6c3-82ae-4aea-b4b9-03a8ce54be79"
      },
      "execution_count": 10,
      "outputs": [
        {
          "output_type": "execute_result",
          "data": {
            "text/plain": [
              "array([[1, 0, 0, 0, 0],\n",
              "       [0, 1, 0, 0, 0],\n",
              "       [0, 0, 1, 0, 0],\n",
              "       [0, 0, 0, 1, 0],\n",
              "       [0, 0, 0, 0, 1]])"
            ]
          },
          "metadata": {},
          "execution_count": 10
        }
      ]
    },
    {
      "cell_type": "markdown",
      "source": [
        "Посмотрим на содержимое нашего scRNA-Seq датасета:"
      ],
      "metadata": {
        "id": "pyNjxQu87qY7"
      }
    },
    {
      "cell_type": "code",
      "source": [
        "print(adata.X.A)"
      ],
      "metadata": {
        "colab": {
          "base_uri": "https://localhost:8080/"
        },
        "id": "vkh51zM_7m-N",
        "outputId": "0f499f36-a650-464c-bc2b-b4555ad2d344"
      },
      "execution_count": 11,
      "outputs": [
        {
          "output_type": "stream",
          "name": "stdout",
          "text": [
            "[[0. 0. 0. ... 0. 0. 0.]\n",
            " [0. 0. 0. ... 0. 0. 0.]\n",
            " [0. 0. 0. ... 0. 0. 0.]\n",
            " ...\n",
            " [0. 0. 0. ... 0. 0. 0.]\n",
            " [0. 0. 0. ... 0. 0. 0.]\n",
            " [0. 0. 0. ... 0. 0. 0.]]\n"
          ]
        }
      ]
    },
    {
      "cell_type": "code",
      "source": [
        "print(adata.X)"
      ],
      "metadata": {
        "colab": {
          "base_uri": "https://localhost:8080/"
        },
        "id": "2Lu7P6vfW2Iq",
        "outputId": "9427f19d-f263-4f12-9625-637d5170a410"
      },
      "execution_count": 12,
      "outputs": [
        {
          "output_type": "stream",
          "name": "stdout",
          "text": [
            "  (0, 24)\t1.0\n",
            "  (0, 29)\t5.0\n",
            "  (0, 30)\t18.0\n",
            "  (0, 44)\t2.0\n",
            "  (0, 59)\t3.0\n",
            "  (0, 60)\t2.0\n",
            "  (0, 62)\t1.0\n",
            "  (0, 75)\t1.0\n",
            "  (0, 85)\t1.0\n",
            "  (0, 86)\t3.0\n",
            "  (0, 97)\t2.0\n",
            "  (0, 104)\t1.0\n",
            "  (0, 113)\t1.0\n",
            "  (0, 170)\t16.0\n",
            "  (0, 182)\t1.0\n",
            "  (0, 208)\t2.0\n",
            "  (0, 219)\t4.0\n",
            "  (0, 237)\t1.0\n",
            "  (0, 241)\t1.0\n",
            "  (0, 245)\t1.0\n",
            "  (0, 254)\t1.0\n",
            "  (0, 265)\t1.0\n",
            "  (0, 282)\t1.0\n",
            "  (0, 290)\t1.0\n",
            "  (0, 293)\t1.0\n",
            "  :\t:\n",
            "  (11995, 36368)\t1.0\n",
            "  (11995, 36372)\t3.0\n",
            "  (11995, 36378)\t6.0\n",
            "  (11995, 36383)\t2.0\n",
            "  (11995, 36390)\t1.0\n",
            "  (11995, 36398)\t1.0\n",
            "  (11995, 36401)\t65.0\n",
            "  (11995, 36407)\t1.0\n",
            "  (11995, 36413)\t1.0\n",
            "  (11995, 36422)\t1.0\n",
            "  (11995, 36432)\t1.0\n",
            "  (11995, 36433)\t3.0\n",
            "  (11995, 36559)\t25.0\n",
            "  (11995, 36560)\t16.0\n",
            "  (11995, 36561)\t76.0\n",
            "  (11995, 36562)\t76.0\n",
            "  (11995, 36563)\t1.0\n",
            "  (11995, 36564)\t84.0\n",
            "  (11995, 36565)\t66.0\n",
            "  (11995, 36566)\t39.0\n",
            "  (11995, 36567)\t3.0\n",
            "  (11995, 36568)\t46.0\n",
            "  (11995, 36569)\t8.0\n",
            "  (11995, 36570)\t1.0\n",
            "  (11995, 36571)\t44.0\n"
          ]
        }
      ]
    },
    {
      "cell_type": "markdown",
      "source": [
        "Теперь можем посмотреть, что хранится в датафрейме с аннотацией клеток (баркод)."
      ],
      "metadata": {
        "id": "NaaDizm57uVN"
      }
    },
    {
      "cell_type": "code",
      "source": [
        "adata.obs # Шапка датафрейма с аннотацией клеток"
      ],
      "metadata": {
        "colab": {
          "base_uri": "https://localhost:8080/",
          "height": 406
        },
        "id": "kAV5JGoM7rvf",
        "outputId": "9a8c6130-c8f7-4313-a1eb-a9689b419163"
      },
      "execution_count": 13,
      "outputs": [
        {
          "output_type": "execute_result",
          "data": {
            "text/plain": [
              "Empty DataFrame\n",
              "Columns: []\n",
              "Index: [AAACCCAAGGCCCAAA-1, AAACCCAAGTAATACG-1, AAACCCAAGTCACACT-1, AAACCCACAAAGCGTG-1, AAACCCACAATCGAAA-1, AAACCCACAGATCACT-1, AAACCCACATTGACCA-1, AAACCCAGTGAGCCAA-1, AAACCCAGTGATAGAT-1, AAACCCAGTGCCTGAC-1, AAACCCAGTGGTCTTA-1, AAACCCATCAGCCTCT-1, AAACGAAAGATGAATC-1, AAACGAACAGAATTCC-1, AAACGAACAGGATGAC-1, AAACGAAGTTACGCCG-1, AAACGAATCAACGAGG-1, AAACGAATCCGATAGT-1, AAACGAATCTCGACCT-1, AAACGCTAGCCTGACC-1, AAACGCTAGGACAAGA-1, AAACGCTAGGCCTTGC-1, AAACGCTCATACATCG-1, AAACGCTCATACGCAT-1, AAACGCTCATGAATCC-1, AAACGCTCATTCTGTT-1, AAACGCTGTCCATCTC-1, AAACGCTGTGAGCGAT-1, AAACGCTTCGACCACG-1, AAAGAACAGCATAGGC-1, AAAGAACAGCCTGAAG-1, AAAGAACAGGCCCGTT-1, AAAGAACCAAAGGGTC-1, AAAGAACCAGATCCTA-1, AAAGAACCAGGTTCGC-1, AAAGAACCATGGAGAC-1, AAAGAACGTCAAAGAT-1, AAAGAACTCGTGTCAA-1, AAAGGATAGAACAGGA-1, AAAGGATAGTGAGGCT-1, AAAGGATCAATGACCT-1, AAAGGATCACTACCGG-1, AAAGGATCACTAGTAC-1, AAAGGATGTCCTGGGT-1, AAAGGATGTGAGTAAT-1, AAAGGATGTGGGCTCT-1, AAAGGATGTTCCATTT-1, AAAGGATTCACGATCA-1, AAAGGATTCATTCATC-1, AAAGGATTCGGCGATC-1, AAAGGGCAGGCGACAT-1, AAAGGGCAGGGTAGCT-1, AAAGGGCCAGTAACGG-1, AAAGGGCGTACGAGTG-1, AAAGGGCGTCGAATGG-1, AAAGGGCTCACCCTCA-1, AAAGGGCTCACTGTTT-1, AAAGGGCTCCCGGTAG-1, AAAGGGCTCGCCAATA-1, AAAGGGCTCTTTGCTA-1, AAAGGTAAGCAAGTCG-1, AAAGGTAAGGGATGTC-1, AAAGGTAAGTAAACAC-1, AAAGGTAAGTTGCCCG-1, AAAGGTACAATACAGA-1, AAAGGTACACGCGTCA-1, AAAGGTACACTTACAG-1, AAAGGTACAGGAACCA-1, AAAGGTACATGGACAG-1, AAAGGTAGTCGCATGC-1, AAAGGTATCCGTGTCT-1, AAAGGTATCTCGTCAC-1, AAAGTCCAGCCATGCC-1, AAAGTCCAGCTACAAA-1, AAAGTCCCACCCATAA-1, AAAGTCCCACTACCCT-1, AAAGTCCCAGAGGCTA-1, AAAGTCCGTACGACAG-1, AAAGTCCTCGGATTAC-1, AAAGTGAAGACAGTCG-1, AAAGTGAAGAGCTGCA-1, AAAGTGAAGAGTGTGC-1, AAAGTGAAGATACGAT-1, AAAGTGAAGCCTCTTC-1, AAAGTGAAGCTTAGTC-1, AAAGTGAAGGTGCTTT-1, AAAGTGACAACGTATC-1, AAAGTGACAATAGGAT-1, AAAGTGACAATCGCAT-1, AAAGTGACATCGTGCG-1, AAAGTGACATTGCTTT-1, AAAGTGAGTTACCCTC-1, AAAGTGATCCAAGGGA-1, AAATGGAAGATCCGAG-1, AAATGGAAGATGAAGG-1, AAATGGACAACAAAGT-1, AAATGGACAATGTCTG-1, AAATGGACACGACCTG-1, AAATGGACAGATTTCG-1, AAATGGAGTACTGCGC-1, ...]\n",
              "\n",
              "[11996 rows x 0 columns]"
            ],
            "text/html": [
              "\n",
              "  <div id=\"df-28eff310-49f8-4ece-8782-81850ea5f6bc\">\n",
              "    <div class=\"colab-df-container\">\n",
              "      <div>\n",
              "<style scoped>\n",
              "    .dataframe tbody tr th:only-of-type {\n",
              "        vertical-align: middle;\n",
              "    }\n",
              "\n",
              "    .dataframe tbody tr th {\n",
              "        vertical-align: top;\n",
              "    }\n",
              "\n",
              "    .dataframe thead th {\n",
              "        text-align: right;\n",
              "    }\n",
              "</style>\n",
              "<table border=\"1\" class=\"dataframe\">\n",
              "  <thead>\n",
              "    <tr style=\"text-align: right;\">\n",
              "      <th></th>\n",
              "    </tr>\n",
              "  </thead>\n",
              "  <tbody>\n",
              "    <tr>\n",
              "      <th>AAACCCAAGGCCCAAA-1</th>\n",
              "    </tr>\n",
              "    <tr>\n",
              "      <th>AAACCCAAGTAATACG-1</th>\n",
              "    </tr>\n",
              "    <tr>\n",
              "      <th>AAACCCAAGTCACACT-1</th>\n",
              "    </tr>\n",
              "    <tr>\n",
              "      <th>AAACCCACAAAGCGTG-1</th>\n",
              "    </tr>\n",
              "    <tr>\n",
              "      <th>AAACCCACAATCGAAA-1</th>\n",
              "    </tr>\n",
              "    <tr>\n",
              "      <th>...</th>\n",
              "    </tr>\n",
              "    <tr>\n",
              "      <th>TTTGTTGGTTGGATCT-1</th>\n",
              "    </tr>\n",
              "    <tr>\n",
              "      <th>TTTGTTGGTTTCTTAC-1</th>\n",
              "    </tr>\n",
              "    <tr>\n",
              "      <th>TTTGTTGTCCATTTCA-1</th>\n",
              "    </tr>\n",
              "    <tr>\n",
              "      <th>TTTGTTGTCTACACAG-1</th>\n",
              "    </tr>\n",
              "    <tr>\n",
              "      <th>TTTGTTGTCTCATTAC-1</th>\n",
              "    </tr>\n",
              "  </tbody>\n",
              "</table>\n",
              "<p>11996 rows × 0 columns</p>\n",
              "</div>\n",
              "      <button class=\"colab-df-convert\" onclick=\"convertToInteractive('df-28eff310-49f8-4ece-8782-81850ea5f6bc')\"\n",
              "              title=\"Convert this dataframe to an interactive table.\"\n",
              "              style=\"display:none;\">\n",
              "        \n",
              "  <svg xmlns=\"http://www.w3.org/2000/svg\" height=\"24px\"viewBox=\"0 0 24 24\"\n",
              "       width=\"24px\">\n",
              "    <path d=\"M0 0h24v24H0V0z\" fill=\"none\"/>\n",
              "    <path d=\"M18.56 5.44l.94 2.06.94-2.06 2.06-.94-2.06-.94-.94-2.06-.94 2.06-2.06.94zm-11 1L8.5 8.5l.94-2.06 2.06-.94-2.06-.94L8.5 2.5l-.94 2.06-2.06.94zm10 10l.94 2.06.94-2.06 2.06-.94-2.06-.94-.94-2.06-.94 2.06-2.06.94z\"/><path d=\"M17.41 7.96l-1.37-1.37c-.4-.4-.92-.59-1.43-.59-.52 0-1.04.2-1.43.59L10.3 9.45l-7.72 7.72c-.78.78-.78 2.05 0 2.83L4 21.41c.39.39.9.59 1.41.59.51 0 1.02-.2 1.41-.59l7.78-7.78 2.81-2.81c.8-.78.8-2.07 0-2.86zM5.41 20L4 18.59l7.72-7.72 1.47 1.35L5.41 20z\"/>\n",
              "  </svg>\n",
              "      </button>\n",
              "      \n",
              "  <style>\n",
              "    .colab-df-container {\n",
              "      display:flex;\n",
              "      flex-wrap:wrap;\n",
              "      gap: 12px;\n",
              "    }\n",
              "\n",
              "    .colab-df-convert {\n",
              "      background-color: #E8F0FE;\n",
              "      border: none;\n",
              "      border-radius: 50%;\n",
              "      cursor: pointer;\n",
              "      display: none;\n",
              "      fill: #1967D2;\n",
              "      height: 32px;\n",
              "      padding: 0 0 0 0;\n",
              "      width: 32px;\n",
              "    }\n",
              "\n",
              "    .colab-df-convert:hover {\n",
              "      background-color: #E2EBFA;\n",
              "      box-shadow: 0px 1px 2px rgba(60, 64, 67, 0.3), 0px 1px 3px 1px rgba(60, 64, 67, 0.15);\n",
              "      fill: #174EA6;\n",
              "    }\n",
              "\n",
              "    [theme=dark] .colab-df-convert {\n",
              "      background-color: #3B4455;\n",
              "      fill: #D2E3FC;\n",
              "    }\n",
              "\n",
              "    [theme=dark] .colab-df-convert:hover {\n",
              "      background-color: #434B5C;\n",
              "      box-shadow: 0px 1px 3px 1px rgba(0, 0, 0, 0.15);\n",
              "      filter: drop-shadow(0px 1px 2px rgba(0, 0, 0, 0.3));\n",
              "      fill: #FFFFFF;\n",
              "    }\n",
              "  </style>\n",
              "\n",
              "      <script>\n",
              "        const buttonEl =\n",
              "          document.querySelector('#df-28eff310-49f8-4ece-8782-81850ea5f6bc button.colab-df-convert');\n",
              "        buttonEl.style.display =\n",
              "          google.colab.kernel.accessAllowed ? 'block' : 'none';\n",
              "\n",
              "        async function convertToInteractive(key) {\n",
              "          const element = document.querySelector('#df-28eff310-49f8-4ece-8782-81850ea5f6bc');\n",
              "          const dataTable =\n",
              "            await google.colab.kernel.invokeFunction('convertToInteractive',\n",
              "                                                     [key], {});\n",
              "          if (!dataTable) return;\n",
              "\n",
              "          const docLinkHtml = 'Like what you see? Visit the ' +\n",
              "            '<a target=\"_blank\" href=https://colab.research.google.com/notebooks/data_table.ipynb>data table notebook</a>'\n",
              "            + ' to learn more about interactive tables.';\n",
              "          element.innerHTML = '';\n",
              "          dataTable['output_type'] = 'display_data';\n",
              "          await google.colab.output.renderOutput(dataTable, element);\n",
              "          const docLink = document.createElement('div');\n",
              "          docLink.innerHTML = docLinkHtml;\n",
              "          element.appendChild(docLink);\n",
              "        }\n",
              "      </script>\n",
              "    </div>\n",
              "  </div>\n",
              "  "
            ]
          },
          "metadata": {},
          "execution_count": 13
        }
      ]
    },
    {
      "cell_type": "markdown",
      "source": [
        "Мы видим, что в аннотации по клеткам нет никаких дополнительных полей, кроме индекса с баркодами клеток. Какие это могут быть дополнительные поля? Например, сколько различных генов экспрессируется в клетке, из какого пациента были получены клетки, к какому типу клеток они относятся. Дальше этот датафрейм будет только расширяться, и к концу мы увидим, насколько много будет у него полей. Давайте попробуем добавить колонку tissue, которой присвоим значение PBMC."
      ],
      "metadata": {
        "id": "H36T5S2l7yrp"
      }
    },
    {
      "cell_type": "code",
      "source": [
        "adata.obs[\"tissue\"] = \"PBMC\" # Делаем новый лист, который будет состоять из слова PBMC\n",
        "adata.obs.head()"
      ],
      "metadata": {
        "colab": {
          "base_uri": "https://localhost:8080/",
          "height": 206
        },
        "id": "wpIXuSaD7wBB",
        "outputId": "625d003d-5164-4f7c-9f18-a8fbd171ae80"
      },
      "execution_count": 14,
      "outputs": [
        {
          "output_type": "execute_result",
          "data": {
            "text/plain": [
              "                   tissue\n",
              "AAACCCAAGGCCCAAA-1   PBMC\n",
              "AAACCCAAGTAATACG-1   PBMC\n",
              "AAACCCAAGTCACACT-1   PBMC\n",
              "AAACCCACAAAGCGTG-1   PBMC\n",
              "AAACCCACAATCGAAA-1   PBMC"
            ],
            "text/html": [
              "\n",
              "  <div id=\"df-dd8552d3-737e-4711-b6c6-b47acb991c18\">\n",
              "    <div class=\"colab-df-container\">\n",
              "      <div>\n",
              "<style scoped>\n",
              "    .dataframe tbody tr th:only-of-type {\n",
              "        vertical-align: middle;\n",
              "    }\n",
              "\n",
              "    .dataframe tbody tr th {\n",
              "        vertical-align: top;\n",
              "    }\n",
              "\n",
              "    .dataframe thead th {\n",
              "        text-align: right;\n",
              "    }\n",
              "</style>\n",
              "<table border=\"1\" class=\"dataframe\">\n",
              "  <thead>\n",
              "    <tr style=\"text-align: right;\">\n",
              "      <th></th>\n",
              "      <th>tissue</th>\n",
              "    </tr>\n",
              "  </thead>\n",
              "  <tbody>\n",
              "    <tr>\n",
              "      <th>AAACCCAAGGCCCAAA-1</th>\n",
              "      <td>PBMC</td>\n",
              "    </tr>\n",
              "    <tr>\n",
              "      <th>AAACCCAAGTAATACG-1</th>\n",
              "      <td>PBMC</td>\n",
              "    </tr>\n",
              "    <tr>\n",
              "      <th>AAACCCAAGTCACACT-1</th>\n",
              "      <td>PBMC</td>\n",
              "    </tr>\n",
              "    <tr>\n",
              "      <th>AAACCCACAAAGCGTG-1</th>\n",
              "      <td>PBMC</td>\n",
              "    </tr>\n",
              "    <tr>\n",
              "      <th>AAACCCACAATCGAAA-1</th>\n",
              "      <td>PBMC</td>\n",
              "    </tr>\n",
              "  </tbody>\n",
              "</table>\n",
              "</div>\n",
              "      <button class=\"colab-df-convert\" onclick=\"convertToInteractive('df-dd8552d3-737e-4711-b6c6-b47acb991c18')\"\n",
              "              title=\"Convert this dataframe to an interactive table.\"\n",
              "              style=\"display:none;\">\n",
              "        \n",
              "  <svg xmlns=\"http://www.w3.org/2000/svg\" height=\"24px\"viewBox=\"0 0 24 24\"\n",
              "       width=\"24px\">\n",
              "    <path d=\"M0 0h24v24H0V0z\" fill=\"none\"/>\n",
              "    <path d=\"M18.56 5.44l.94 2.06.94-2.06 2.06-.94-2.06-.94-.94-2.06-.94 2.06-2.06.94zm-11 1L8.5 8.5l.94-2.06 2.06-.94-2.06-.94L8.5 2.5l-.94 2.06-2.06.94zm10 10l.94 2.06.94-2.06 2.06-.94-2.06-.94-.94-2.06-.94 2.06-2.06.94z\"/><path d=\"M17.41 7.96l-1.37-1.37c-.4-.4-.92-.59-1.43-.59-.52 0-1.04.2-1.43.59L10.3 9.45l-7.72 7.72c-.78.78-.78 2.05 0 2.83L4 21.41c.39.39.9.59 1.41.59.51 0 1.02-.2 1.41-.59l7.78-7.78 2.81-2.81c.8-.78.8-2.07 0-2.86zM5.41 20L4 18.59l7.72-7.72 1.47 1.35L5.41 20z\"/>\n",
              "  </svg>\n",
              "      </button>\n",
              "      \n",
              "  <style>\n",
              "    .colab-df-container {\n",
              "      display:flex;\n",
              "      flex-wrap:wrap;\n",
              "      gap: 12px;\n",
              "    }\n",
              "\n",
              "    .colab-df-convert {\n",
              "      background-color: #E8F0FE;\n",
              "      border: none;\n",
              "      border-radius: 50%;\n",
              "      cursor: pointer;\n",
              "      display: none;\n",
              "      fill: #1967D2;\n",
              "      height: 32px;\n",
              "      padding: 0 0 0 0;\n",
              "      width: 32px;\n",
              "    }\n",
              "\n",
              "    .colab-df-convert:hover {\n",
              "      background-color: #E2EBFA;\n",
              "      box-shadow: 0px 1px 2px rgba(60, 64, 67, 0.3), 0px 1px 3px 1px rgba(60, 64, 67, 0.15);\n",
              "      fill: #174EA6;\n",
              "    }\n",
              "\n",
              "    [theme=dark] .colab-df-convert {\n",
              "      background-color: #3B4455;\n",
              "      fill: #D2E3FC;\n",
              "    }\n",
              "\n",
              "    [theme=dark] .colab-df-convert:hover {\n",
              "      background-color: #434B5C;\n",
              "      box-shadow: 0px 1px 3px 1px rgba(0, 0, 0, 0.15);\n",
              "      filter: drop-shadow(0px 1px 2px rgba(0, 0, 0, 0.3));\n",
              "      fill: #FFFFFF;\n",
              "    }\n",
              "  </style>\n",
              "\n",
              "      <script>\n",
              "        const buttonEl =\n",
              "          document.querySelector('#df-dd8552d3-737e-4711-b6c6-b47acb991c18 button.colab-df-convert');\n",
              "        buttonEl.style.display =\n",
              "          google.colab.kernel.accessAllowed ? 'block' : 'none';\n",
              "\n",
              "        async function convertToInteractive(key) {\n",
              "          const element = document.querySelector('#df-dd8552d3-737e-4711-b6c6-b47acb991c18');\n",
              "          const dataTable =\n",
              "            await google.colab.kernel.invokeFunction('convertToInteractive',\n",
              "                                                     [key], {});\n",
              "          if (!dataTable) return;\n",
              "\n",
              "          const docLinkHtml = 'Like what you see? Visit the ' +\n",
              "            '<a target=\"_blank\" href=https://colab.research.google.com/notebooks/data_table.ipynb>data table notebook</a>'\n",
              "            + ' to learn more about interactive tables.';\n",
              "          element.innerHTML = '';\n",
              "          dataTable['output_type'] = 'display_data';\n",
              "          await google.colab.output.renderOutput(dataTable, element);\n",
              "          const docLink = document.createElement('div');\n",
              "          docLink.innerHTML = docLinkHtml;\n",
              "          element.appendChild(docLink);\n",
              "        }\n",
              "      </script>\n",
              "    </div>\n",
              "  </div>\n",
              "  "
            ]
          },
          "metadata": {},
          "execution_count": 14
        }
      ]
    },
    {
      "cell_type": "markdown",
      "source": [
        "Правилом хорошо тона будет переименовывание индекса в индекс, описывающий данные (например, donor1 или don2)."
      ],
      "metadata": {
        "id": "dNM3e5nYYthB"
      }
    },
    {
      "cell_type": "code",
      "source": [
        "sample_name = \"don1\"\n",
        "adata.obs.index = [barcode.split(\"-\")[0] + f\":{sample_name}\" for barcode in adata.obs.index]"
      ],
      "metadata": {
        "id": "GPqwC23iACH3"
      },
      "execution_count": 15,
      "outputs": []
    },
    {
      "cell_type": "code",
      "source": [
        "adata.obs.head()"
      ],
      "metadata": {
        "colab": {
          "base_uri": "https://localhost:8080/",
          "height": 206
        },
        "id": "09fNFOFhWESO",
        "outputId": "feafb7dd-bfe1-4dc0-e185-c0721506dbbb"
      },
      "execution_count": 16,
      "outputs": [
        {
          "output_type": "execute_result",
          "data": {
            "text/plain": [
              "                      tissue\n",
              "AAACCCAAGGCCCAAA:don1   PBMC\n",
              "AAACCCAAGTAATACG:don1   PBMC\n",
              "AAACCCAAGTCACACT:don1   PBMC\n",
              "AAACCCACAAAGCGTG:don1   PBMC\n",
              "AAACCCACAATCGAAA:don1   PBMC"
            ],
            "text/html": [
              "\n",
              "  <div id=\"df-ab0e047d-372a-4a83-a333-7c23e052167d\">\n",
              "    <div class=\"colab-df-container\">\n",
              "      <div>\n",
              "<style scoped>\n",
              "    .dataframe tbody tr th:only-of-type {\n",
              "        vertical-align: middle;\n",
              "    }\n",
              "\n",
              "    .dataframe tbody tr th {\n",
              "        vertical-align: top;\n",
              "    }\n",
              "\n",
              "    .dataframe thead th {\n",
              "        text-align: right;\n",
              "    }\n",
              "</style>\n",
              "<table border=\"1\" class=\"dataframe\">\n",
              "  <thead>\n",
              "    <tr style=\"text-align: right;\">\n",
              "      <th></th>\n",
              "      <th>tissue</th>\n",
              "    </tr>\n",
              "  </thead>\n",
              "  <tbody>\n",
              "    <tr>\n",
              "      <th>AAACCCAAGGCCCAAA:don1</th>\n",
              "      <td>PBMC</td>\n",
              "    </tr>\n",
              "    <tr>\n",
              "      <th>AAACCCAAGTAATACG:don1</th>\n",
              "      <td>PBMC</td>\n",
              "    </tr>\n",
              "    <tr>\n",
              "      <th>AAACCCAAGTCACACT:don1</th>\n",
              "      <td>PBMC</td>\n",
              "    </tr>\n",
              "    <tr>\n",
              "      <th>AAACCCACAAAGCGTG:don1</th>\n",
              "      <td>PBMC</td>\n",
              "    </tr>\n",
              "    <tr>\n",
              "      <th>AAACCCACAATCGAAA:don1</th>\n",
              "      <td>PBMC</td>\n",
              "    </tr>\n",
              "  </tbody>\n",
              "</table>\n",
              "</div>\n",
              "      <button class=\"colab-df-convert\" onclick=\"convertToInteractive('df-ab0e047d-372a-4a83-a333-7c23e052167d')\"\n",
              "              title=\"Convert this dataframe to an interactive table.\"\n",
              "              style=\"display:none;\">\n",
              "        \n",
              "  <svg xmlns=\"http://www.w3.org/2000/svg\" height=\"24px\"viewBox=\"0 0 24 24\"\n",
              "       width=\"24px\">\n",
              "    <path d=\"M0 0h24v24H0V0z\" fill=\"none\"/>\n",
              "    <path d=\"M18.56 5.44l.94 2.06.94-2.06 2.06-.94-2.06-.94-.94-2.06-.94 2.06-2.06.94zm-11 1L8.5 8.5l.94-2.06 2.06-.94-2.06-.94L8.5 2.5l-.94 2.06-2.06.94zm10 10l.94 2.06.94-2.06 2.06-.94-2.06-.94-.94-2.06-.94 2.06-2.06.94z\"/><path d=\"M17.41 7.96l-1.37-1.37c-.4-.4-.92-.59-1.43-.59-.52 0-1.04.2-1.43.59L10.3 9.45l-7.72 7.72c-.78.78-.78 2.05 0 2.83L4 21.41c.39.39.9.59 1.41.59.51 0 1.02-.2 1.41-.59l7.78-7.78 2.81-2.81c.8-.78.8-2.07 0-2.86zM5.41 20L4 18.59l7.72-7.72 1.47 1.35L5.41 20z\"/>\n",
              "  </svg>\n",
              "      </button>\n",
              "      \n",
              "  <style>\n",
              "    .colab-df-container {\n",
              "      display:flex;\n",
              "      flex-wrap:wrap;\n",
              "      gap: 12px;\n",
              "    }\n",
              "\n",
              "    .colab-df-convert {\n",
              "      background-color: #E8F0FE;\n",
              "      border: none;\n",
              "      border-radius: 50%;\n",
              "      cursor: pointer;\n",
              "      display: none;\n",
              "      fill: #1967D2;\n",
              "      height: 32px;\n",
              "      padding: 0 0 0 0;\n",
              "      width: 32px;\n",
              "    }\n",
              "\n",
              "    .colab-df-convert:hover {\n",
              "      background-color: #E2EBFA;\n",
              "      box-shadow: 0px 1px 2px rgba(60, 64, 67, 0.3), 0px 1px 3px 1px rgba(60, 64, 67, 0.15);\n",
              "      fill: #174EA6;\n",
              "    }\n",
              "\n",
              "    [theme=dark] .colab-df-convert {\n",
              "      background-color: #3B4455;\n",
              "      fill: #D2E3FC;\n",
              "    }\n",
              "\n",
              "    [theme=dark] .colab-df-convert:hover {\n",
              "      background-color: #434B5C;\n",
              "      box-shadow: 0px 1px 3px 1px rgba(0, 0, 0, 0.15);\n",
              "      filter: drop-shadow(0px 1px 2px rgba(0, 0, 0, 0.3));\n",
              "      fill: #FFFFFF;\n",
              "    }\n",
              "  </style>\n",
              "\n",
              "      <script>\n",
              "        const buttonEl =\n",
              "          document.querySelector('#df-ab0e047d-372a-4a83-a333-7c23e052167d button.colab-df-convert');\n",
              "        buttonEl.style.display =\n",
              "          google.colab.kernel.accessAllowed ? 'block' : 'none';\n",
              "\n",
              "        async function convertToInteractive(key) {\n",
              "          const element = document.querySelector('#df-ab0e047d-372a-4a83-a333-7c23e052167d');\n",
              "          const dataTable =\n",
              "            await google.colab.kernel.invokeFunction('convertToInteractive',\n",
              "                                                     [key], {});\n",
              "          if (!dataTable) return;\n",
              "\n",
              "          const docLinkHtml = 'Like what you see? Visit the ' +\n",
              "            '<a target=\"_blank\" href=https://colab.research.google.com/notebooks/data_table.ipynb>data table notebook</a>'\n",
              "            + ' to learn more about interactive tables.';\n",
              "          element.innerHTML = '';\n",
              "          dataTable['output_type'] = 'display_data';\n",
              "          await google.colab.output.renderOutput(dataTable, element);\n",
              "          const docLink = document.createElement('div');\n",
              "          docLink.innerHTML = docLinkHtml;\n",
              "          element.appendChild(docLink);\n",
              "        }\n",
              "      </script>\n",
              "    </div>\n",
              "  </div>\n",
              "  "
            ]
          },
          "metadata": {},
          "execution_count": 16
        }
      ]
    },
    {
      "cell_type": "markdown",
      "source": [
        "Теперь посмотрим на датафрейм с аннотацией по генам."
      ],
      "metadata": {
        "id": "tDOoUSHr75Ox"
      }
    },
    {
      "cell_type": "code",
      "source": [
        "adata.var.head() # Шапка датафрейма с аннотацией генов"
      ],
      "metadata": {
        "colab": {
          "base_uri": "https://localhost:8080/",
          "height": 206
        },
        "id": "wpZxuyKW70nR",
        "outputId": "ecc999a5-a337-4dc0-ca65-7265e8e81fe2"
      },
      "execution_count": 17,
      "outputs": [
        {
          "output_type": "execute_result",
          "data": {
            "text/plain": [
              "                    gene_ids    feature_types\n",
              "MIR1302-2HG  ENSG00000243485  Gene Expression\n",
              "FAM138A      ENSG00000237613  Gene Expression\n",
              "OR4F5        ENSG00000186092  Gene Expression\n",
              "AL627309.1   ENSG00000238009  Gene Expression\n",
              "AL627309.3   ENSG00000239945  Gene Expression"
            ],
            "text/html": [
              "\n",
              "  <div id=\"df-29dd0eb4-5190-4536-9f68-006eebd32585\">\n",
              "    <div class=\"colab-df-container\">\n",
              "      <div>\n",
              "<style scoped>\n",
              "    .dataframe tbody tr th:only-of-type {\n",
              "        vertical-align: middle;\n",
              "    }\n",
              "\n",
              "    .dataframe tbody tr th {\n",
              "        vertical-align: top;\n",
              "    }\n",
              "\n",
              "    .dataframe thead th {\n",
              "        text-align: right;\n",
              "    }\n",
              "</style>\n",
              "<table border=\"1\" class=\"dataframe\">\n",
              "  <thead>\n",
              "    <tr style=\"text-align: right;\">\n",
              "      <th></th>\n",
              "      <th>gene_ids</th>\n",
              "      <th>feature_types</th>\n",
              "    </tr>\n",
              "  </thead>\n",
              "  <tbody>\n",
              "    <tr>\n",
              "      <th>MIR1302-2HG</th>\n",
              "      <td>ENSG00000243485</td>\n",
              "      <td>Gene Expression</td>\n",
              "    </tr>\n",
              "    <tr>\n",
              "      <th>FAM138A</th>\n",
              "      <td>ENSG00000237613</td>\n",
              "      <td>Gene Expression</td>\n",
              "    </tr>\n",
              "    <tr>\n",
              "      <th>OR4F5</th>\n",
              "      <td>ENSG00000186092</td>\n",
              "      <td>Gene Expression</td>\n",
              "    </tr>\n",
              "    <tr>\n",
              "      <th>AL627309.1</th>\n",
              "      <td>ENSG00000238009</td>\n",
              "      <td>Gene Expression</td>\n",
              "    </tr>\n",
              "    <tr>\n",
              "      <th>AL627309.3</th>\n",
              "      <td>ENSG00000239945</td>\n",
              "      <td>Gene Expression</td>\n",
              "    </tr>\n",
              "  </tbody>\n",
              "</table>\n",
              "</div>\n",
              "      <button class=\"colab-df-convert\" onclick=\"convertToInteractive('df-29dd0eb4-5190-4536-9f68-006eebd32585')\"\n",
              "              title=\"Convert this dataframe to an interactive table.\"\n",
              "              style=\"display:none;\">\n",
              "        \n",
              "  <svg xmlns=\"http://www.w3.org/2000/svg\" height=\"24px\"viewBox=\"0 0 24 24\"\n",
              "       width=\"24px\">\n",
              "    <path d=\"M0 0h24v24H0V0z\" fill=\"none\"/>\n",
              "    <path d=\"M18.56 5.44l.94 2.06.94-2.06 2.06-.94-2.06-.94-.94-2.06-.94 2.06-2.06.94zm-11 1L8.5 8.5l.94-2.06 2.06-.94-2.06-.94L8.5 2.5l-.94 2.06-2.06.94zm10 10l.94 2.06.94-2.06 2.06-.94-2.06-.94-.94-2.06-.94 2.06-2.06.94z\"/><path d=\"M17.41 7.96l-1.37-1.37c-.4-.4-.92-.59-1.43-.59-.52 0-1.04.2-1.43.59L10.3 9.45l-7.72 7.72c-.78.78-.78 2.05 0 2.83L4 21.41c.39.39.9.59 1.41.59.51 0 1.02-.2 1.41-.59l7.78-7.78 2.81-2.81c.8-.78.8-2.07 0-2.86zM5.41 20L4 18.59l7.72-7.72 1.47 1.35L5.41 20z\"/>\n",
              "  </svg>\n",
              "      </button>\n",
              "      \n",
              "  <style>\n",
              "    .colab-df-container {\n",
              "      display:flex;\n",
              "      flex-wrap:wrap;\n",
              "      gap: 12px;\n",
              "    }\n",
              "\n",
              "    .colab-df-convert {\n",
              "      background-color: #E8F0FE;\n",
              "      border: none;\n",
              "      border-radius: 50%;\n",
              "      cursor: pointer;\n",
              "      display: none;\n",
              "      fill: #1967D2;\n",
              "      height: 32px;\n",
              "      padding: 0 0 0 0;\n",
              "      width: 32px;\n",
              "    }\n",
              "\n",
              "    .colab-df-convert:hover {\n",
              "      background-color: #E2EBFA;\n",
              "      box-shadow: 0px 1px 2px rgba(60, 64, 67, 0.3), 0px 1px 3px 1px rgba(60, 64, 67, 0.15);\n",
              "      fill: #174EA6;\n",
              "    }\n",
              "\n",
              "    [theme=dark] .colab-df-convert {\n",
              "      background-color: #3B4455;\n",
              "      fill: #D2E3FC;\n",
              "    }\n",
              "\n",
              "    [theme=dark] .colab-df-convert:hover {\n",
              "      background-color: #434B5C;\n",
              "      box-shadow: 0px 1px 3px 1px rgba(0, 0, 0, 0.15);\n",
              "      filter: drop-shadow(0px 1px 2px rgba(0, 0, 0, 0.3));\n",
              "      fill: #FFFFFF;\n",
              "    }\n",
              "  </style>\n",
              "\n",
              "      <script>\n",
              "        const buttonEl =\n",
              "          document.querySelector('#df-29dd0eb4-5190-4536-9f68-006eebd32585 button.colab-df-convert');\n",
              "        buttonEl.style.display =\n",
              "          google.colab.kernel.accessAllowed ? 'block' : 'none';\n",
              "\n",
              "        async function convertToInteractive(key) {\n",
              "          const element = document.querySelector('#df-29dd0eb4-5190-4536-9f68-006eebd32585');\n",
              "          const dataTable =\n",
              "            await google.colab.kernel.invokeFunction('convertToInteractive',\n",
              "                                                     [key], {});\n",
              "          if (!dataTable) return;\n",
              "\n",
              "          const docLinkHtml = 'Like what you see? Visit the ' +\n",
              "            '<a target=\"_blank\" href=https://colab.research.google.com/notebooks/data_table.ipynb>data table notebook</a>'\n",
              "            + ' to learn more about interactive tables.';\n",
              "          element.innerHTML = '';\n",
              "          dataTable['output_type'] = 'display_data';\n",
              "          await google.colab.output.renderOutput(dataTable, element);\n",
              "          const docLink = document.createElement('div');\n",
              "          docLink.innerHTML = docLinkHtml;\n",
              "          element.appendChild(docLink);\n",
              "        }\n",
              "      </script>\n",
              "    </div>\n",
              "  </div>\n",
              "  "
            ]
          },
          "metadata": {},
          "execution_count": 17
        }
      ]
    },
    {
      "cell_type": "markdown",
      "source": [
        "Аннотация по генам содержит индекс в виде краткого говорящего названия гена, а также дополнительное поле — gene_id."
      ],
      "metadata": {
        "id": "hWYSApxC79YW"
      }
    },
    {
      "cell_type": "markdown",
      "source": [
        "## Seurat\n",
        "\n",
        "Теперь посмотрим, как аналогичные действия можно выполнить при помощи пакета Seurat."
      ],
      "metadata": {
        "id": "MD1dmMjE8D_N"
      }
    },
    {
      "cell_type": "code",
      "source": [
        "%%R\n",
        "\n",
        "library(Seurat)\n",
        "\n",
        "expression_matrix <- Read10X(data.dir = \"filtered_feature_bc_matrix\")\n",
        "seurat.obj <- CreateSeuratObject(counts = expression_matrix)\n",
        "seurat.obj"
      ],
      "metadata": {
        "colab": {
          "base_uri": "https://localhost:8080/"
        },
        "id": "7_WJrVY_8FBf",
        "outputId": "b89c9e16-6b7b-4bab-a3aa-77c4816dfd12"
      },
      "execution_count": 18,
      "outputs": [
        {
          "output_type": "stream",
          "name": "stdout",
          "text": [
            "\n",
            "    WARNING: The R package \"reticulate\" does not\n",
            "    consider that it could be called from a Python process. This\n",
            "    results in a quasi-obligatory segfault when rpy2 is evaluating\n",
            "    R code using it. On the hand, rpy2 is accounting for the\n",
            "    fact that it might already be running embedded in a Python\n",
            "    process. This is why:\n",
            "    - Python -> rpy2 -> R -> reticulate: crashes\n",
            "    - R -> reticulate -> Python -> rpy2: works\n",
            "\n",
            "    The issue with reticulate is tracked here:\n",
            "    https://github.com/rstudio/reticulate/issues/208\n",
            "    "
          ]
        },
        {
          "output_type": "stream",
          "name": "stderr",
          "text": [
            "WARNING:rpy2.rinterface_lib.callbacks:R[write to console]: Attaching SeuratObject\n",
            "\n",
            "WARNING:rpy2.rinterface_lib.callbacks:R[write to console]: Attaching sp\n",
            "\n",
            "WARNING:rpy2.rinterface_lib.callbacks:R[write to console]: as(<dgTMatrix>, \"dgCMatrix\") is deprecated since Matrix 1.5-0; do as(., \"CsparseMatrix\") instead\n",
            "\n"
          ]
        },
        {
          "output_type": "stream",
          "name": "stdout",
          "text": [
            "An object of class Seurat \n",
            "36601 features across 11996 samples within 1 assay \n",
            "Active assay: RNA (36601 features, 0 variable features)\n"
          ]
        }
      ]
    },
    {
      "cell_type": "markdown",
      "source": [
        "Объект Seurat устроен чуть сложнее, чем anndata. Давайте посмотрим названия клеток из датасета:"
      ],
      "metadata": {
        "id": "V1eeunIc95YU"
      }
    },
    {
      "cell_type": "markdown",
      "source": [
        "Как же посмотреть описание клеток? Механика проста и похожа на то, что есть в scanpy:"
      ],
      "metadata": {
        "id": "obNN0p0v9bd5"
      }
    },
    {
      "cell_type": "code",
      "source": [
        "%R seurat.obj[[]]"
      ],
      "metadata": {
        "colab": {
          "base_uri": "https://localhost:8080/",
          "height": 424
        },
        "id": "KK6KGYGy8W8s",
        "outputId": "5fec93fa-022d-4ea6-a104-e8d2b14bdb09"
      },
      "execution_count": 19,
      "outputs": [
        {
          "output_type": "execute_result",
          "data": {
            "text/plain": [
              "                    orig.ident  nCount_RNA  nFeature_RNA\n",
              "AAACCCAAGGCCCAAA-1           1     12143.0          3022\n",
              "AAACCCAAGTAATACG-1           1      7811.0          2667\n",
              "AAACCCAAGTCACACT-1           1      9741.0          2934\n",
              "AAACCCACAAAGCGTG-1           1      5561.0          1525\n",
              "AAACCCACAATCGAAA-1           1      7399.0          2078\n",
              "...                        ...         ...           ...\n",
              "TTTGTTGGTTGGATCT-1           1      6199.0          1602\n",
              "TTTGTTGGTTTCTTAC-1           1      4658.0          1902\n",
              "TTTGTTGTCCATTTCA-1           1      5059.0          1551\n",
              "TTTGTTGTCTACACAG-1           1      5037.0          2194\n",
              "TTTGTTGTCTCATTAC-1           1      8536.0          2730\n",
              "\n",
              "[11996 rows x 3 columns]"
            ],
            "text/html": [
              "\n",
              "  <div id=\"df-9bd6d4da-3c84-452f-a373-73a71b72fa55\">\n",
              "    <div class=\"colab-df-container\">\n",
              "      <div>\n",
              "<style scoped>\n",
              "    .dataframe tbody tr th:only-of-type {\n",
              "        vertical-align: middle;\n",
              "    }\n",
              "\n",
              "    .dataframe tbody tr th {\n",
              "        vertical-align: top;\n",
              "    }\n",
              "\n",
              "    .dataframe thead th {\n",
              "        text-align: right;\n",
              "    }\n",
              "</style>\n",
              "<table border=\"1\" class=\"dataframe\">\n",
              "  <thead>\n",
              "    <tr style=\"text-align: right;\">\n",
              "      <th></th>\n",
              "      <th>orig.ident</th>\n",
              "      <th>nCount_RNA</th>\n",
              "      <th>nFeature_RNA</th>\n",
              "    </tr>\n",
              "  </thead>\n",
              "  <tbody>\n",
              "    <tr>\n",
              "      <th>AAACCCAAGGCCCAAA-1</th>\n",
              "      <td>1</td>\n",
              "      <td>12143.0</td>\n",
              "      <td>3022</td>\n",
              "    </tr>\n",
              "    <tr>\n",
              "      <th>AAACCCAAGTAATACG-1</th>\n",
              "      <td>1</td>\n",
              "      <td>7811.0</td>\n",
              "      <td>2667</td>\n",
              "    </tr>\n",
              "    <tr>\n",
              "      <th>AAACCCAAGTCACACT-1</th>\n",
              "      <td>1</td>\n",
              "      <td>9741.0</td>\n",
              "      <td>2934</td>\n",
              "    </tr>\n",
              "    <tr>\n",
              "      <th>AAACCCACAAAGCGTG-1</th>\n",
              "      <td>1</td>\n",
              "      <td>5561.0</td>\n",
              "      <td>1525</td>\n",
              "    </tr>\n",
              "    <tr>\n",
              "      <th>AAACCCACAATCGAAA-1</th>\n",
              "      <td>1</td>\n",
              "      <td>7399.0</td>\n",
              "      <td>2078</td>\n",
              "    </tr>\n",
              "    <tr>\n",
              "      <th>...</th>\n",
              "      <td>...</td>\n",
              "      <td>...</td>\n",
              "      <td>...</td>\n",
              "    </tr>\n",
              "    <tr>\n",
              "      <th>TTTGTTGGTTGGATCT-1</th>\n",
              "      <td>1</td>\n",
              "      <td>6199.0</td>\n",
              "      <td>1602</td>\n",
              "    </tr>\n",
              "    <tr>\n",
              "      <th>TTTGTTGGTTTCTTAC-1</th>\n",
              "      <td>1</td>\n",
              "      <td>4658.0</td>\n",
              "      <td>1902</td>\n",
              "    </tr>\n",
              "    <tr>\n",
              "      <th>TTTGTTGTCCATTTCA-1</th>\n",
              "      <td>1</td>\n",
              "      <td>5059.0</td>\n",
              "      <td>1551</td>\n",
              "    </tr>\n",
              "    <tr>\n",
              "      <th>TTTGTTGTCTACACAG-1</th>\n",
              "      <td>1</td>\n",
              "      <td>5037.0</td>\n",
              "      <td>2194</td>\n",
              "    </tr>\n",
              "    <tr>\n",
              "      <th>TTTGTTGTCTCATTAC-1</th>\n",
              "      <td>1</td>\n",
              "      <td>8536.0</td>\n",
              "      <td>2730</td>\n",
              "    </tr>\n",
              "  </tbody>\n",
              "</table>\n",
              "<p>11996 rows × 3 columns</p>\n",
              "</div>\n",
              "      <button class=\"colab-df-convert\" onclick=\"convertToInteractive('df-9bd6d4da-3c84-452f-a373-73a71b72fa55')\"\n",
              "              title=\"Convert this dataframe to an interactive table.\"\n",
              "              style=\"display:none;\">\n",
              "        \n",
              "  <svg xmlns=\"http://www.w3.org/2000/svg\" height=\"24px\"viewBox=\"0 0 24 24\"\n",
              "       width=\"24px\">\n",
              "    <path d=\"M0 0h24v24H0V0z\" fill=\"none\"/>\n",
              "    <path d=\"M18.56 5.44l.94 2.06.94-2.06 2.06-.94-2.06-.94-.94-2.06-.94 2.06-2.06.94zm-11 1L8.5 8.5l.94-2.06 2.06-.94-2.06-.94L8.5 2.5l-.94 2.06-2.06.94zm10 10l.94 2.06.94-2.06 2.06-.94-2.06-.94-.94-2.06-.94 2.06-2.06.94z\"/><path d=\"M17.41 7.96l-1.37-1.37c-.4-.4-.92-.59-1.43-.59-.52 0-1.04.2-1.43.59L10.3 9.45l-7.72 7.72c-.78.78-.78 2.05 0 2.83L4 21.41c.39.39.9.59 1.41.59.51 0 1.02-.2 1.41-.59l7.78-7.78 2.81-2.81c.8-.78.8-2.07 0-2.86zM5.41 20L4 18.59l7.72-7.72 1.47 1.35L5.41 20z\"/>\n",
              "  </svg>\n",
              "      </button>\n",
              "      \n",
              "  <style>\n",
              "    .colab-df-container {\n",
              "      display:flex;\n",
              "      flex-wrap:wrap;\n",
              "      gap: 12px;\n",
              "    }\n",
              "\n",
              "    .colab-df-convert {\n",
              "      background-color: #E8F0FE;\n",
              "      border: none;\n",
              "      border-radius: 50%;\n",
              "      cursor: pointer;\n",
              "      display: none;\n",
              "      fill: #1967D2;\n",
              "      height: 32px;\n",
              "      padding: 0 0 0 0;\n",
              "      width: 32px;\n",
              "    }\n",
              "\n",
              "    .colab-df-convert:hover {\n",
              "      background-color: #E2EBFA;\n",
              "      box-shadow: 0px 1px 2px rgba(60, 64, 67, 0.3), 0px 1px 3px 1px rgba(60, 64, 67, 0.15);\n",
              "      fill: #174EA6;\n",
              "    }\n",
              "\n",
              "    [theme=dark] .colab-df-convert {\n",
              "      background-color: #3B4455;\n",
              "      fill: #D2E3FC;\n",
              "    }\n",
              "\n",
              "    [theme=dark] .colab-df-convert:hover {\n",
              "      background-color: #434B5C;\n",
              "      box-shadow: 0px 1px 3px 1px rgba(0, 0, 0, 0.15);\n",
              "      filter: drop-shadow(0px 1px 2px rgba(0, 0, 0, 0.3));\n",
              "      fill: #FFFFFF;\n",
              "    }\n",
              "  </style>\n",
              "\n",
              "      <script>\n",
              "        const buttonEl =\n",
              "          document.querySelector('#df-9bd6d4da-3c84-452f-a373-73a71b72fa55 button.colab-df-convert');\n",
              "        buttonEl.style.display =\n",
              "          google.colab.kernel.accessAllowed ? 'block' : 'none';\n",
              "\n",
              "        async function convertToInteractive(key) {\n",
              "          const element = document.querySelector('#df-9bd6d4da-3c84-452f-a373-73a71b72fa55');\n",
              "          const dataTable =\n",
              "            await google.colab.kernel.invokeFunction('convertToInteractive',\n",
              "                                                     [key], {});\n",
              "          if (!dataTable) return;\n",
              "\n",
              "          const docLinkHtml = 'Like what you see? Visit the ' +\n",
              "            '<a target=\"_blank\" href=https://colab.research.google.com/notebooks/data_table.ipynb>data table notebook</a>'\n",
              "            + ' to learn more about interactive tables.';\n",
              "          element.innerHTML = '';\n",
              "          dataTable['output_type'] = 'display_data';\n",
              "          await google.colab.output.renderOutput(dataTable, element);\n",
              "          const docLink = document.createElement('div');\n",
              "          docLink.innerHTML = docLinkHtml;\n",
              "          element.appendChild(docLink);\n",
              "        }\n",
              "      </script>\n",
              "    </div>\n",
              "  </div>\n",
              "  "
            ]
          },
          "metadata": {},
          "execution_count": 19
        }
      ]
    },
    {
      "cell_type": "code",
      "source": [
        "%R seurat.obj$tissue <- \"PBMC\"\n",
        "%R seurat.obj[[]]"
      ],
      "metadata": {
        "colab": {
          "base_uri": "https://localhost:8080/",
          "height": 424
        },
        "id": "ql7fku0EBC1i",
        "outputId": "42f916aa-a001-4816-d8c0-dad6e9b08b9c"
      },
      "execution_count": 20,
      "outputs": [
        {
          "output_type": "execute_result",
          "data": {
            "text/plain": [
              "                    orig.ident  nCount_RNA  nFeature_RNA tissue\n",
              "AAACCCAAGGCCCAAA-1           1     12143.0          3022   PBMC\n",
              "AAACCCAAGTAATACG-1           1      7811.0          2667   PBMC\n",
              "AAACCCAAGTCACACT-1           1      9741.0          2934   PBMC\n",
              "AAACCCACAAAGCGTG-1           1      5561.0          1525   PBMC\n",
              "AAACCCACAATCGAAA-1           1      7399.0          2078   PBMC\n",
              "...                        ...         ...           ...    ...\n",
              "TTTGTTGGTTGGATCT-1           1      6199.0          1602   PBMC\n",
              "TTTGTTGGTTTCTTAC-1           1      4658.0          1902   PBMC\n",
              "TTTGTTGTCCATTTCA-1           1      5059.0          1551   PBMC\n",
              "TTTGTTGTCTACACAG-1           1      5037.0          2194   PBMC\n",
              "TTTGTTGTCTCATTAC-1           1      8536.0          2730   PBMC\n",
              "\n",
              "[11996 rows x 4 columns]"
            ],
            "text/html": [
              "\n",
              "  <div id=\"df-cd8d16ca-7109-4efc-89da-23b1332624b2\">\n",
              "    <div class=\"colab-df-container\">\n",
              "      <div>\n",
              "<style scoped>\n",
              "    .dataframe tbody tr th:only-of-type {\n",
              "        vertical-align: middle;\n",
              "    }\n",
              "\n",
              "    .dataframe tbody tr th {\n",
              "        vertical-align: top;\n",
              "    }\n",
              "\n",
              "    .dataframe thead th {\n",
              "        text-align: right;\n",
              "    }\n",
              "</style>\n",
              "<table border=\"1\" class=\"dataframe\">\n",
              "  <thead>\n",
              "    <tr style=\"text-align: right;\">\n",
              "      <th></th>\n",
              "      <th>orig.ident</th>\n",
              "      <th>nCount_RNA</th>\n",
              "      <th>nFeature_RNA</th>\n",
              "      <th>tissue</th>\n",
              "    </tr>\n",
              "  </thead>\n",
              "  <tbody>\n",
              "    <tr>\n",
              "      <th>AAACCCAAGGCCCAAA-1</th>\n",
              "      <td>1</td>\n",
              "      <td>12143.0</td>\n",
              "      <td>3022</td>\n",
              "      <td>PBMC</td>\n",
              "    </tr>\n",
              "    <tr>\n",
              "      <th>AAACCCAAGTAATACG-1</th>\n",
              "      <td>1</td>\n",
              "      <td>7811.0</td>\n",
              "      <td>2667</td>\n",
              "      <td>PBMC</td>\n",
              "    </tr>\n",
              "    <tr>\n",
              "      <th>AAACCCAAGTCACACT-1</th>\n",
              "      <td>1</td>\n",
              "      <td>9741.0</td>\n",
              "      <td>2934</td>\n",
              "      <td>PBMC</td>\n",
              "    </tr>\n",
              "    <tr>\n",
              "      <th>AAACCCACAAAGCGTG-1</th>\n",
              "      <td>1</td>\n",
              "      <td>5561.0</td>\n",
              "      <td>1525</td>\n",
              "      <td>PBMC</td>\n",
              "    </tr>\n",
              "    <tr>\n",
              "      <th>AAACCCACAATCGAAA-1</th>\n",
              "      <td>1</td>\n",
              "      <td>7399.0</td>\n",
              "      <td>2078</td>\n",
              "      <td>PBMC</td>\n",
              "    </tr>\n",
              "    <tr>\n",
              "      <th>...</th>\n",
              "      <td>...</td>\n",
              "      <td>...</td>\n",
              "      <td>...</td>\n",
              "      <td>...</td>\n",
              "    </tr>\n",
              "    <tr>\n",
              "      <th>TTTGTTGGTTGGATCT-1</th>\n",
              "      <td>1</td>\n",
              "      <td>6199.0</td>\n",
              "      <td>1602</td>\n",
              "      <td>PBMC</td>\n",
              "    </tr>\n",
              "    <tr>\n",
              "      <th>TTTGTTGGTTTCTTAC-1</th>\n",
              "      <td>1</td>\n",
              "      <td>4658.0</td>\n",
              "      <td>1902</td>\n",
              "      <td>PBMC</td>\n",
              "    </tr>\n",
              "    <tr>\n",
              "      <th>TTTGTTGTCCATTTCA-1</th>\n",
              "      <td>1</td>\n",
              "      <td>5059.0</td>\n",
              "      <td>1551</td>\n",
              "      <td>PBMC</td>\n",
              "    </tr>\n",
              "    <tr>\n",
              "      <th>TTTGTTGTCTACACAG-1</th>\n",
              "      <td>1</td>\n",
              "      <td>5037.0</td>\n",
              "      <td>2194</td>\n",
              "      <td>PBMC</td>\n",
              "    </tr>\n",
              "    <tr>\n",
              "      <th>TTTGTTGTCTCATTAC-1</th>\n",
              "      <td>1</td>\n",
              "      <td>8536.0</td>\n",
              "      <td>2730</td>\n",
              "      <td>PBMC</td>\n",
              "    </tr>\n",
              "  </tbody>\n",
              "</table>\n",
              "<p>11996 rows × 4 columns</p>\n",
              "</div>\n",
              "      <button class=\"colab-df-convert\" onclick=\"convertToInteractive('df-cd8d16ca-7109-4efc-89da-23b1332624b2')\"\n",
              "              title=\"Convert this dataframe to an interactive table.\"\n",
              "              style=\"display:none;\">\n",
              "        \n",
              "  <svg xmlns=\"http://www.w3.org/2000/svg\" height=\"24px\"viewBox=\"0 0 24 24\"\n",
              "       width=\"24px\">\n",
              "    <path d=\"M0 0h24v24H0V0z\" fill=\"none\"/>\n",
              "    <path d=\"M18.56 5.44l.94 2.06.94-2.06 2.06-.94-2.06-.94-.94-2.06-.94 2.06-2.06.94zm-11 1L8.5 8.5l.94-2.06 2.06-.94-2.06-.94L8.5 2.5l-.94 2.06-2.06.94zm10 10l.94 2.06.94-2.06 2.06-.94-2.06-.94-.94-2.06-.94 2.06-2.06.94z\"/><path d=\"M17.41 7.96l-1.37-1.37c-.4-.4-.92-.59-1.43-.59-.52 0-1.04.2-1.43.59L10.3 9.45l-7.72 7.72c-.78.78-.78 2.05 0 2.83L4 21.41c.39.39.9.59 1.41.59.51 0 1.02-.2 1.41-.59l7.78-7.78 2.81-2.81c.8-.78.8-2.07 0-2.86zM5.41 20L4 18.59l7.72-7.72 1.47 1.35L5.41 20z\"/>\n",
              "  </svg>\n",
              "      </button>\n",
              "      \n",
              "  <style>\n",
              "    .colab-df-container {\n",
              "      display:flex;\n",
              "      flex-wrap:wrap;\n",
              "      gap: 12px;\n",
              "    }\n",
              "\n",
              "    .colab-df-convert {\n",
              "      background-color: #E8F0FE;\n",
              "      border: none;\n",
              "      border-radius: 50%;\n",
              "      cursor: pointer;\n",
              "      display: none;\n",
              "      fill: #1967D2;\n",
              "      height: 32px;\n",
              "      padding: 0 0 0 0;\n",
              "      width: 32px;\n",
              "    }\n",
              "\n",
              "    .colab-df-convert:hover {\n",
              "      background-color: #E2EBFA;\n",
              "      box-shadow: 0px 1px 2px rgba(60, 64, 67, 0.3), 0px 1px 3px 1px rgba(60, 64, 67, 0.15);\n",
              "      fill: #174EA6;\n",
              "    }\n",
              "\n",
              "    [theme=dark] .colab-df-convert {\n",
              "      background-color: #3B4455;\n",
              "      fill: #D2E3FC;\n",
              "    }\n",
              "\n",
              "    [theme=dark] .colab-df-convert:hover {\n",
              "      background-color: #434B5C;\n",
              "      box-shadow: 0px 1px 3px 1px rgba(0, 0, 0, 0.15);\n",
              "      filter: drop-shadow(0px 1px 2px rgba(0, 0, 0, 0.3));\n",
              "      fill: #FFFFFF;\n",
              "    }\n",
              "  </style>\n",
              "\n",
              "      <script>\n",
              "        const buttonEl =\n",
              "          document.querySelector('#df-cd8d16ca-7109-4efc-89da-23b1332624b2 button.colab-df-convert');\n",
              "        buttonEl.style.display =\n",
              "          google.colab.kernel.accessAllowed ? 'block' : 'none';\n",
              "\n",
              "        async function convertToInteractive(key) {\n",
              "          const element = document.querySelector('#df-cd8d16ca-7109-4efc-89da-23b1332624b2');\n",
              "          const dataTable =\n",
              "            await google.colab.kernel.invokeFunction('convertToInteractive',\n",
              "                                                     [key], {});\n",
              "          if (!dataTable) return;\n",
              "\n",
              "          const docLinkHtml = 'Like what you see? Visit the ' +\n",
              "            '<a target=\"_blank\" href=https://colab.research.google.com/notebooks/data_table.ipynb>data table notebook</a>'\n",
              "            + ' to learn more about interactive tables.';\n",
              "          element.innerHTML = '';\n",
              "          dataTable['output_type'] = 'display_data';\n",
              "          await google.colab.output.renderOutput(dataTable, element);\n",
              "          const docLink = document.createElement('div');\n",
              "          docLink.innerHTML = docLinkHtml;\n",
              "          element.appendChild(docLink);\n",
              "        }\n",
              "      </script>\n",
              "    </div>\n",
              "  </div>\n",
              "  "
            ]
          },
          "metadata": {},
          "execution_count": 20
        }
      ]
    },
    {
      "cell_type": "markdown",
      "source": [
        "Теперь давайте выведем экспрессии генов <i>CD3D</i>, <i>TCL1A</i> и <i>MS4A1</i> у первых двадцати клеток в Seurat и scanpy:"
      ],
      "metadata": {
        "id": "fhXcjnO9D6yM"
      }
    },
    {
      "cell_type": "code",
      "source": [
        "%%R\n",
        "GetAssayData(object = seurat.obj[c(\"CD3D\", \"TCL1A\", \"MS4A1\"), 1:20], slot = \"counts\")"
      ],
      "metadata": {
        "colab": {
          "base_uri": "https://localhost:8080/"
        },
        "id": "vlbE-CV5ELds",
        "outputId": "83f31bf4-8195-47ed-9a72-f5c187b8616e"
      },
      "execution_count": 21,
      "outputs": [
        {
          "output_type": "stream",
          "name": "stdout",
          "text": [
            "3 x 20 sparse Matrix of class \"dgCMatrix\"\n",
            "                                             \n",
            "[1,] . . . 1 . . . 20 2 8 . . . 5 3 . . . . 5\n",
            "[2,] . . . . . . .  . . . . . . . . . . . . .\n",
            "[3,] . . . . 9 6 .  . . . . . . . . . . . . .\n"
          ]
        }
      ]
    },
    {
      "cell_type": "code",
      "source": [
        "print(adata[:20, [\"CD3D\", \"TCL1A\", \"MS4A1\"]].X.A.T)"
      ],
      "metadata": {
        "colab": {
          "base_uri": "https://localhost:8080/"
        },
        "id": "DyG3U5sd8-kC",
        "outputId": "e1b60882-a0d4-4342-d416-2f252a08f51a"
      },
      "execution_count": 22,
      "outputs": [
        {
          "output_type": "stream",
          "name": "stdout",
          "text": [
            "[[ 0.  0.  0.  1.  0.  0.  0. 20.  2.  8.  0.  0.  0.  5.  3.  0.  0.  0.\n",
            "   0.  5.]\n",
            " [ 0.  0.  0.  0.  0.  0.  0.  0.  0.  0.  0.  0.  0.  0.  0.  0.  0.  0.\n",
            "   0.  0.]\n",
            " [ 0.  0.  0.  0.  9.  6.  0.  0.  0.  0.  0.  0.  0.  0.  0.  0.  0.  0.\n",
            "   0.  0.]]\n"
          ]
        }
      ]
    },
    {
      "cell_type": "markdown",
      "source": [
        "### Задание\n",
        "\n",
        "Постройте диаграмму рассения, в которой по одной оси будет экспрессия гена <i>CD8A</i>, а на другой &mdash; экспрессия <i>CD4</i>."
      ],
      "metadata": {
        "id": "PtwoWdv3FCdP"
      }
    },
    {
      "cell_type": "code",
      "source": [
        "import seaborn as sns\n",
        "sns.scatterplot(x=adata[:, \"CD3E\"].X.A.T[0], y=adata[:, \"CD3D\"].X.A.T[0])"
      ],
      "metadata": {
        "id": "DSB8nILWFByp",
        "colab": {
          "base_uri": "https://localhost:8080/",
          "height": 282
        },
        "outputId": "4fbc8cf1-5a91-47e1-d17d-4628b5b687f8"
      },
      "execution_count": 23,
      "outputs": [
        {
          "output_type": "execute_result",
          "data": {
            "text/plain": [
              "<AxesSubplot: >"
            ]
          },
          "metadata": {},
          "execution_count": 23
        },
        {
          "output_type": "display_data",
          "data": {
            "text/plain": [
              "<Figure size 432x288 with 1 Axes>"
            ],
            "image/png": "[encoded data removed]"
          },
          "metadata": {
            "needs_background": "light"
          }
        }
      ]
    },
    {
      "cell_type": "markdown",
      "source": [
        "### Задание\n",
        "\n",
        "Возьмите значения столбца `nCount_RNA` из Seurat-объекта и добавьте его в объект `adata`."
      ],
      "metadata": {
        "id": "DRA-XyjeFXW8"
      }
    },
    {
      "cell_type": "code",
      "source": [
        "%%R -o ncounts\n",
        "ncounts <- seurat.obj[[\"nCount_RNA\"]]"
      ],
      "metadata": {
        "id": "nRdu4cQOFj20"
      },
      "execution_count": 24,
      "outputs": []
    },
    {
      "cell_type": "code",
      "source": [
        "ncounts.index = [bc.split(\"-\")[0] + \":don1\" for bc in ncounts.index]"
      ],
      "metadata": {
        "id": "brnJbqIWE9gf"
      },
      "execution_count": 25,
      "outputs": []
    },
    {
      "cell_type": "code",
      "source": [
        "adata.obs[\"nCount_RNA\"] = ncounts\n",
        "adata.obs"
      ],
      "metadata": {
        "colab": {
          "base_uri": "https://localhost:8080/",
          "height": 424
        },
        "id": "kowac5exEzV9",
        "outputId": "6e5f1229-b9d6-45fe-f3cd-5be7e8ff9221"
      },
      "execution_count": 26,
      "outputs": [
        {
          "output_type": "execute_result",
          "data": {
            "text/plain": [
              "                      tissue  nCount_RNA\n",
              "AAACCCAAGGCCCAAA:don1   PBMC     12143.0\n",
              "AAACCCAAGTAATACG:don1   PBMC      7811.0\n",
              "AAACCCAAGTCACACT:don1   PBMC      9741.0\n",
              "AAACCCACAAAGCGTG:don1   PBMC      5561.0\n",
              "AAACCCACAATCGAAA:don1   PBMC      7399.0\n",
              "...                      ...         ...\n",
              "TTTGTTGGTTGGATCT:don1   PBMC      6199.0\n",
              "TTTGTTGGTTTCTTAC:don1   PBMC      4658.0\n",
              "TTTGTTGTCCATTTCA:don1   PBMC      5059.0\n",
              "TTTGTTGTCTACACAG:don1   PBMC      5037.0\n",
              "TTTGTTGTCTCATTAC:don1   PBMC      8536.0\n",
              "\n",
              "[11996 rows x 2 columns]"
            ],
            "text/html": [
              "\n",
              "  <div id=\"df-cc839d06-e725-44a3-a437-f138a612ebfd\">\n",
              "    <div class=\"colab-df-container\">\n",
              "      <div>\n",
              "<style scoped>\n",
              "    .dataframe tbody tr th:only-of-type {\n",
              "        vertical-align: middle;\n",
              "    }\n",
              "\n",
              "    .dataframe tbody tr th {\n",
              "        vertical-align: top;\n",
              "    }\n",
              "\n",
              "    .dataframe thead th {\n",
              "        text-align: right;\n",
              "    }\n",
              "</style>\n",
              "<table border=\"1\" class=\"dataframe\">\n",
              "  <thead>\n",
              "    <tr style=\"text-align: right;\">\n",
              "      <th></th>\n",
              "      <th>tissue</th>\n",
              "      <th>nCount_RNA</th>\n",
              "    </tr>\n",
              "  </thead>\n",
              "  <tbody>\n",
              "    <tr>\n",
              "      <th>AAACCCAAGGCCCAAA:don1</th>\n",
              "      <td>PBMC</td>\n",
              "      <td>12143.0</td>\n",
              "    </tr>\n",
              "    <tr>\n",
              "      <th>AAACCCAAGTAATACG:don1</th>\n",
              "      <td>PBMC</td>\n",
              "      <td>7811.0</td>\n",
              "    </tr>\n",
              "    <tr>\n",
              "      <th>AAACCCAAGTCACACT:don1</th>\n",
              "      <td>PBMC</td>\n",
              "      <td>9741.0</td>\n",
              "    </tr>\n",
              "    <tr>\n",
              "      <th>AAACCCACAAAGCGTG:don1</th>\n",
              "      <td>PBMC</td>\n",
              "      <td>5561.0</td>\n",
              "    </tr>\n",
              "    <tr>\n",
              "      <th>AAACCCACAATCGAAA:don1</th>\n",
              "      <td>PBMC</td>\n",
              "      <td>7399.0</td>\n",
              "    </tr>\n",
              "    <tr>\n",
              "      <th>...</th>\n",
              "      <td>...</td>\n",
              "      <td>...</td>\n",
              "    </tr>\n",
              "    <tr>\n",
              "      <th>TTTGTTGGTTGGATCT:don1</th>\n",
              "      <td>PBMC</td>\n",
              "      <td>6199.0</td>\n",
              "    </tr>\n",
              "    <tr>\n",
              "      <th>TTTGTTGGTTTCTTAC:don1</th>\n",
              "      <td>PBMC</td>\n",
              "      <td>4658.0</td>\n",
              "    </tr>\n",
              "    <tr>\n",
              "      <th>TTTGTTGTCCATTTCA:don1</th>\n",
              "      <td>PBMC</td>\n",
              "      <td>5059.0</td>\n",
              "    </tr>\n",
              "    <tr>\n",
              "      <th>TTTGTTGTCTACACAG:don1</th>\n",
              "      <td>PBMC</td>\n",
              "      <td>5037.0</td>\n",
              "    </tr>\n",
              "    <tr>\n",
              "      <th>TTTGTTGTCTCATTAC:don1</th>\n",
              "      <td>PBMC</td>\n",
              "      <td>8536.0</td>\n",
              "    </tr>\n",
              "  </tbody>\n",
              "</table>\n",
              "<p>11996 rows × 2 columns</p>\n",
              "</div>\n",
              "      <button class=\"colab-df-convert\" onclick=\"convertToInteractive('df-cc839d06-e725-44a3-a437-f138a612ebfd')\"\n",
              "              title=\"Convert this dataframe to an interactive table.\"\n",
              "              style=\"display:none;\">\n",
              "        \n",
              "  <svg xmlns=\"http://www.w3.org/2000/svg\" height=\"24px\"viewBox=\"0 0 24 24\"\n",
              "       width=\"24px\">\n",
              "    <path d=\"M0 0h24v24H0V0z\" fill=\"none\"/>\n",
              "    <path d=\"M18.56 5.44l.94 2.06.94-2.06 2.06-.94-2.06-.94-.94-2.06-.94 2.06-2.06.94zm-11 1L8.5 8.5l.94-2.06 2.06-.94-2.06-.94L8.5 2.5l-.94 2.06-2.06.94zm10 10l.94 2.06.94-2.06 2.06-.94-2.06-.94-.94-2.06-.94 2.06-2.06.94z\"/><path d=\"M17.41 7.96l-1.37-1.37c-.4-.4-.92-.59-1.43-.59-.52 0-1.04.2-1.43.59L10.3 9.45l-7.72 7.72c-.78.78-.78 2.05 0 2.83L4 21.41c.39.39.9.59 1.41.59.51 0 1.02-.2 1.41-.59l7.78-7.78 2.81-2.81c.8-.78.8-2.07 0-2.86zM5.41 20L4 18.59l7.72-7.72 1.47 1.35L5.41 20z\"/>\n",
              "  </svg>\n",
              "      </button>\n",
              "      \n",
              "  <style>\n",
              "    .colab-df-container {\n",
              "      display:flex;\n",
              "      flex-wrap:wrap;\n",
              "      gap: 12px;\n",
              "    }\n",
              "\n",
              "    .colab-df-convert {\n",
              "      background-color: #E8F0FE;\n",
              "      border: none;\n",
              "      border-radius: 50%;\n",
              "      cursor: pointer;\n",
              "      display: none;\n",
              "      fill: #1967D2;\n",
              "      height: 32px;\n",
              "      padding: 0 0 0 0;\n",
              "      width: 32px;\n",
              "    }\n",
              "\n",
              "    .colab-df-convert:hover {\n",
              "      background-color: #E2EBFA;\n",
              "      box-shadow: 0px 1px 2px rgba(60, 64, 67, 0.3), 0px 1px 3px 1px rgba(60, 64, 67, 0.15);\n",
              "      fill: #174EA6;\n",
              "    }\n",
              "\n",
              "    [theme=dark] .colab-df-convert {\n",
              "      background-color: #3B4455;\n",
              "      fill: #D2E3FC;\n",
              "    }\n",
              "\n",
              "    [theme=dark] .colab-df-convert:hover {\n",
              "      background-color: #434B5C;\n",
              "      box-shadow: 0px 1px 3px 1px rgba(0, 0, 0, 0.15);\n",
              "      filter: drop-shadow(0px 1px 2px rgba(0, 0, 0, 0.3));\n",
              "      fill: #FFFFFF;\n",
              "    }\n",
              "  </style>\n",
              "\n",
              "      <script>\n",
              "        const buttonEl =\n",
              "          document.querySelector('#df-cc839d06-e725-44a3-a437-f138a612ebfd button.colab-df-convert');\n",
              "        buttonEl.style.display =\n",
              "          google.colab.kernel.accessAllowed ? 'block' : 'none';\n",
              "\n",
              "        async function convertToInteractive(key) {\n",
              "          const element = document.querySelector('#df-cc839d06-e725-44a3-a437-f138a612ebfd');\n",
              "          const dataTable =\n",
              "            await google.colab.kernel.invokeFunction('convertToInteractive',\n",
              "                                                     [key], {});\n",
              "          if (!dataTable) return;\n",
              "\n",
              "          const docLinkHtml = 'Like what you see? Visit the ' +\n",
              "            '<a target=\"_blank\" href=https://colab.research.google.com/notebooks/data_table.ipynb>data table notebook</a>'\n",
              "            + ' to learn more about interactive tables.';\n",
              "          element.innerHTML = '';\n",
              "          dataTable['output_type'] = 'display_data';\n",
              "          await google.colab.output.renderOutput(dataTable, element);\n",
              "          const docLink = document.createElement('div');\n",
              "          docLink.innerHTML = docLinkHtml;\n",
              "          element.appendChild(docLink);\n",
              "        }\n",
              "      </script>\n",
              "    </div>\n",
              "  </div>\n",
              "  "
            ]
          },
          "metadata": {},
          "execution_count": 26
        }
      ]
    },
    {
      "cell_type": "markdown",
      "source": [
        "## SingleCellExperiment и anndata2ri\n",
        "\n",
        "В дальнейшем удобно будет пользоваться тем, что существует пакет <code>anndata2ri</code>, который позволяет из окружения Python передать объект AnnData в окружение R, трансформировав его в объект класса SingleCellExperiment. В свою очередь объект класса SingleCellExperiment может быть легко трансформирован в Seurat."
      ],
      "metadata": {
        "id": "XSkODBDJg_Kp"
      }
    },
    {
      "cell_type": "code",
      "source": [
        "%%R -i adata\n",
        "adata"
      ],
      "metadata": {
        "colab": {
          "base_uri": "https://localhost:8080/"
        },
        "id": "eWYVaOk_hIxg",
        "outputId": "68db173c-0055-4d25-a453-366a09b93c22"
      },
      "execution_count": 27,
      "outputs": [
        {
          "output_type": "stream",
          "name": "stderr",
          "text": [
            "/usr/local/lib/python3.8/dist-packages/anndata2ri/r2py.py:106: FutureWarning: X.dtype being converted to np.float32 from float64. In the next version of anndata (0.9) conversion will not be automatic. Pass dtype explicitly to avoid this warning. Pass `AnnData(X, dtype=X.dtype, ...)` to get the future behavour.\n",
            "  return AnnData(exprs, obs, var, uns, obsm or None, layers=layers)\n"
          ]
        },
        {
          "output_type": "stream",
          "name": "stdout",
          "text": [
            "class: SingleCellExperiment \n",
            "dim: 36601 11996 \n",
            "metadata(0):\n",
            "assays(1): X\n",
            "rownames(36601): MIR1302-2HG FAM138A ... AC007325.4 AC007325.2\n",
            "rowData names(2): gene_ids feature_types\n",
            "colnames(11996): AAACCCAAGGCCCAAA:don1 AAACCCAAGTAATACG:don1 ...\n",
            "  TTTGTTGTCTACACAG:don1 TTTGTTGTCTCATTAC:don1\n",
            "colData names(2): tissue nCount_RNA\n",
            "reducedDimNames(0):\n",
            "mainExpName: NULL\n",
            "altExpNames(0):\n"
          ]
        }
      ]
    },
    {
      "cell_type": "code",
      "source": [
        "%%R\n",
        "adata.to.seurat <- as.Seurat(adata, data = NULL, counts = \"X\")\n",
        "adata.to.seurat"
      ],
      "metadata": {
        "colab": {
          "base_uri": "https://localhost:8080/"
        },
        "id": "XvreImzmhS3T",
        "outputId": "91096a33-f3b6-4fa6-a95f-e69efbbff7a3"
      },
      "execution_count": 28,
      "outputs": [
        {
          "output_type": "stream",
          "name": "stdout",
          "text": [
            "An object of class Seurat \n",
            "36601 features across 11996 samples within 1 assay \n",
            "Active assay: originalexp (36601 features, 0 variable features)\n"
          ]
        }
      ]
    },
    {
      "cell_type": "code",
      "source": [
        "%R adata.to.seurat[[]]"
      ],
      "metadata": {
        "colab": {
          "base_uri": "https://localhost:8080/",
          "height": 424
        },
        "id": "7HCM1FHTrAoi",
        "outputId": "dfc03367-2e14-493f-97e7-f454c57f5f1b"
      },
      "execution_count": 29,
      "outputs": [
        {
          "output_type": "execute_result",
          "data": {
            "text/plain": [
              "                       orig.ident  nCount_originalexp  nFeature_originalexp  \\\n",
              "AAACCCAAGGCCCAAA:don1           1             12143.0                  3022   \n",
              "AAACCCAAGTAATACG:don1           1              7811.0                  2667   \n",
              "AAACCCAAGTCACACT:don1           1              9741.0                  2934   \n",
              "AAACCCACAAAGCGTG:don1           1              5561.0                  1525   \n",
              "AAACCCACAATCGAAA:don1           1              7399.0                  2078   \n",
              "...                           ...                 ...                   ...   \n",
              "TTTGTTGGTTGGATCT:don1           1              6199.0                  1602   \n",
              "TTTGTTGGTTTCTTAC:don1           1              4658.0                  1902   \n",
              "TTTGTTGTCCATTTCA:don1           1              5059.0                  1551   \n",
              "TTTGTTGTCTACACAG:don1           1              5037.0                  2194   \n",
              "TTTGTTGTCTCATTAC:don1           1              8536.0                  2730   \n",
              "\n",
              "                      tissue  nCount_RNA  \n",
              "AAACCCAAGGCCCAAA:don1   PBMC     12143.0  \n",
              "AAACCCAAGTAATACG:don1   PBMC      7811.0  \n",
              "AAACCCAAGTCACACT:don1   PBMC      9741.0  \n",
              "AAACCCACAAAGCGTG:don1   PBMC      5561.0  \n",
              "AAACCCACAATCGAAA:don1   PBMC      7399.0  \n",
              "...                      ...         ...  \n",
              "TTTGTTGGTTGGATCT:don1   PBMC      6199.0  \n",
              "TTTGTTGGTTTCTTAC:don1   PBMC      4658.0  \n",
              "TTTGTTGTCCATTTCA:don1   PBMC      5059.0  \n",
              "TTTGTTGTCTACACAG:don1   PBMC      5037.0  \n",
              "TTTGTTGTCTCATTAC:don1   PBMC      8536.0  \n",
              "\n",
              "[11996 rows x 5 columns]"
            ],
            "text/html": [
              "\n",
              "  <div id=\"df-76b5b8cf-a557-4506-8a7a-8a514e3b2023\">\n",
              "    <div class=\"colab-df-container\">\n",
              "      <div>\n",
              "<style scoped>\n",
              "    .dataframe tbody tr th:only-of-type {\n",
              "        vertical-align: middle;\n",
              "    }\n",
              "\n",
              "    .dataframe tbody tr th {\n",
              "        vertical-align: top;\n",
              "    }\n",
              "\n",
              "    .dataframe thead th {\n",
              "        text-align: right;\n",
              "    }\n",
              "</style>\n",
              "<table border=\"1\" class=\"dataframe\">\n",
              "  <thead>\n",
              "    <tr style=\"text-align: right;\">\n",
              "      <th></th>\n",
              "      <th>orig.ident</th>\n",
              "      <th>nCount_originalexp</th>\n",
              "      <th>nFeature_originalexp</th>\n",
              "      <th>tissue</th>\n",
              "      <th>nCount_RNA</th>\n",
              "    </tr>\n",
              "  </thead>\n",
              "  <tbody>\n",
              "    <tr>\n",
              "      <th>AAACCCAAGGCCCAAA:don1</th>\n",
              "      <td>1</td>\n",
              "      <td>12143.0</td>\n",
              "      <td>3022</td>\n",
              "      <td>PBMC</td>\n",
              "      <td>12143.0</td>\n",
              "    </tr>\n",
              "    <tr>\n",
              "      <th>AAACCCAAGTAATACG:don1</th>\n",
              "      <td>1</td>\n",
              "      <td>7811.0</td>\n",
              "      <td>2667</td>\n",
              "      <td>PBMC</td>\n",
              "      <td>7811.0</td>\n",
              "    </tr>\n",
              "    <tr>\n",
              "      <th>AAACCCAAGTCACACT:don1</th>\n",
              "      <td>1</td>\n",
              "      <td>9741.0</td>\n",
              "      <td>2934</td>\n",
              "      <td>PBMC</td>\n",
              "      <td>9741.0</td>\n",
              "    </tr>\n",
              "    <tr>\n",
              "      <th>AAACCCACAAAGCGTG:don1</th>\n",
              "      <td>1</td>\n",
              "      <td>5561.0</td>\n",
              "      <td>1525</td>\n",
              "      <td>PBMC</td>\n",
              "      <td>5561.0</td>\n",
              "    </tr>\n",
              "    <tr>\n",
              "      <th>AAACCCACAATCGAAA:don1</th>\n",
              "      <td>1</td>\n",
              "      <td>7399.0</td>\n",
              "      <td>2078</td>\n",
              "      <td>PBMC</td>\n",
              "      <td>7399.0</td>\n",
              "    </tr>\n",
              "    <tr>\n",
              "      <th>...</th>\n",
              "      <td>...</td>\n",
              "      <td>...</td>\n",
              "      <td>...</td>\n",
              "      <td>...</td>\n",
              "      <td>...</td>\n",
              "    </tr>\n",
              "    <tr>\n",
              "      <th>TTTGTTGGTTGGATCT:don1</th>\n",
              "      <td>1</td>\n",
              "      <td>6199.0</td>\n",
              "      <td>1602</td>\n",
              "      <td>PBMC</td>\n",
              "      <td>6199.0</td>\n",
              "    </tr>\n",
              "    <tr>\n",
              "      <th>TTTGTTGGTTTCTTAC:don1</th>\n",
              "      <td>1</td>\n",
              "      <td>4658.0</td>\n",
              "      <td>1902</td>\n",
              "      <td>PBMC</td>\n",
              "      <td>4658.0</td>\n",
              "    </tr>\n",
              "    <tr>\n",
              "      <th>TTTGTTGTCCATTTCA:don1</th>\n",
              "      <td>1</td>\n",
              "      <td>5059.0</td>\n",
              "      <td>1551</td>\n",
              "      <td>PBMC</td>\n",
              "      <td>5059.0</td>\n",
              "    </tr>\n",
              "    <tr>\n",
              "      <th>TTTGTTGTCTACACAG:don1</th>\n",
              "      <td>1</td>\n",
              "      <td>5037.0</td>\n",
              "      <td>2194</td>\n",
              "      <td>PBMC</td>\n",
              "      <td>5037.0</td>\n",
              "    </tr>\n",
              "    <tr>\n",
              "      <th>TTTGTTGTCTCATTAC:don1</th>\n",
              "      <td>1</td>\n",
              "      <td>8536.0</td>\n",
              "      <td>2730</td>\n",
              "      <td>PBMC</td>\n",
              "      <td>8536.0</td>\n",
              "    </tr>\n",
              "  </tbody>\n",
              "</table>\n",
              "<p>11996 rows × 5 columns</p>\n",
              "</div>\n",
              "      <button class=\"colab-df-convert\" onclick=\"convertToInteractive('df-76b5b8cf-a557-4506-8a7a-8a514e3b2023')\"\n",
              "              title=\"Convert this dataframe to an interactive table.\"\n",
              "              style=\"display:none;\">\n",
              "        \n",
              "  <svg xmlns=\"http://www.w3.org/2000/svg\" height=\"24px\"viewBox=\"0 0 24 24\"\n",
              "       width=\"24px\">\n",
              "    <path d=\"M0 0h24v24H0V0z\" fill=\"none\"/>\n",
              "    <path d=\"M18.56 5.44l.94 2.06.94-2.06 2.06-.94-2.06-.94-.94-2.06-.94 2.06-2.06.94zm-11 1L8.5 8.5l.94-2.06 2.06-.94-2.06-.94L8.5 2.5l-.94 2.06-2.06.94zm10 10l.94 2.06.94-2.06 2.06-.94-2.06-.94-.94-2.06-.94 2.06-2.06.94z\"/><path d=\"M17.41 7.96l-1.37-1.37c-.4-.4-.92-.59-1.43-.59-.52 0-1.04.2-1.43.59L10.3 9.45l-7.72 7.72c-.78.78-.78 2.05 0 2.83L4 21.41c.39.39.9.59 1.41.59.51 0 1.02-.2 1.41-.59l7.78-7.78 2.81-2.81c.8-.78.8-2.07 0-2.86zM5.41 20L4 18.59l7.72-7.72 1.47 1.35L5.41 20z\"/>\n",
              "  </svg>\n",
              "      </button>\n",
              "      \n",
              "  <style>\n",
              "    .colab-df-container {\n",
              "      display:flex;\n",
              "      flex-wrap:wrap;\n",
              "      gap: 12px;\n",
              "    }\n",
              "\n",
              "    .colab-df-convert {\n",
              "      background-color: #E8F0FE;\n",
              "      border: none;\n",
              "      border-radius: 50%;\n",
              "      cursor: pointer;\n",
              "      display: none;\n",
              "      fill: #1967D2;\n",
              "      height: 32px;\n",
              "      padding: 0 0 0 0;\n",
              "      width: 32px;\n",
              "    }\n",
              "\n",
              "    .colab-df-convert:hover {\n",
              "      background-color: #E2EBFA;\n",
              "      box-shadow: 0px 1px 2px rgba(60, 64, 67, 0.3), 0px 1px 3px 1px rgba(60, 64, 67, 0.15);\n",
              "      fill: #174EA6;\n",
              "    }\n",
              "\n",
              "    [theme=dark] .colab-df-convert {\n",
              "      background-color: #3B4455;\n",
              "      fill: #D2E3FC;\n",
              "    }\n",
              "\n",
              "    [theme=dark] .colab-df-convert:hover {\n",
              "      background-color: #434B5C;\n",
              "      box-shadow: 0px 1px 3px 1px rgba(0, 0, 0, 0.15);\n",
              "      filter: drop-shadow(0px 1px 2px rgba(0, 0, 0, 0.3));\n",
              "      fill: #FFFFFF;\n",
              "    }\n",
              "  </style>\n",
              "\n",
              "      <script>\n",
              "        const buttonEl =\n",
              "          document.querySelector('#df-76b5b8cf-a557-4506-8a7a-8a514e3b2023 button.colab-df-convert');\n",
              "        buttonEl.style.display =\n",
              "          google.colab.kernel.accessAllowed ? 'block' : 'none';\n",
              "\n",
              "        async function convertToInteractive(key) {\n",
              "          const element = document.querySelector('#df-76b5b8cf-a557-4506-8a7a-8a514e3b2023');\n",
              "          const dataTable =\n",
              "            await google.colab.kernel.invokeFunction('convertToInteractive',\n",
              "                                                     [key], {});\n",
              "          if (!dataTable) return;\n",
              "\n",
              "          const docLinkHtml = 'Like what you see? Visit the ' +\n",
              "            '<a target=\"_blank\" href=https://colab.research.google.com/notebooks/data_table.ipynb>data table notebook</a>'\n",
              "            + ' to learn more about interactive tables.';\n",
              "          element.innerHTML = '';\n",
              "          dataTable['output_type'] = 'display_data';\n",
              "          await google.colab.output.renderOutput(dataTable, element);\n",
              "          const docLink = document.createElement('div');\n",
              "          docLink.innerHTML = docLinkHtml;\n",
              "          element.appendChild(docLink);\n",
              "        }\n",
              "      </script>\n",
              "    </div>\n",
              "  </div>\n",
              "  "
            ]
          },
          "metadata": {},
          "execution_count": 29
        }
      ]
    },
    {
      "cell_type": "markdown",
      "source": [
        "### Задание\n",
        "\n",
        "Попробуйте выбрать только те клетки, у которых в сумме больше, чем 10000 молекул, а также только те гены, которые экспрессируются более, чем в 3 клетках. Сделайте это как в Seurat, так и в scanpy, после чего обменяйте переменные в окружениях (например, <code>adata_filtered</code> переместите в окружение R и назовите его там <code>adata.to.Seurat.filtered</code>, и наоборот)."
      ],
      "metadata": {
        "id": "FOBulS8Rs3MX"
      }
    },
    {
      "cell_type": "code",
      "source": [
        "adata = adata[:, (adata.X > 0).sum(axis=0).A[0] > 3]\n",
        "adata = adata[adata.X.sum(axis=1) > 10000]\n",
        "adata"
      ],
      "metadata": {
        "id": "aiPeR83fr8IC",
        "colab": {
          "base_uri": "https://localhost:8080/"
        },
        "outputId": "bfc02580-9d0f-41fe-d8a3-1ea4b93e8a45"
      },
      "execution_count": 30,
      "outputs": [
        {
          "output_type": "execute_result",
          "data": {
            "text/plain": [
              "View of AnnData object with n_obs × n_vars = 2944 × 21460\n",
              "    obs: 'tissue', 'nCount_RNA'\n",
              "    var: 'gene_ids', 'feature_types'"
            ]
          },
          "metadata": {},
          "execution_count": 30
        }
      ]
    },
    {
      "cell_type": "code",
      "source": [
        "%%R\n",
        "seurat.filtered <- seurat.obj[rowSums(GetAssayData(object = seurat.obj, slot = \"counts\") > 0) > 3,]\n",
        "seurat.filtered <- seurat.filtered[,colSums(GetAssayData(object = seurat.filtered, slot = \"counts\")) > 10000]\n",
        "seurat.filtered"
      ],
      "metadata": {
        "colab": {
          "base_uri": "https://localhost:8080/"
        },
        "id": "3PcBJYyWGsu7",
        "outputId": "426a0f0c-71b4-4467-d7a8-97ea0ed93dd0"
      },
      "execution_count": 31,
      "outputs": [
        {
          "output_type": "stream",
          "name": "stdout",
          "text": [
            "An object of class Seurat \n",
            "21460 features across 2944 samples within 1 assay \n",
            "Active assay: RNA (21460 features, 0 variable features)\n"
          ]
        }
      ]
    },
    {
      "cell_type": "code",
      "source": [
        "%%R -o sce\n",
        "sce <- as.SingleCellExperiment(seurat.filtered)"
      ],
      "metadata": {
        "colab": {
          "base_uri": "https://localhost:8080/"
        },
        "id": "ms9HsMSPJ7YV",
        "outputId": "a68c7b5e-8dd5-4e42-9be4-8b35d83fb0cb"
      },
      "execution_count": 32,
      "outputs": [
        {
          "output_type": "stream",
          "name": "stderr",
          "text": [
            "/usr/local/lib/python3.8/dist-packages/anndata2ri/r2py.py:106: FutureWarning: X.dtype being converted to np.float32 from float64. In the next version of anndata (0.9) conversion will not be automatic. Pass dtype explicitly to avoid this warning. Pass `AnnData(X, dtype=X.dtype, ...)` to get the future behavour.\n",
            "  return AnnData(exprs, obs, var, uns, obsm or None, layers=layers)\n"
          ]
        }
      ]
    },
    {
      "cell_type": "markdown",
      "source": [
        "## Домашнее задание\n",
        "\n",
        "Сделайте несколько вспомогательных функций, которые вам позднее пригодятся:\n",
        "1. Разбиение одного объекта AnnData на список других, соответствующих каждому индивидуальному батчу;\n",
        "2. Создание нового объекта со случайными N клетками и M генами из изначального;\n",
        "3. Сохранение вашего AnnData-объекта как Seurat-объекта в формате `.rds`."
      ],
      "metadata": {
        "id": "TR6okaf89F4Q"
      }
    },
    {
      "cell_type": "markdown",
      "source": [
        "# Задание 1\n",
        "## Решение\n",
        "\n",
        "Прочитаем содержимое отфильтрованной матрицы и создадим объект формата AnnData"
      ],
      "metadata": {
        "id": "nayKCOSY6M-6"
      }
    },
    {
      "cell_type": "code",
      "source": [
        "anndata = sc.read_10x_mtx(\"filtered_feature_bc_matrix\")\n",
        "anndata.obs[\"tissue\"] = \"PBMC\""
      ],
      "metadata": {
        "id": "TXIz0MZH9ztj"
      },
      "execution_count": 41,
      "outputs": []
    },
    {
      "cell_type": "markdown",
      "source": [
        "Создадим функцию, которая генерирует список батчей, состоящих из цифр.\n",
        "\n",
        "Входные данные функции: количество клеток и размера батча."
      ],
      "metadata": {
        "id": "tH0Ki95y7hBc"
      }
    },
    {
      "cell_type": "code",
      "source": [
        "def generate_batches_list(cells_number, batch_size):\n",
        "  batches_list = []\n",
        "  batches_number = cells_number // batch_size\n",
        "  for i in range(batches_number):\n",
        "    for _ in range(batch_size):\n",
        "      batches_list.append(f'{i+1}')\n",
        "  remainder = cells_number - (batch_size * batches_number)\n",
        "  if remainder > 0:\n",
        "    for _ in range(remainder):\n",
        "      batches_list.append(f'{batches_number+1}')\n",
        "  return batches_list"
      ],
      "metadata": {
        "id": "nNvbjAZAD2Dc"
      },
      "execution_count": 88,
      "outputs": []
    },
    {
      "cell_type": "markdown",
      "source": [
        "Создадим функцию, которая разделяет Anndata по батчам"
      ],
      "metadata": {
        "id": "cUs_WIop7oVd"
      }
    },
    {
      "cell_type": "code",
      "source": [
        "def separate_by_batches(anndata, batch_size=2000):\n",
        "  anndata_dict = {}\n",
        "  anndata.obs[\"batch\"] = generate_batches_list(anndata.shape[0], batch_size)\n",
        "  batches = list(set(anndata.obs[\"batch\"]))\n",
        "  for batch in batches:\n",
        "    anndata_dict[batch] = anndata[anndata.obs[\"batch\"] == batch]\n",
        "  return anndata_dict\n",
        "\n",
        "separate_by_batches(anndata)"
      ],
      "metadata": {
        "colab": {
          "base_uri": "https://localhost:8080/"
        },
        "id": "6aAgRKlI6LSw",
        "outputId": "ef566e2b-a773-4ac2-f990-c38ad9de120d"
      },
      "execution_count": 89,
      "outputs": [
        {
          "output_type": "execute_result",
          "data": {
            "text/plain": [
              "{'2': View of AnnData object with n_obs × n_vars = 2000 × 36601\n",
              "     obs: 'tissue', 'batch'\n",
              "     var: 'gene_ids', 'feature_types',\n",
              " '4': View of AnnData object with n_obs × n_vars = 2000 × 36601\n",
              "     obs: 'tissue', 'batch'\n",
              "     var: 'gene_ids', 'feature_types',\n",
              " '3': View of AnnData object with n_obs × n_vars = 2000 × 36601\n",
              "     obs: 'tissue', 'batch'\n",
              "     var: 'gene_ids', 'feature_types',\n",
              " '1': View of AnnData object with n_obs × n_vars = 2000 × 36601\n",
              "     obs: 'tissue', 'batch'\n",
              "     var: 'gene_ids', 'feature_types',\n",
              " '6': View of AnnData object with n_obs × n_vars = 1996 × 36601\n",
              "     obs: 'tissue', 'batch'\n",
              "     var: 'gene_ids', 'feature_types',\n",
              " '5': View of AnnData object with n_obs × n_vars = 2000 × 36601\n",
              "     obs: 'tissue', 'batch'\n",
              "     var: 'gene_ids', 'feature_types'}"
            ]
          },
          "metadata": {},
          "execution_count": 89
        }
      ]
    },
    {
      "cell_type": "markdown",
      "source": [
        "# Задание 2\n",
        "## Решение\n",
        "\n",
        "Покажем, как выглядят данные баркодов клеток:"
      ],
      "metadata": {
        "id": "1zrF2yuNFz0O"
      }
    },
    {
      "cell_type": "code",
      "source": [
        "anndata.obs.index"
      ],
      "metadata": {
        "colab": {
          "base_uri": "https://localhost:8080/"
        },
        "id": "Mx0ESrIDIYA_",
        "outputId": "6e973695-2bb7-4e61-95f3-a5402f8ff37f"
      },
      "execution_count": 101,
      "outputs": [
        {
          "output_type": "execute_result",
          "data": {
            "text/plain": [
              "Index(['AAACCCAAGGCCCAAA-1', 'AAACCCAAGTAATACG-1', 'AAACCCAAGTCACACT-1',\n",
              "       'AAACCCACAAAGCGTG-1', 'AAACCCACAATCGAAA-1', 'AAACCCACAGATCACT-1',\n",
              "       'AAACCCACATTGACCA-1', 'AAACCCAGTGAGCCAA-1', 'AAACCCAGTGATAGAT-1',\n",
              "       'AAACCCAGTGCCTGAC-1',\n",
              "       ...\n",
              "       'TTTGTTGCATCACGGC-1', 'TTTGTTGCATCCAACA-1', 'TTTGTTGGTAAGGTCG-1',\n",
              "       'TTTGTTGGTACAGAGC-1', 'TTTGTTGGTCGCAACC-1', 'TTTGTTGGTTGGATCT-1',\n",
              "       'TTTGTTGGTTTCTTAC-1', 'TTTGTTGTCCATTTCA-1', 'TTTGTTGTCTACACAG-1',\n",
              "       'TTTGTTGTCTCATTAC-1'],\n",
              "      dtype='object', length=11996)"
            ]
          },
          "metadata": {},
          "execution_count": 101
        }
      ]
    },
    {
      "cell_type": "markdown",
      "source": [
        "Вот так выглядят данные генов из AnnData файла:"
      ],
      "metadata": {
        "id": "JywLlysnIimt"
      }
    },
    {
      "cell_type": "code",
      "source": [
        "anndata.var.index"
      ],
      "metadata": {
        "colab": {
          "base_uri": "https://localhost:8080/"
        },
        "id": "tgS-AV5gIaig",
        "outputId": "70347b0e-24ab-4ba7-978f-f4efc754cbb6"
      },
      "execution_count": 102,
      "outputs": [
        {
          "output_type": "execute_result",
          "data": {
            "text/plain": [
              "Index(['MIR1302-2HG', 'FAM138A', 'OR4F5', 'AL627309.1', 'AL627309.3',\n",
              "       'AL627309.2', 'AL627309.5', 'AL627309.4', 'AP006222.2', 'AL732372.1',\n",
              "       ...\n",
              "       'AC133551.1', 'AC136612.1', 'AC136616.1', 'AC136616.3', 'AC136616.2',\n",
              "       'AC141272.1', 'AC023491.2', 'AC007325.1', 'AC007325.4', 'AC007325.2'],\n",
              "      dtype='object', length=36601)"
            ]
          },
          "metadata": {},
          "execution_count": 102
        }
      ]
    },
    {
      "cell_type": "markdown",
      "source": [
        "Создадим функцию, которая генерирует случаным образом подмножество из данных генов и баркодов AnnData файла."
      ],
      "metadata": {
        "id": "AyhP_m5VHGtn"
      }
    },
    {
      "cell_type": "code",
      "source": [
        "from random import choices\n",
        "\n",
        "def generate_random_anndata_subset(anndata, cells_number, genes_number):\n",
        "  random_cells_subset = choices(list(anndata.obs.index), k=cells_number)\n",
        "  random_genes_subset = choices(list(anndata.var.index), k=genes_number)\n",
        "  return anndata[random_cells_subset, random_genes_subset]"
      ],
      "metadata": {
        "id": "-XfoGmEOGHtf"
      },
      "execution_count": 100,
      "outputs": []
    },
    {
      "cell_type": "code",
      "source": [
        "generate_random_anndata_subset(anndata, 2000 , 3000)"
      ],
      "metadata": {
        "colab": {
          "base_uri": "https://localhost:8080/"
        },
        "id": "_WFyGf8BGuvI",
        "outputId": "f12f8d02-1cda-4476-f9d7-892f16a9142b"
      },
      "execution_count": 99,
      "outputs": [
        {
          "output_type": "stream",
          "name": "stdout",
          "text": [
            "['ATCCTATGTTACGCCG-1', 'CTCCTCCAGGATGCGT-1', 'GTAAGTCAGAGTACCG-1', 'CAAGACTCAGAGCTAG-1', 'ATCGTCCCACATTGTG-1', 'GCAGGCTTCTGTGCAA-1', 'AGCGTATTCGAGTTGT-1', 'TGGTGATGTTCGGACC-1', 'CACCAAACATCGATCA-1', 'ACGTCCTGTCGCCACA-1', 'CACTGTCGTGTACGCC-1', 'TCCACCAAGTTGTCGT-1', 'GTCTTTAAGCGCATCC-1', 'AACCAACTCGACATAC-1', 'GATGTTGAGTAAAGCT-1', 'CAGGCCACAGTAACGG-1', 'TTCTGTAAGCCGCACT-1', 'GATCCCTGTTTGGGTT-1', 'CCTTCAGTCCTGCCAT-1', 'AACCTGATCTATGTGG-1', 'TCAGTCCGTCGCCACA-1', 'GTCCACTAGAGTTCGG-1', 'CATGGATGTAGGACTG-1', 'AGCGCTGTCGCGGTAC-1', 'GATAGAATCTATTGTC-1', 'TCTCACGCACAGTATC-1', 'CATCGTCTCGTGAGAG-1', 'CGAATTGGTAACAAGT-1', 'CAGATCAGTAACATGA-1', 'GCGAGAAGTCAGCTTA-1', 'GGGCCATGTTGCTCCT-1', 'CCACAAAAGCACTGGA-1', 'TATCTTGAGCGAATGC-1', 'CCGGTGACACGTCGTG-1', 'TAGGTTGGTGCGGATA-1', 'CATCGTCAGACCAACG-1', 'CAGTTAGGTTCTTGTT-1', 'ATGGGTTCATCCGGCA-1', 'CTGAATGCAAGAATGT-1', 'CCTCCTCGTGAGTTGG-1', 'TCGATTTAGCAGTACG-1', 'GGTCACGTCATACGGT-1', 'TTCTCTCGTAGTCGGA-1', 'ATCGTCCGTAGCACGA-1', 'CTCATGCCACCCTGAG-1', 'CAGATTGAGCGTGAAC-1', 'GTAGGTTAGTAGAGTT-1', 'AGCCAATGTCCACATA-1', 'TCAGCAAAGTAAATGC-1', 'TGTAAGCTCATGGAGG-1', 'GTTACAGGTAGGAGGG-1', 'GATGTTGAGTGCAGCA-1', 'TCATATCTCTAGCCTC-1', 'AACAAGACAGCGCGTT-1', 'ACTGATGAGTGCGACA-1', 'CAGCACGCACGGAAGT-1', 'TTTCACAAGCGATTCT-1', 'CGAATTGTCGCATAGT-1', 'TCCGTGTCATTGGCAT-1', 'GGTGTTATCGATACAC-1', 'GGTGTCGTCCAGCTCT-1', 'GGGTGTCAGAAGCTCG-1', 'CTAGGTATCGGCACTG-1', 'ACTCCCATCCAAAGGG-1', 'GCCAGCAAGCTCGTGC-1', 'AGTGCCGCAGACTCTA-1', 'CAATCGAGTCGGCACT-1', 'GTCGTAACAGTAACCT-1', 'TTCTAGTAGGTAATCA-1', 'GTTATGGGTCACTTCC-1', 'GTCACGGTCGCAAGAG-1', 'GGGATGACAAGCGGAT-1', 'CCACCATCAAACGGCA-1', 'GATTCTTGTGTGTTTG-1', 'ATTTACCGTATGGAGC-1', 'TATTGGGTCATTTGTC-1', 'GGGTCACTCACTGGTA-1', 'CAGTTCCAGTCTAACC-1', 'TGCAGGCTCAGCAATC-1', 'CATTCATTCCCGGTAG-1', 'TGACTCCTCGCTTACC-1', 'TGGAGGAAGGATTTAG-1', 'AACCAACAGCATGTTC-1', 'AGACCATGTATGCTTG-1', 'ATCGGCGCAAGCGAAC-1', 'AGTACCACAGCCCAGT-1', 'GTGATGTGTGGCAACA-1', 'CGAGGCTTCTGCCTGT-1', 'CAAGACTTCGTTCTCG-1', 'GATTTCTTCATTTCGT-1', 'GCGAGAAAGAGTAACT-1', 'CGAGTGCTCGATACGT-1', 'TCATATCCACTAGGCC-1', 'CGTTGGGGTCAGTCTA-1', 'GTAGTACAGCGCTTCG-1', 'ATCGTAGAGAGATCGC-1', 'GATGACTAGCCAGTAG-1', 'ATCCACCTCAGGGTAG-1', 'ATTACTCGTCACTCTC-1', 'CAAGAGGCAAAGGAGA-1', 'GCCAACGGTATCATGC-1', 'CAATGACAGGTTTGAA-1', 'GAGTCTAAGTATGAGT-1', 'AGCTCAATCTAAGCCA-1', 'TCTTGCGTCGGCTGGT-1', 'TGCAGTATCACTCTTA-1', 'TGTGGCGAGTAGAATC-1', 'CATCAAGAGTACTCGT-1', 'GAGAAATTCGATTTCT-1', 'CGACAGCGTAACGATA-1', 'TGCGATAGTGGACCAA-1', 'TACAGGTTCCAGTGCG-1', 'AGAGCCCCAATGAACA-1', 'GCTGAATTCCTTATGT-1', 'GTCACGGTCAAGTAAG-1', 'TTTCAGTAGACATACA-1', 'CACTGAACATAGTCAC-1', 'TCCTTTCAGAGCAGAA-1', 'CTCGAGGGTTCTCCCA-1', 'GCACTAAGTCCACTCT-1', 'ATCGCCTGTTACCGTA-1', 'ATTTCACAGCGTCTGC-1', 'GATGGAGAGTAAGGGA-1', 'ATATCCTGTAGAGCTG-1', 'TTCTAACCAGCAGTCC-1', 'CAGAGCCAGCCACTCG-1', 'GTGAGTTAGCTTAAGA-1', 'AACCATGGTGACTGTT-1', 'TCGCAGGAGTAGTCCT-1', 'CAGAGCCTCGCAAGAG-1', 'CTCGAGGCACTGCATA-1', 'CTAGGTACAGGACGAT-1', 'GCCAGGTAGCGCTTCG-1', 'GAGGCCTAGCACTAAA-1', 'GGGTTATAGGTGGCTA-1', 'AGTCATGTCGGTTGTA-1', 'CTTCTAAAGTTCCTGA-1', 'ACGTAACAGGCTAAAT-1', 'CATTTCAAGAGAGCCT-1', 'GTTGTAGGTCATAACC-1', 'TCACTATGTAAGTAGT-1', 'GCTACCTCACTGTTCC-1', 'TTGCATTTCCCAACTC-1', 'CCCAACTAGCCTTTCC-1', 'GGGTATTGTTAAGACA-1', 'TGTCCACTCAGTGATC-1', 'GAATAGATCCGCAGTG-1', 'CGGTCAGCACCTGATA-1', 'TGTAAGCCACTGATTG-1', 'GAGACTTCAGATACTC-1', 'TTGCATTTCTGGTTGA-1', 'TAAGCCATCCACAGGC-1', 'AGTTAGCCACACGCCA-1', 'ACTGATGGTTTCGACA-1', 'GATTCGACAACACGTT-1', 'GAGTGTTTCTGAACGT-1', 'GTTCTATAGATTAGCA-1', 'GTAGAGGCAGTTAGAA-1', 'GATTTCTTCTCAATCT-1', 'ACAAGCTAGGCCCAAA-1', 'GACTCAATCGCTCATC-1', 'TCAAGCACAGCCCAGT-1', 'TGCGATAGTGGACCAA-1', 'CGAAGTTGTTACAGCT-1', 'CTGTCGTGTCATTGCA-1', 'GGAGATGGTCGGTGAA-1', 'TGAGCATGTGCAGATG-1', 'CCGTTCAGTTTCGTAG-1', 'GTAATCGGTCCGGCAT-1', 'TAGGGTTGTCACGACC-1', 'GCCAACGGTCAGACGA-1', 'CCGTTCACATCCCGTT-1', 'TGTCCTGCAAAGGATT-1', 'GGGTCTGAGGTTTGAA-1', 'GTTGAACTCAGCACCG-1', 'GTGCACGCACAGTGAG-1', 'GCGTTTCTCGGACGTC-1', 'ATATCCTGTGGTCTTA-1', 'GTTGCTCGTTAAAGTG-1', 'ACCCTTGCAGTTAAAG-1', 'TCACGCTTCCAGCAAT-1', 'CTCCGATTCTGCCTGT-1', 'GTCGTTCGTCTGTGAT-1', 'TAGTGCACACTGTCCT-1', 'ACCTGAACATCCTATT-1', 'CTACATTAGAATTGTG-1', 'TTTGGAGGTGTATACC-1', 'CTCAATTTCCCGGTAG-1', 'TTTCCTCGTCCCGGTA-1', 'TCGTGCTAGTTGTCAC-1', 'TCTTTGACACCTGCAG-1', 'CAAGGGAAGCACCAGA-1', 'TAACTTCCATGTTCAG-1', 'CTCCACATCACAACCA-1', 'AGACCATGTTCCTAGA-1', 'TCACGCTGTCGTGTTA-1', 'CATCCCAGTATGGAAT-1', 'CCATCACTCCAGCCTT-1', 'GTCAAACTCCTGTAAG-1', 'TGGGAAGGTGTGGACA-1', 'TTTCGATAGCGTGCTC-1', 'CCTGCATAGCTAGAGC-1', 'GGGTCTGAGTACCATC-1', 'TGACCCTCACAAATGA-1', 'CCAATGAAGACATAGT-1', 'GTCTTTATCCAGGACC-1', 'ATCGGATGTGGAATGC-1', 'TATATCCCATCTATCT-1', 'CATCCGTGTCACAGAG-1', 'AGGTTGTGTGGACCTC-1', 'GCACTAATCGTGCGAC-1', 'TCATGGAGTAATGCTC-1', 'TTGTTTGCACACCGAC-1', 'ATGCCTCAGATTGACA-1', 'CTGTGAATCGAGAACG-1', 'GTGGAAGCAGTAACGG-1', 'GTTAGTGAGTCGGCAA-1', 'TTCATTGCAGCGCGTT-1', 'CCGGTAGTCACTCCGT-1', 'GGGATCCTCTCGAACA-1', 'AATGACCCAGTTCCAA-1', 'TGGGCGTCAGTCCCGA-1', 'TAAGCCACAGAGTCTT-1', 'GACCGTGTCTGTAACG-1', 'GGTAATCGTATGAGGC-1', 'CTCCCAAGTGCATTAC-1', 'TCTTCCTTCCAAACCA-1', 'TCATGTTAGAAACTCA-1', 'CCTATCGAGGCATGCA-1', 'GTTTGGAAGGTGGTTG-1', 'ATGAAAGTCTTACACT-1', 'TCGTGGGTCTGTCCCA-1', 'CGAGTGCGTATGTCCA-1', 'ATGAAAGTCGGAATTC-1', 'AAACCCACAAAGCGTG-1', 'ACGCACGGTTCTCTAT-1', 'ACGCACGGTTGCGGAA-1', 'AGACCATTCAAACTGC-1', 'TTGCATTTCACTACGA-1', 'TTTAGTCCATAGACTC-1', 'CCGGTAGGTCTTCCGT-1', 'TACGTCCGTCACAGTT-1', 'CGGGTCAAGGAGATAG-1', 'TGACAGTCAGGTAGTG-1', 'AGGGTTTTCGGAGCAA-1', 'GGATGTTGTGTGACCC-1', 'TAACCAGGTTCCGCGA-1', 'CCTTTGGAGGAGAGTA-1', 'CGAGTTAAGCGTATGG-1', 'CAGCGTGAGAGGGCGA-1', 'CGAGAAGCATTGAGCT-1', 'TAACGACTCACTCACC-1', 'CCCTCTCTCGAAGGAC-1', 'GAACGTTTCGCTATTT-1', 'CCTAAGAAGGCTGGAT-1', 'AGTAGCTGTGCGCTCA-1', 'TAGACTGGTATCAAGA-1', 'GCACATAGTTGGGTTT-1', 'ACCATTTCACCAATTG-1', 'TTGGGTAGTACCTGTA-1', 'TCATGTTTCGTTCTGC-1', 'AGGGTTTCAGACAAAT-1', 'AGACCCGCAATTGCGT-1', 'GAGACTTGTGTGGACA-1', 'ATGCCTCAGTCCCTAA-1', 'AATCGTGAGCTGTTAC-1', 'AAGTTCGGTAATGATG-1', 'AGAAATGGTTGTGGAG-1', 'TCCTCTTGTCGTATTG-1', 'AGCGATTGTAGCTTGT-1', 'ATTTCACTCCACAAGT-1', 'ATCACGACATAGATCC-1', 'CAGATACGTCTCACGG-1', 'TCAAGTGGTAACATCC-1', 'AAGTTCGTCAGGACAG-1', 'GATGATCCACTGAGGA-1', 'AAGCATCCACAATTCG-1', 'TCCATCGTCTACTCAT-1', 'AACGTCATCTATCGGA-1', 'ACCATTTAGGGCCCTT-1', 'GGTGTTAAGGGCAGGA-1', 'AGTTAGCAGCACACCC-1', 'CTCTCAGAGCGTGTTT-1', 'TCGTGCTGTGAGAGGG-1', 'AAGCGTTGTTCTTGTT-1', 'CTTCTCTCAACAGATA-1', 'CGGGCATAGACATGCG-1', 'GTCTAGAAGTGCACTT-1', 'AGCGCTGCACTACCGG-1', 'ACAACCAAGGAGCAAA-1', 'CGCCAGATCCCGGTAG-1', 'ATGTCCCGTTTGGCTA-1', 'AATCACGAGTGCCGAA-1', 'CAAAGAAGTTCTAAGC-1', 'AGAACCTGTCTTGAGT-1', 'AAACGAATCAACGAGG-1', 'GAATCACTCGCATGAT-1', 'GCGTTTCTCTACTTCA-1', 'CTTCGGTAGGAGATAG-1', 'TCCGAAAAGGACACTG-1', 'CATCGCTGTGTCCTAA-1', 'GAACTGTCATGGGAAC-1', 'TTTCACATCCTTATCA-1', 'TGTCCACCACAGTACT-1', 'TTGACCCAGCGGTAAC-1', 'AAGTGAACATGCGTGC-1', 'CAGTTAGGTTCTTGTT-1', 'GAGTGAGAGTGGTTCT-1', 'TCATATCTCAGTCTTT-1', 'TACCCGTTCTTGTGCC-1', 'ACGTAACAGCACGATG-1', 'CTAACTTGTAATTAGG-1', 'GTTAGACAGTTCACTG-1', 'AGAACAAGTATTCCTT-1', 'ACTCTCGAGATGCTGG-1', 'CACAGGCCAGAACCGA-1', 'ATCCCTGGTATGGGAC-1', 'CGTAAGTAGGTGATCG-1', 'GAGGGTAAGGATTCAA-1', 'ACTTTCATCATTGGTG-1', 'TTTAGTCTCAACTTTC-1', 'GACTCTCGTGTGAATA-1', 'CGTAGTAAGTCCTACA-1', 'GCCATGGGTTGCATTG-1', 'TCATTCACAAAGACTA-1', 'GATTGGTGTGGCAACA-1', 'CCCAACTCATTCGATG-1', 'CATTCATGTGTAACGG-1', 'ATCTCTATCATTCGGA-1', 'AACAGGGAGCGTATGG-1', 'CCTCTCCAGCGCCTCA-1', 'CAATCGAGTATGTCCA-1', 'GACCGTGTCATTTCCA-1', 'AGGATCTTCCATCTGC-1', 'AGAGCCCGTGCCCACA-1', 'GACCAATAGATGCTTC-1', 'GGTAATCGTATGAGGC-1', 'AACAAAGAGATTAGAC-1', 'CGAGGCTAGTTAGTGA-1', 'TTGCCTGAGCATCCTA-1', 'CTTACCGTCAAAGGAT-1', 'ACAACCACAAACTAAG-1', 'CCGATCTCACGATTCA-1', 'TGTTCATCAGACGCTC-1', 'CATAAGCTCACGGGAA-1', 'GTGTTCCGTTACCTGA-1', 'AAGACTCCAAACTCTG-1', 'CATTCATAGCTAATGA-1', 'CACTGGGCATCCTGTC-1', 'CTTGATTCATTCACAG-1', 'AGTTCCCGTGAACCGA-1', 'GTCCACTTCTGTGCAA-1', 'CATACTTCAACTGATC-1', 'TAGGTACCAGTTAAAG-1', 'TACACCCGTAGTCTGT-1', 'CCGTAGGGTTCTCCTG-1', 'TCGACCTTCTGGTCAA-1', 'AAAGGTAAGTAAACAC-1', 'GGGAGATGTACTGCGC-1', 'AGGTGTTTCACGAGGA-1', 'GCCAGTGGTGCATACT-1', 'CATCCACAGCAAGCCA-1', 'TGTACAGGTCGATTTG-1', 'TGAATCGCACTTGGCG-1', 'GAGTCATTCGGCTGTG-1', 'TAGGGTTCACACACTA-1', 'GATAGAACAATCAGCT-1', 'ATCCACCAGCCTTGAT-1', 'GAACTGTGTTACCGTA-1', 'GAGTTGTTCTGTGCGG-1', 'GAAACCTAGAGGTTTA-1', 'ACGGTCGCACCATATG-1', 'CTGCCTACAATAGTGA-1', 'TACCCACAGGCCTGCT-1', 'GCAGCCATCGTAGAGG-1', 'TCTGTCGAGTTGAAAC-1', 'ATGGGTTCACTAAACC-1', 'GTTAGACAGCAGCCTC-1', 'TAGGTTGGTGCGGATA-1', 'ATACCTTCAACCTATG-1', 'AGGTTGTAGTGCCGAA-1', 'ATCGCCTGTATTTCGG-1', 'TACCGAATCCGACAGC-1', 'CTACAGAAGGATACCG-1', 'TTGAGTGTCACTAGCA-1', 'AGGGCTCGTACACGCC-1', 'GTGTGGCCAGCGAACA-1', 'GCAGCTGTCCTGATAG-1', 'GGGATCCAGTTCGCAT-1', 'AATCGTGTCTATACTC-1', 'CCTGCATAGGATGAGA-1', 'CTTCTAATCCATAAGC-1', 'GTTGTAGGTGGCTGAA-1', 'ACCTGAAAGCACCTGC-1', 'TCGTGGGAGGCAGTCA-1', 'TATCTGTTCAAAGGAT-1', 'CTCATTACACTGTCGG-1', 'CTCTCAGGTTGGGTTT-1', 'AAAGAACCAAAGGGTC-1', 'ATGAAAGAGTATAGAC-1', 'TCATCATAGCAGTCTT-1', 'TGCTCCAAGGTCGCCT-1', 'GTCACTCCACAAAGCG-1', 'CTAGGTATCCGTATGA-1', 'TGCGACGAGCACGGAT-1', 'AGCATCAAGCTAATCC-1', 'GTTGTGAAGGCACCAA-1', 'GGGTCTGTCGCCACTT-1', 'ATTTACCGTATCAGGG-1', 'GTTGTAGTCAGGGATG-1', 'TCATACTCATCATCTT-1', 'GAAGCGAGTCTAACTG-1', 'AGGCTGCAGCGGCTCT-1', 'GTTGTGAAGTTCGGTT-1', 'GCACGTGGTATCACCA-1', 'GGCTGTGCAACCGCTG-1', 'AATTCCTAGTCGCCCA-1', 'AAGTGAATCCGCGGAT-1', 'TCTATACTCTTACGGA-1', 'GACTCAAGTCTTCAAG-1', 'TCAGTGATCGACATTG-1', 'TACCTGCCACACCTTC-1', 'CTCAACCTCTGCTTTA-1', 'TTCCTCTAGCGACAGT-1', 'AGATCCACAACCAATC-1', 'GATTTCTTCTCAATCT-1', 'GACTGATGTCTACGAT-1', 'GGGTTATTCAAACCTG-1', 'TCTTCCTTCGGACCAC-1', 'CATGCTCAGGGTTTCT-1', 'AGCGATTGTATGTCAC-1', 'TTGAGTGAGAGCTGAC-1', 'TATCCTAAGATTGATG-1', 'TAGACTGGTTACCTGA-1', 'ATGCGATGTCGAGATG-1', 'CAGGGCTTCCGACATA-1', 'TTAGGCAAGCCGTTGC-1', 'GCGGATCAGAGTTGAT-1', 'GGGCTACCAGGTGGAT-1', 'GTAGAGGTCGTAGAGG-1', 'ATTTACCAGGCACAAC-1', 'ATATCCTCAGGGAATC-1', 'GCACGGTAGCGGATCA-1', 'AGTTCGAAGAGAGGTA-1', 'TGGGTTACAGACTCTA-1', 'GTAATGCCACTAGGCC-1', 'GAAGAATAGATTGATG-1', 'AGGGTCCCACGGCACT-1', 'CCGTAGGCACAATGAA-1', 'TGTTTGTCACGTGAGA-1', 'GACATCATCCAACCAA-1', 'CATACTTAGAGTCACG-1', 'CCGGGTATCATGCTAG-1', 'AGGAATACACAACATC-1', 'CTAGACAAGCTCGACC-1', 'AGTCTCCAGTAGGGTC-1', 'CAGAGCCTCCACAGGC-1', 'TATTTCGCATCGCTAA-1', 'TAACTTCGTGGCTAGA-1', 'AGGGTCCTCGGTGCAC-1', 'GGGAGTACAACTGATC-1', 'CATGCGGGTTCCGGTG-1', 'CTCATGCGTCACATTG-1', 'AGACCCGGTAGGTGCA-1', 'AGATCGTCAGGAAGTC-1', 'TCAAGTGTCCCATAGA-1', 'TCCGTGTCATTGGCAT-1', 'GGAGATGAGCAGGCAT-1', 'TGGTTAGTCAATGTCG-1', 'GCATGATCATCTGTTT-1', 'GGGCGTTTCGTGGTAT-1', 'GCCATGGTCATGGATC-1', 'CGCCATTGTGCCTAAT-1', 'ATCGGCGCAGCTTCGG-1', 'TGCTGAAGTCATAAAG-1', 'TCACAAGGTCCAGCCA-1', 'CTTTCAACACTATCCC-1', 'TTGTTTGCAGCTTTCC-1', 'ATGCATGAGTGGTTCT-1', 'CTGAATGGTCAGGTGA-1', 'GGAAGTGGTAACAGGC-1', 'TTGCCTGGTTGCCTAA-1', 'CACCGTTGTCTGTGCG-1', 'ATTTCACTCATCCTGC-1', 'AACGAAAAGCAACCAG-1', 'ATTACCTTCAGAGTTC-1', 'GTAATGCTCTTACTGT-1', 'TCCGGGAGTCACAATC-1', 'CGTAAGTGTGGCCACT-1', 'AGGGTCCCATTGCCTC-1', 'TTTCCTCAGCCTTTGA-1', 'GGAATCTCAGTGGTGA-1', 'CATCCCAAGTCGAGGT-1', 'CTCCACAGTGGGCTTC-1', 'TCCTTCTGTGTTGAGG-1', 'GTTACAGAGTGTAGTA-1', 'CCTCTAGGTAGGTACG-1', 'GATAGAAGTCTTTCAT-1', 'CTGTACCAGGCCTAGA-1', 'GACGTTAAGAAATGGG-1', 'AGGCCACAGCGATCGA-1', 'ACCATTTCATCCGGTG-1', 'TCCGAAACACATTCGA-1', 'CTATCTAAGCAGTCTT-1', 'AATGAAGTCATCGACA-1', 'AGTCATGGTGGTCAAG-1', 'GGTGTTAGTCGATGCC-1', 'GTTCCGTCAACAACAA-1', 'GATTGGTAGCTACGTT-1', 'CGAGGCTCAGAGGTTG-1', 'CATCAAGTCGTTACCC-1', 'TTTACGTCAGGTTCAT-1', 'CGACAGCAGGTGCAGT-1', 'AGGAATAAGGTCACTT-1', 'GTACAGTGTCCATAGT-1', 'TCCTCCCTCCAAGCCG-1', 'GCATTAGAGTAGCTCT-1', 'GTGTTCCTCGAGCTGC-1', 'TGCGGCAAGGACAAGA-1', 'TCCATGCTCACGGAGA-1', 'CACGAATCAAATGGTA-1', 'CTCCCAACACAGTGTT-1', 'ACTTTGTGTTATCTGG-1', 'AATTTCCAGCGTGAGT-1', 'CACAACAAGAGGGTCT-1', 'TAGGTACTCGACCACG-1', 'TTCCGGTGTCACCGCA-1', 'GGGAAGTTCATCTACT-1', 'CCTCACACAGAGTTGG-1', 'AGTAGCTTCTGGAGAG-1', 'TACTGCCGTACTGCCG-1', 'TTATTGCCATAAGCAA-1', 'ACTATGGAGCAAGGAA-1', 'CCCTGATAGTCGCCAC-1', 'ATACCTTGTAGCGCCT-1', 'ATAGACCAGGTCGCCT-1', 'TGACAGTCAGATAAAC-1', 'ATCACGACATAGATCC-1', 'GTCTCACAGCGGGTTA-1', 'CTTCAATAGCTATCTG-1', 'GATCAGTCATGCACTA-1', 'TATACCTGTACTAAGA-1', 'GTTGTGAAGTTCGGTT-1', 'GACGTTAAGTCATGAA-1', 'AGGCTGCAGCGCCGTT-1', 'GAACTGTAGGTCTACT-1', 'CAAAGAAAGCCTCTTC-1', 'GACTCAAGTCTTCAAG-1', 'CGGGACTAGAGGATGA-1', 'ACTTTGTGTTATCTGG-1', 'AATGGAAAGTGCAGCA-1', 'TTACCATGTACGAAAT-1', 'GATTCGAAGGCAGGTT-1', 'TCAGTGATCGACATTG-1', 'TAGTGCAAGCACTCCG-1', 'CATTCTACACTAAACC-1', 'TTCCTCTCAGGGATAC-1', 'GAAGTAATCTAGAGCT-1', 'AATCGACCAACAAAGT-1', 'ACGGGTCGTTTACGTG-1', 'TGCAGTAGTTTCGGCG-1', 'TGTGCGGCAATACAGA-1', 'CAGCAATAGCCTATCA-1', 'CAGTTAGGTAACTAAG-1', 'GCCATGGCACAGGATG-1', 'GTAGATCGTAACTTCG-1', 'CTAACTTGTACGGCAA-1', 'CACTTCGCACCAGACC-1', 'GAGTGAGCAAAGCAAT-1', 'CATGCTCTCGATCCCT-1', 'CATCAAGAGAAGATCT-1', 'TGAATCGGTATCAGGG-1', 'ACTATCTGTCTACGTA-1', 'AAACCCAAGGCCCAAA-1', 'TATTGGGAGTTGGACG-1', 'GATAGCTTCAGTGGGA-1', 'GGATCTAGTAGTACGG-1', 'ACAAGCTGTTCTATCT-1', 'GTAGCTAAGGCTTTCA-1', 'CTGGTCTCACGCCACA-1', 'ATTCGTTAGGTGATCG-1', 'CGGAATTGTCACAATC-1', 'TCAGTTTAGATTAGTG-1', 'GTAGCTAAGAGGGTGG-1', 'AGGAATAAGTGGCGAT-1', 'TTCCGTGTCGAGCACC-1', 'CAGTGCGTCAAGCGTT-1', 'ACGCACGTCCCTTGGT-1', 'GGCTTGGGTAACGATA-1', 'AGCGATTTCGTACCTC-1', 'GGGTGTCCAAGGTTGG-1', 'CGGGTGTAGTATAACG-1', 'CATCGTCCACCATATG-1', 'TCTATCAGTGCCTTCT-1', 'GTACAACCACGTTCGG-1', 'AAACCCAAGTCACACT-1', 'GTCACTCTCCCGTTGT-1', 'TCGAAGTCAGCTGTGC-1', 'ATTCGTTAGTAATCCC-1', 'ACCACAATCATCGGGC-1', 'TCCTTCTGTGGTCAAG-1', 'AGTTCCCGTGAACCGA-1', 'GTTATGGTCACCCATC-1', 'TGCCGAGCAGTACTAC-1', 'GAGTTGTTCAGACCCG-1', 'GACCTTCGTTGTGCAT-1', 'ACTTCCGAGGAGCAAA-1', 'AGTCACATCAGACCTA-1', 'TTCGATTAGAGCCATG-1', 'ATCGGCGCATGTACGT-1', 'AATGACCCAGACTGCC-1', 'CCTCAACAGCACCTGC-1', 'GCAACCGGTCACAATC-1', 'GTAACACAGATGAATC-1', 'GTCCACTAGGAACGCT-1', 'CATCCGTCACGCCACA-1', 'GGTCACGAGAGTCGAC-1', 'CGTTAGACAATCCTAG-1', 'AGAGAATCACGTCGGT-1', 'TACCTCGAGAAGCTCG-1', 'CATGCGGGTGAGGATC-1', 'TTAGGCAAGGCACGAT-1', 'GAGTGAGCAAAGCAAT-1', 'ATGGTTGTCACCTGGG-1', 'CCATAAGTCGGCCAAC-1', 'ATACCGATCGCCACTT-1', 'TAACGACCAAAGTGTA-1', 'CACCAAACAAGTGCAG-1', 'CAATTTCCACATAACC-1', 'TCCCAGTGTTGCTCAA-1', 'CACGTGGCAGGAATAT-1', 'GGGCCATTCCAAATGC-1', 'CTTCCGAGTCTGTCCT-1', 'TTTCGATTCAGTGCGC-1', 'AGAGCCCGTTGTGCAT-1', 'ATCGTGAAGTCGGCAA-1', 'GGAACCCTCCGCAAAT-1', 'ATATCCTAGAGTCAAT-1', 'AGGTTGTTCTGAGTCA-1', 'GCCGATGTCGGTTAGT-1', 'ACACTGAGTAGCTGAG-1', 'ACAAGCTAGTATAGAC-1', 'AGAGCAGGTTACGATC-1', 'AGGTTGTCAACCACAT-1', 'TCTGCCACACAGCGCT-1', 'TTGCGTCAGTCGCGAA-1', 'GATCGTATCCCAGGAC-1', 'TCGTGGGTCCAAGGGA-1', 'AACGTCATCGAGATAA-1', 'CCTCAACCAGATAAAC-1', 'ATGGTTGGTAACTGCT-1', 'GGGTAGACAATAACCC-1', 'TACAACGCATCCGGCA-1', 'AGGGAGTCAGAACATA-1', 'CAGGGCTTCCGACATA-1', 'TGTGATGCAGTAACAA-1', 'ATGATCGCATTCGGGC-1', 'CGATGCGGTCGAATTC-1', 'GCTTGGGAGACGCAGT-1', 'TCCCACATCCCAGTGG-1', 'TTCACGCGTGACCGTC-1', 'CCTATCGAGCAACCAG-1', 'AGAGCCCGTTGTGCAT-1', 'TCACACCCAGAAATTG-1', 'TCAGCCTTCCGATAAC-1', 'GGGACAAGTGGTCCCA-1', 'CCACCATGTTGAGAGC-1', 'CCGGTAGCACGCTGAC-1', 'CACGAATAGGTATTGA-1', 'TGGCGTGAGGAGTACC-1', 'CTGTGAAGTTACGTAC-1', 'TTCATGTTCACCTACC-1', 'GATCACATCTCAGTCC-1', 'CCAATGAGTGGCCCAT-1', 'GCTGCAGCAACACAAA-1', 'ACTTCGCGTTGTCCCT-1', 'AGAGCAGGTACTCCCT-1', 'TTGGGATTCTCGTGAA-1', 'ACATCCCTCGAGTCCG-1', 'TAGACTGTCCGTGTCT-1', 'GCACTAAGTCGCGGTT-1', 'TAAGCACTCCACTAGA-1', 'CTGCGAGGTATGTCTG-1', 'ATGTCCCAGTCACGAG-1', 'AAGGTAACATCATTGG-1', 'TTGGTTTCAATACGCT-1', 'GCCGATGAGGTCACTT-1', 'CCCTTAGAGTTGCCTA-1', 'CAAGACTCAACTGCTA-1', 'AAGTTCGGTAATGATG-1', 'CAACCTCCACCTGTCT-1', 'GCACTAAAGCTCAGAG-1', 'AACTTCTAGGTCCTGC-1', 'AAGCATCCACAATTCG-1', 'GTTCTATTCAGCACCG-1', 'TCATATCCATTGTAGC-1', 'TCCTCGACAGGATCTT-1', 'TTCAGGATCGCAGAGA-1', 'TCTTGCGGTCGAGCAA-1', 'ACTGATGTCATTTGCT-1', 'CGGTCAGTCACTTCTA-1', 'CAAGGGATCATCCTAT-1', 'TAACGACAGTGATTCC-1', 'CATGCTCAGGGTTTCT-1', 'AGATCGTTCGGAGCAA-1', 'ACTTTGTAGTGGTTCT-1', 'AGGTAGGTCAGCGTCG-1', 'GAATCACAGACAACTA-1', 'AGAGCAGAGTATGAGT-1', 'AGTGACTCAGGCCTGT-1', 'AGACTCAAGCTCATAC-1', 'CTGAATGCAAGAATGT-1', 'AGGCCACTCGGAGTAG-1', 'GTGCTTCGTGGTCTAT-1', 'CAATCGACATACCAGT-1', 'CTTCCTTAGACCACGA-1', 'GGTCTGGTCTCGAACA-1', 'AGGGTGACATCAGCGC-1', 'ACGTACAAGAGGTATT-1', 'TAAGCACCAGGAATCG-1', 'CTACGGGAGATGAAGG-1', 'CCGGTGAAGAACTTCC-1', 'TTCTTCCAGTGAGGCT-1', 'GGATCTATCAGCTGTA-1', 'GTTAGACTCGAGTGGA-1', 'GAGTTTGTCCCTTCCC-1', 'CTTTCGGCATTGGGAG-1', 'GTAATCGGTCCAAAGG-1', 'AGGGCCTGTGAAGCGT-1', 'ATCGCCTGTGTCTTCC-1', 'CGTAAGTAGCATGCAG-1', 'AATGCCAGTCCGGTCA-1', 'GTGAGGAGTGCGAACA-1', 'ATTTCACTCCACAAGT-1', 'GGGCCATGTCTTGCTC-1', 'GCCATTCGTAAGTCAA-1', 'GTCCTCAAGCTCAGAG-1', 'ATGAAAGTCTTACACT-1', 'AGGGTGACAGAGAATT-1', 'GTTCGCTTCGCAGTCG-1', 'AACAAGACAACTGGTT-1', 'GGAGAACGTCAACCAT-1', 'AACGTCATCTATCGGA-1', 'CCCAACTGTATCACCA-1', 'TAGGAGGTCACCGGTG-1', 'AAGGAATCACAAGCCC-1', 'TCGTGGGAGTGTTGAA-1', 'CATTCCGGTTCAGCGC-1', 'ATTCTACTCTCAGAAC-1', 'TGGTAGTAGTGTTCAC-1', 'TTGCCTGTCGCCATAA-1', 'TAGACCACAAATGGTA-1', 'CGGAGAATCGGCTGTG-1', 'TTACCGCCAAGCGCAA-1', 'ATTGGGTGTTCTTGTT-1', 'AGACACTAGTGGATTA-1', 'TCCTAATCAAGATTGA-1', 'TTTGATCCAAGAATAC-1', 'CTGAGGCAGTCAGGGT-1', 'TGACTCCGTTAAGACA-1', 'ACCCTCAGTGACGCCT-1', 'AAGAACAAGGTCATCT-1', 'GGAGGATGTGCCGTTG-1', 'TCACACCAGAGTCGAC-1', 'AAGTTCGCACTTGAAC-1', 'ACTCCCAAGCCGTTGC-1', 'TCTTAGTTCCAGTGCG-1', 'CCAATGAAGACATAGT-1', 'AACAAGAAGTCCTGCG-1', 'TCATCCGAGGTACATA-1', 'GTCAAACGTACCGTGC-1', 'TGAATCGAGTGAGTGC-1', 'AGATGAACATGCCGCA-1', 'TACTGCCCATGGGTCC-1', 'AACCATGCAATAACCC-1', 'ATGCATGGTGTTAGCT-1', 'AGTCTCCGTGCAGGAT-1', 'TACCGAACAAGCTGCC-1', 'GAGTCATGTGGTCTCG-1', 'CTTAGGAGTTAACCTG-1', 'CCACACTCAGTTCTAG-1', 'TCAAGTGCAGTGTGGA-1', 'AGTTCCCAGGAATGTT-1', 'TGTACAGGTCTCGACG-1', 'GAACTGTGTCGTACTA-1', 'GAGGGTAGTACTAACC-1', 'GTAGAGGAGGCCTGCT-1', 'AGGGTCCCAACAGCTT-1', 'CCTTCAGGTGGGATTG-1', 'TTGCATTGTACATACC-1', 'TAGATCGGTTGCTCAA-1', 'CGAAGGAGTAACGGTG-1', 'CAATACGTCGCTGCGA-1', 'AGGCCACTCCACACAA-1', 'ACTTCCGAGAATTTGG-1', 'ACATGCAAGTACCGGA-1', 'CATTTCACAGACAATA-1', 'TATCCTAAGCCTCACG-1', 'TCACTATGTAAGTAGT-1', 'AACAAAGTCCCGTAAA-1', 'CTATCTATCACGAGGA-1', 'TACATTCTCTATTCGT-1', 'CTTCAATTCGAGAAGC-1', 'TCGGGCATCAACACGT-1', 'CCAAGCGCAAGATGTA-1', 'ACCAAACCAGATCATC-1', 'CGGAGAAGTAACACGG-1', 'GTACAACGTGCTCCGA-1', 'TCATCATAGCAGTCTT-1', 'CGCATAATCTCACGAA-1', 'TGTGGCGGTGGGCTCT-1', 'TTGCTGCAGAGCCCAA-1', 'CTTCTAAGTGAGGATC-1', 'TCCATCGAGAGATCGC-1', 'ACTGCAAAGTCGGCAA-1', 'AGGATCTAGGTTAGTA-1', 'AGGCTGCAGCGCCGTT-1', 'GTGAGCCCATAGAATG-1', 'TTCCGGTAGGTACAGC-1', 'CTCCACATCTAAACGC-1', 'ATCACGAGTTGAATCC-1', 'AGAGCCCCATCCAACA-1', 'AGAGCCCAGCGTTCCG-1', 'GTAGGAGAGTTACGTC-1', 'AGCGATTTCGTACCTC-1', 'GGTGAAGGTCAAAGCG-1', 'TGATGCAAGTTCTACG-1', 'TGTAAGCGTCACCTTC-1', 'TGACAGTCAGGTAGTG-1', 'ACACTGAGTTAATGAG-1', 'TCAAGTGCAGCTGTGC-1', 'CATCCCAAGAAACTGT-1', 'CTTCGGTCACTGGCGT-1', 'ATTTCTGAGCCTCTGG-1', 'ACCAACAGTCAAGGCA-1', 'CAGCACGCAGGCTACC-1', 'ACTCCCAAGTGGTTCT-1', 'ATGAAAGAGAAGAACG-1', 'CGATGCGTCCCTCGTA-1', 'TGATTTCGTAGCGAGT-1', 'CAATCGAAGTTGTCGT-1', 'TGGGAGATCCATCTAT-1', 'GTAGGTTTCCGTAGGC-1', 'CTTTCGGAGTCCCAGC-1', 'GAGACTTTCAACTGAC-1', 'CATCAAGCACATATCG-1', 'AGGAAATAGATTGGGC-1', 'ACGCACGCAAGAATAC-1', 'TCACAAGCATCCGAGC-1', 'CGTGCTTGTCCCGTGA-1', 'ATAGACCCAACGGCCT-1', 'TGCTCCACATCCGCGA-1', 'CGTGAATGTCGTGGAA-1', 'ACAAAGAAGGGACAGG-1', 'ATGAAAGTCGGAATTC-1', 'CCACACTGTCTTGGTA-1', 'CTCAATTAGCCAAGCA-1', 'GGAGGATGTGCCGTTG-1', 'TTTGGTTTCCGTCACT-1', 'TGAGTCATCGTTCATT-1', 'AGAGCAGGTACTCCCT-1', 'ATAGACCAGAGAGCGG-1', 'GGGTATTGTGTCTTCC-1', 'GGCGTCATCGGTCTGG-1', 'CCCTCTCTCGTTCAGA-1', 'AAGACAAAGCGAGAAA-1', 'TGACCCTAGAAACTCA-1', 'AGGGCCTAGAATCGTA-1', 'CTCAACCTCGACCAAT-1', 'TCGTGGGCAAAGACTA-1', 'GTGTGATAGGGTTGCA-1', 'AAACGCTTCGACCACG-1', 'TGACCCTAGATGGCAC-1', 'GTTGTAGGTGGCACTC-1', 'TCAGTGACAATTCGTG-1', 'TCGTGCTGTGAGAGGG-1', 'CATGCAATCACTTATC-1', 'ACGTACAGTTACACTG-1', 'ACTATCTTCAGAGCAG-1', 'CATAGACGTCTACAGT-1', 'CGGCAGTTCTGCGATA-1', 'GAACTGTGTTACCGTA-1', 'CGTGTCTCACTAACGT-1', 'TGCGGGTAGGGTCTTT-1', 'CAGCAATGTACGGATG-1', 'CACATGATCCCATTCG-1', 'TTGACCCGTCACTTAG-1', 'TACGGGCTCGACTCCT-1', 'ATATCCTCATTGCAAC-1', 'ACCGTTCAGTCCCAAT-1', 'GACTTCCAGCGAGGAG-1', 'TCCAGAATCTTCTGGC-1', 'CAGTTAGAGATTAGAC-1', 'TGTCCACGTCCCACGA-1', 'CCGAACGTCAGCTGAT-1', 'CATAGACCACGCTGAC-1', 'TTTCGATAGTTTCGAC-1', 'GCCAGTGAGCCTAACT-1', 'TGCGGCAAGGTGCCTC-1', 'TGGTGATTCACCTTAT-1', 'GTTGCGGTCAAACCCA-1', 'CTAGACAAGGTCCTGC-1', 'TACGGTAGTGTATTGC-1', 'CTGTAGACATACTTTC-1', 'GAATAGAGTCTTGCTC-1', 'ATGCCTCCAAGTTCCA-1', 'CTTGATTGTGGATCAG-1', 'CCGTTCACATCCCGTT-1', 'TCACACCTCCGCTAGG-1', 'TGTTCATTCCACGAAT-1', 'ATAGAGACAGTCACGC-1', 'CTCAAGACAGTCGGTC-1', 'CAGGGCTCATCCGTGG-1', 'ATCACAGGTCTGTGTA-1', 'ACCTACCAGGAGGGTG-1', 'TTCGGTCCAGCAATTC-1', 'ATGATCGAGGAACGCT-1', 'CTTTCAAAGTAGAGTT-1', 'AACGGGATCATTCGTT-1', 'CATACAGGTTGCGGCT-1', 'TACCCGTAGATACCAA-1', 'TCACGGGTCCGTGTCT-1', 'TCCCAGTCACAGTCAT-1', 'CATCCACCACCTTCGT-1', 'ATCCATTTCGAGCCAC-1', 'GGTAACTCAGGACTTT-1', 'TCAATTCGTGAGATAT-1', 'GTAAGTCTCGAGCCTG-1', 'CGTTGGGCACCCTATC-1', 'TTGTTTGAGAATGTTG-1', 'CCAAGCGTCAATGCAC-1', 'CCTCACAGTCTTTCAT-1', 'TCATTACTCACAGTGT-1', 'GGATCTAAGCTGAGTG-1', 'CATTTCAAGGTCACCC-1', 'TGCGACGCAATCTCTT-1', 'CGATCGGGTTGCTCAA-1', 'CTGTATTAGTATGAAC-1', 'TTCACGCTCCCGAGTG-1', 'TAGGGTTTCGTGGCGT-1', 'GGGCTCAGTGTCACAT-1', 'CCACCATAGGAATTAC-1', 'TTAGGCACAGCTGTAT-1', 'CTCCTCCAGGATGCGT-1', 'GATTCTTAGGCCCAAA-1', 'TCTATCAAGCCTTTCC-1', 'CACAGGCCAGACAAAT-1', 'CTGGACGTCGTAGCTA-1', 'GAACGTTAGGCATGGT-1', 'CTGAGCGGTGAATTGA-1', 'ATTATCCCAGCTGTGC-1', 'CCTTTGGTCTTGGGCG-1', 'TAACGACAGTGATTCC-1', 'CAGAGCCGTACAGGTG-1', 'TGGATGTCACGAGAAC-1', 'CCTCTAGCAACTGATC-1', 'AGCATCACAGACAATA-1', 'CCTACGTCAGTCAACT-1', 'GGGCTCACAACTCCAA-1', 'CAGCAGCAGACTTCAC-1', 'TATCAGGCAGGAGGTT-1', 'GGTGTTACATCATTTC-1', 'TTACCGCGTGCGGTAA-1', 'GGTCACGAGAGTCGAC-1', 'GTAGATCGTAACTTCG-1', 'ATTCTTGAGTATTGCC-1', 'TGTAGACAGTGCAGGT-1', 'ACCGTTCGTTCTCCCA-1', 'CTAGGTAAGCGACATG-1', 'TGTCCCAAGACAGCGT-1', 'ATCGATGGTAGTTCCA-1', 'ACCTACCAGCGTCTCG-1', 'GGGTATTGTCTTGCTC-1', 'TCGGTCTCAGCGCGTT-1', 'CACAACAAGTCATAGA-1', 'AAAGAACTCGTGTCAA-1', 'GGCGTCACATCTCATT-1', 'GGTGGCTGTATGGAAT-1', 'TCTATACCAAGAAACT-1', 'TGATTTCAGTGGAATT-1', 'AATGCCAAGCATCCTA-1', 'TACTTACTCCAAGCAT-1', 'GGAATCTCAACTCGAT-1', 'CATCCACCACCTTCGT-1', 'TCTGTCGAGCTGCCTG-1', 'ACATGCAAGTACCGGA-1', 'CATCGCTTCTGCTTTA-1', 'GAGGGATAGTAATCCC-1', 'TGATCTTTCACCTCTG-1', 'CTTTCAACATCTCGTC-1', 'TCCATCGTCGACGCGT-1', 'AGAACCTCATGTTCGA-1', 'CAACCTCAGTAATCCC-1', 'AGGATAACAGACGGAT-1', 'GAACACTTCGCCAACG-1', 'TCATTGTTCGATGGAG-1', 'AGTAGCTTCAAGCCTA-1', 'CATCCGTGTTGCGGCT-1', 'TCTATCACAAGTTTGC-1', 'CCTGCATCACTGTCCT-1', 'ACTGCAAGTTCTAACG-1', 'GTTGCTCAGTACTGTC-1', 'AGCTACATCATGCCCT-1', 'CGTAATGGTGTGTACT-1', 'TCACTCGCATGAAGGC-1', 'ACAGAAATCGGCCAAC-1', 'AATTCCTGTTTCGTTT-1', 'AGAGAGCAGTCCCGGT-1', 'AAGTGAACAAAGGCAC-1', 'CTCAACCTCTGCTTTA-1', 'CTGTAGATCGGTCAGC-1', 'ATCCACCTCTGTGCGG-1', 'CATGAGTAGTTTGCTG-1', 'GACGCTGCAGAAATCA-1', 'ATTGTTCCAAGCTACT-1', 'TGCATCCAGCCGCTTG-1', 'GGTAGAGTCTTCTAAC-1', 'TAGACTGGTAACATCC-1', 'AAGTTCGGTAACACGG-1', 'CCAATTTAGCAAGTGC-1', 'AGACTCAGTAGAATGT-1', 'GACACGCGTGCAACAG-1', 'CGTGTCTGTGGTACAG-1', 'TGGGTTAGTTGGTACT-1', 'CATCGTCAGGGCAGTT-1', 'AATTTCCTCGTTTACT-1', 'GGATGTTCACGAGGTA-1', 'CCTCACACAAGAAACT-1', 'GGCACGTAGAGGTCAC-1', 'TCGTCCACACTATGTG-1', 'GCTACCTTCTGAGGTT-1', 'TCATGCCGTTCGAAGG-1', 'TTATTGCAGTCTCGTA-1', 'GGTTAACTCACTCTTA-1', 'GCTGAATTCCTTATGT-1', 'GAATCACGTGGTCCGT-1', 'TATCGCCCAGGAATAT-1', 'CTATCCGCAATTGAAG-1', 'TCTAACTCAAGCTGCC-1', 'TGATGCAAGTTCTACG-1', 'TCAGGTAGTTTAGAGA-1', 'CATTCCGGTACTCGCG-1', 'GTGAGGACAGGAATCG-1', 'ATCACGATCAGATGCT-1', 'CAGATCAAGGAACATT-1', 'AGGGTCCTCTAGCATG-1', 'GTAAGTCTCGAGCCTG-1', 'TCGGGCAAGTGTGTTC-1', 'GACTTCCCAGTCAACT-1', 'ATACCTTTCGTTCATT-1', 'AAGACAACATGACTCA-1', 'GATCGTAAGCGTACAG-1', 'AAAGGATGTGGGCTCT-1', 'AGATCGTGTATCAGGG-1', 'TAGGAGGGTTCTATCT-1', 'GGGAGATCAATTGGTC-1', 'GGTGTTATCGATACAC-1', 'TACGCTCCACCCTGTT-1', 'ATCATTCAGAATCGAT-1', 'ACCAACACAACGTTAC-1', 'TCCAGAATCGGCTTGG-1', 'CAAGACTGTAGAGTTA-1', 'TGGAGAGTCGGTGTAT-1', 'ACATGCAAGATGGCAC-1', 'TCTCACGGTGGCTACC-1', 'GGGTGTCGTCGCATCG-1', 'TGAGGAGGTCCTGTTC-1', 'TTACTGTAGCTCGAAG-1', 'GAACGTTCAATGCTCA-1', 'ACAACCAGTTTGGCTA-1', 'GGGTAGATCATACGAC-1', 'ATTGTTCGTCGCATTA-1', 'TCGCAGGAGTAGTCCT-1', 'TCTCAGCAGTAGCAAT-1', 'TGATGGTAGTTCATGC-1', 'TGCTCCACAACGGGTA-1', 'CTCAGTCCACGGCCAT-1', 'TCGCTCACAGTAGAAT-1', 'ACAAGCTTCCGATAGT-1', 'GGGCGTTGTCGAAGCA-1', 'AACCAACCACCTCGTT-1', 'TACATTCCACCGGTCA-1', 'TTCTCTCGTCGAAGCA-1', 'TTTCGATCACAGTACT-1', 'GCAACCGTCGAGAAAT-1', 'TCATACTCAAGATTGA-1', 'TGATTTCGTAGCGAGT-1', 'GGTGATTTCAAAGGTA-1', 'CTTGATTAGACACACG-1', 'CTCAGGGAGCTCGTGC-1', 'CATGAGTGTCCAAAGG-1', 'TACAACGAGCGTGCCT-1', 'ATACCTTGTCCCGGTA-1', 'TCGACGGGTGCCCACA-1', 'ACGATCACAACCAGAG-1', 'GAACACTAGCGGATCA-1', 'TTAGGGTGTGTCTAAC-1', 'AGGAATATCGCCTAGG-1', 'TCTATACAGCGTCTGC-1', 'CTACGGGAGAGCCTGA-1', 'TCATACTCAAGATTGA-1', 'GAAGTAAGTAGTGTGG-1', 'TCCTCTTAGAGATCGC-1', 'GGTCACGGTCATATGC-1', 'TGATGCAGTAGGCAAC-1', 'TCTATACCAGCCCAGT-1', 'GAGGGATGTGGCACTC-1', 'TTCGCTGAGCGACTGA-1', 'AAGGAATAGCAATTAG-1', 'TTGTGGACAAATGGTA-1', 'CCTCTAGAGCGAGGAG-1', 'GCGAGAAGTTTGGAGG-1', 'GCTACCTCACTGTTCC-1', 'GCTGGGTGTGAGATTA-1', 'CTCTGGTAGTGAACAT-1', 'ACGGAAGCACAAGCTT-1', 'CATACAGTCCGAGCTG-1', 'ACCGTTCTCGGCATTA-1', 'TCAGCAATCGTAGCTA-1', 'TATTGGGGTGACATCT-1', 'AGAGCAGAGTATGAGT-1', 'GTCATTTTCCGACGGT-1', 'GGTAATCGTTTAGACC-1', 'TGGAGAGTCCCAGCGA-1', 'AGAACCTCATGTTCGA-1', 'ATTATCCCACAATGAA-1', 'TGCTCGTGTGATACTC-1', 'TCTGCCAGTTTGCCGG-1', 'AGAACCTGTTCCTTGC-1', 'CGTTGGGGTCAGTCTA-1', 'GATTCTTTCGACATTG-1', 'TCTGTCGGTGGGTTGA-1', 'CTATCTATCATTTGCT-1', 'CCTCCTCCATCGGCCA-1', 'CAACGGCGTACAAAGT-1', 'TGGGCTGTCCTGTACC-1', 'GTGAGTTCAATTCTTC-1', 'ATTACCTAGAAGAGCA-1', 'TCTTTGAGTCTCCTGT-1', 'ATCCTATCACGCAGTC-1', 'CGCATAAAGGATGGCT-1', 'AACCCAAGTATGAGAT-1', 'CGTTCTGTCCCTTGGT-1', 'TAATCTCTCAGACCCG-1', 'GGGTTATCACCCAAGC-1', 'AAGTGAAGTCGATTCA-1', 'AGCGATTAGCAAGGAA-1', 'TTGCATTTCCATTCGC-1', 'AGTGATCAGATTGCGG-1', 'TCCTTCTTCTTGCGCT-1', 'TTTCAGTGTAACATAG-1', 'CGCATGGCATTGCCTC-1', 'GAATCACAGGCTTAGG-1', 'GTGCAGCAGAGCCGTA-1', 'CTCAATTCACAAAGCG-1', 'AGGTGTTCATGTTCAG-1', 'GGTTGTACATAACTCG-1', 'GGAGATGAGCAGGCAT-1', 'TATCCTAGTTCGCGTG-1', 'CGTAAGTGTGGCCACT-1', 'TTCATTGGTTCGAACT-1', 'CAACGGCAGCATTTGC-1', 'GTAATCGAGTGCTACT-1', 'TTACAGGTCGCCTAGG-1', 'TTGTTCACACACAGCC-1', 'GTCATCCGTAGAGCTG-1', 'TTTCACAAGCGATTCT-1', 'ACTTATCTCCCAGGCA-1', 'TGAACGTTCATGCATG-1', 'TACGTCCGTCACAGTT-1', 'TGACTCCAGGTTCAGG-1', 'ATTGGGTCATGGCCCA-1', 'GAATAGAAGATTAGAC-1', 'AGAGCAGAGAAACCAT-1', 'CACTAAGTCGAAGTGG-1', 'GAAGGGTAGTCTCGTA-1', 'TCTATCAGTGCTCCGA-1', 'AAGTACCGTTGTAAAG-1', 'TGGGAGAAGCTGAGTG-1', 'TCCATCGTCGACGCGT-1', 'TAATCTCAGAAGGATG-1', 'AGTCTCCCAGCGCGTT-1', 'AGGACTTCAGGAGGTT-1', 'GACTCAAAGACTGAGC-1', 'TCAAGCACAGTAACAA-1', 'CCACCATGTAGCTTTG-1', 'GGGTATTGTGTGAATA-1', 'GACTCAAAGACTGAGC-1', 'TCTCAGCAGTGTCATC-1', 'AAGTTCGCATCGGATT-1', 'AAACCCAGTGCCTGAC-1', 'TCCAGAACATGTGTCA-1', 'TTTCCTCAGAGATTCA-1', 'CCACTTGGTTAATCGC-1', 'GCACGGTTCATTTGCT-1', 'GAAACCTCAAAGACTA-1', 'AAGCGAGCACCCAACG-1', 'CTTACCGCACAAGGTG-1', 'CAAGCTAAGGTAAGAG-1', 'TGTTGGAGTACGATGG-1', 'AGGTTGTGTGGACCTC-1', 'TTGTGTTGTCGGTGAA-1', 'GACATCATCCTAAACG-1', 'ATCTCTATCGATACAC-1', 'GCTTCACTCACTTCTA-1', 'CAAGACTGTAGAGTTA-1', 'TGATCAGCAAACCATC-1', 'AAGAACAGTTGCTCCT-1', 'GACTCTCTCATCACTT-1', 'TGACGCGCAGGCTTGC-1', 'ATTCTTGGTCTAGATC-1', 'ATAGACCGTATGTCTG-1', 'GTTCTATCAACGAGGT-1', 'ACAACCAGTCACTACA-1', 'TGCACGGGTATGAAGT-1', 'ACTTAGGTCCAACCAA-1', 'TGATTCTAGTGATAGT-1', 'GTGGAGATCACGGGAA-1', 'TTCACGCGTAAGACCG-1', 'TGGGAGATCGCCGAGT-1', 'TTTACTGCAGCATACT-1', 'GTCTTTAGTCACCACG-1', 'GAGATGGCAAACCACT-1', 'TACGTCCTCTCTATAC-1', 'TCCTTCTTCAGCCCAG-1', 'ACGGAAGGTTTACCAG-1', 'CCCGGAAAGGAGAATG-1', 'GGGAGTATCGCTAGCG-1', 'CTGCCTAAGAGAATCT-1', 'ACGTAACGTGCAGTGA-1', 'ATACCTTTCACAATGC-1', 'ATGGGAGCACAGAAGC-1', 'CAATCGAAGGACGGAG-1', 'TACCCACTCTCTGCCA-1', 'AGGCATTAGTTGCGAG-1', 'TCGCTCATCAAGATAG-1', 'CCAATGATCACAATGC-1', 'CTCAGTCCAGCGTAGA-1', 'GAGTGTTAGTGCAGCA-1', 'AGGGAGTGTAACGCGA-1', 'GAGTTTGGTTTACGAC-1', 'CGGACACCAAAGAGTT-1', 'AGCTCAAAGCTAGAGC-1', 'CGGCAGTAGTGCACAG-1', 'TTCCGGTCAGAGCCCT-1', 'CTTCCGATCCGATTAG-1', 'AGGTCTAGTGAGACGT-1', 'TCCTGCATCTGTCGCT-1', 'TCAGGTACAATCAAGA-1', 'ACTATCTGTACGCTAT-1', 'TTCACGCAGCGTCGAA-1', 'ATACCTTGTAGCGCCT-1', 'ATGCCTCCACCATATG-1', 'GAAGGGTAGTCTCGTA-1', 'ATGCATGCACGCTGAC-1', 'GTGCAGCTCGGACTTA-1', 'CTGCGAGTCCAGTTCC-1', 'TACATTCCACCGGTCA-1', 'TACAACGCATTGAGGG-1', 'GTGAGCCCATTGAAGA-1', 'GATGAGGAGGCTATCT-1', 'AGACCATTCGACTCCT-1', 'GTGCTGGTCTCGTGAA-1', 'GGAACCCCAATTTCTC-1', 'CTAGACATCGGTTGTA-1', 'TCGACCTAGTGTCATC-1', 'TCAAGCACAGTAACAA-1', 'TGGGAGATCCGTGGGT-1', 'GCATCTCGTACTGGGA-1', 'CACGTTCCAAGAGGCT-1', 'CATCCGTCAGCAGGAT-1', 'GTTGCGGGTCATAGTC-1', 'GAAGCGACAATAGAGT-1', 'TCCCAGTGTGTATTGC-1', 'GTGCTGGAGAAAGTCT-1', 'CACGAATGTCTTGAGT-1', 'TTCTTCCGTACACGTT-1', 'GAACGTTCATGTACGT-1', 'CGTGAATAGCGAAACC-1', 'ACACGCGCAGGTAGTG-1', 'CACAGGCTCTGCGAGC-1', 'GCCAGGTAGAGCTGCA-1', 'GTCATTTTCCGACGGT-1', 'TCATGGAAGGTATAGT-1', 'TTGGGTACAAGATGTA-1', 'ACAAAGATCTGGCCTT-1', 'AGGGCTCGTACACGCC-1', 'TTCAGGACACTGGATT-1', 'AACCTGATCAGGTGTT-1', 'ACTCTCGCAGCAATTC-1', 'ATCACTTGTCTACAGT-1', 'TGGTGATTCGGTCTGG-1', 'AATAGAGAGTTCCTGA-1', 'TAGACTGAGGAATCGC-1', 'AGGAGGTAGGAGTCTG-1', 'AATAGAGCACATATGC-1', 'GTCACTCTCCCGTTGT-1', 'AGGTAGGTCAGGACGA-1', 'TTGGGATAGTGGAAAG-1', 'GCTCAAAAGGTAAGAG-1', 'AGGAATACAATACCCA-1', 'TACCCGTGTGTTCCAA-1', 'CCGTTCATCGGTTAGT-1', 'TCCTTCTGTACAGCGA-1', 'AGAACCTTCTAAGCGT-1', 'CACACAATCGGTAAGG-1', 'ATATCCTTCCAGCACG-1', 'AGTGATCCACCGTACG-1', 'TTGACCCGTCACTTAG-1', 'CAAGACTTCGGCGATC-1', 'GTATTTCGTTGAAGTA-1', 'CCCGAAGCAACTGGTT-1', 'GCACATAGTTTAGTCG-1', 'CTACTATAGGGCAGAG-1', 'AGACAAACAGTATTCG-1', 'GATTCTTAGGCCCAAA-1', 'TACAACGAGCGTGCCT-1', 'GCACATAGTCTTAGTG-1', 'TCGGATACACAATGAA-1', 'CATGAGTGTAGGCAGT-1', 'GTACAGTAGAGATCGC-1', 'TCAGTTTCATGAAAGT-1', 'GGCTGTGGTCGCTGCA-1', 'CTAACTTTCTGTTCAT-1', 'TACAGGTCACTACAGT-1', 'TCAGTGATCGAAGCAG-1', 'ATCGCCTCATTAGGAA-1', 'TATTGGGTCGCTATTT-1', 'ATACTTCGTAGCGCCT-1', 'AAGTGAACATGCGTGC-1', 'TGCTCCAAGACTCATC-1', 'CATACAGAGACTCCGC-1', 'CAATTTCCACATAACC-1', 'AGATAGATCATCCTGC-1', 'TGTTCCGGTACGCTAT-1', 'CTTCCTTGTTGGGTTT-1', 'CGCGTGAGTACTGAGG-1', 'GAAACCTTCAGTCATG-1', 'CCTCCAATCTTTCTAG-1', 'AAGCGAGCAGTAGAGC-1', 'GATTGGTGTTGACTAC-1', 'TTTCATGGTTGCATAC-1', 'ACTGCAACACAGTATC-1', 'AACGGGAAGCAGAAAG-1', 'ATTCACTTCGGCTGAC-1', 'GACTATGTCGTGTGGC-1', 'GTTTGGAAGCTCCCTT-1', 'CGAAGGACAAGCTGTT-1', 'TTCCTAAAGTCCTGCG-1', 'GGTGTTATCTGTCGCT-1', 'ACTGCAAAGGATTTAG-1', 'ATGAGGGAGTAGTGCG-1', 'TGTAAGCGTAATCAGA-1', 'TTTGGAGCAAGTTTGC-1', 'AGGATAACATGACTCA-1', 'ATGGTTGTCACCTGGG-1', 'CCTTCAGGTTTCGCTC-1', 'TCATTTGAGTACTGGG-1', 'TGGCGTGTCTTGCGCT-1', 'AGAAATGTCGCCATAA-1', 'TCCCAGTAGTCACAGG-1', 'TGGAACTGTCCTCCTA-1', 'TTACCATTCTGGCTGG-1', 'GTGTTAGTCTACCAGA-1', 'TTGCATTGTAGATTGA-1', 'CAAGCTAGTTGGGCCT-1', 'TACCCGTGTGTTCCAA-1', 'TTTGGAGAGATAGCTA-1', 'CGTGAATGTCGTGGAA-1', 'CATGGTAGTACACTCA-1', 'ATCCATTGTTTCGTTT-1', 'TCGCTCATCTAACGGT-1', 'CTTTCAATCTTCCTAA-1', 'TACGGTAGTGTATTGC-1', 'CCGTTCAAGGTCGTGA-1', 'ATAGAGACACATCATG-1', 'CAGCGTGCACATGGTT-1', 'ATCCGTCCAAGGTCAG-1', 'CATTCCGAGTTGTAGA-1', 'ATGGTTGGTCTGCCTT-1', 'TCATTGTAGGATGAGA-1', 'GTGGAGAGTTGGTAGG-1', 'TGACAGTGTTTCGACA-1', 'TTCTTCCTCAAGGTGG-1', 'ATTGGGTGTTCTTGTT-1', 'ACTCTCGAGATGCTGG-1', 'CTCAACCAGTGACCTT-1', 'TCTCTGGTCATACGGT-1', 'GGGTTATGTATCTTCT-1', 'CCCTGATTCCTCTGCA-1', 'TTGTGGAAGAGCCGAT-1', 'CAACAACCAGTGTACT-1', 'CAGCGTGGTGGCGTAA-1', 'TCAGGGCTCACCGGTG-1', 'TGCTCCACATCCGCGA-1', 'TGTTCTAGTTTACGTG-1', 'ATCACTTGTGCTGCAC-1', 'AAGCCATAGTCCCAGC-1', 'TTACCGCGTGCGGTAA-1', 'CATTGTTGTACCACGC-1', 'TCATTCACAAAGACTA-1', 'TAGGTACTCCTGGGTG-1', 'CTCAGGGCACATTCTT-1', 'CGGGACTTCTAGCCTC-1', 'TGCAGGCCATAGAATG-1', 'GACTATGCACGCGTGT-1', 'AGAAGTATCAGGCGAA-1', 'CACGTGGTCATTTACC-1', 'CTTTCGGTCGCCAATA-1', 'ATCGTGATCCGATTAG-1', 'AGCGCTGAGCACTCAT-1', 'ACAGAAATCCGGACTG-1', 'GAAGTAAAGCTCTGTA-1', 'AACAAGAGTGGTCTGC-1', 'TCGGGCAGTTCTAAGC-1', 'ACAGAAAAGGATACGC-1', 'ATCCATTTCTACTGCC-1', 'GGTCTGGTCGATACGT-1', 'TGTTCTAGTTACACTG-1', 'CATTTCACAGACAATA-1', 'CAGTTAGGTTTCGGCG-1', 'CATACAGCACGGTGAA-1', 'GGATCTACATAGCTGT-1', 'TCACTCGAGGTCGACA-1', 'GTGCTGGCACACTTAG-1', 'TTGACCCAGCACAAAT-1', 'TATACCTAGCTGACCC-1', 'CACGTTCAGCCTCCAG-1', 'GTCGCGACACAAATCC-1', 'TACCCGTCACATGGTT-1', 'ATGAGTCAGAAGCGCT-1', 'TGTCCCATCATGCCCT-1', 'TTCATTGTCCGTAGGC-1', 'GCGTTTCGTCGAATGG-1', 'AGCATCACATCTCGTC-1', 'AGGACTTAGCTCTTCC-1', 'CAATACGAGCGTATGG-1', 'ACTCTCGCAAGTGCAG-1', 'AAAGTGAAGCCTCTTC-1', 'GATGGAGTCTAGACCA-1', 'GGACGTCCACAAGTGG-1', 'CAGCACGCACGGAAGT-1', 'GTCTCACGTTGCGGAA-1', 'CACAACAAGAGGGTCT-1', 'TACCTCGTCAGTGGGA-1', 'ATTTCACAGCGTCTGC-1', 'TGTAACGTCTTAATCC-1', 'GTCGTAATCACGGAGA-1', 'TCAGTGAAGTTTAGGA-1', 'TACGGGCAGTGCCCGT-1', 'TCGCAGGGTATCACCA-1', 'GAGGGATAGACCATAA-1', 'CGCATAATCTCACGAA-1', 'AGAACAAGTCCCACGA-1', 'ATTGTTCTCCACAGCG-1', 'TGAGACTTCTGGACTA-1', 'GACCTTCGTTGTGCAT-1', 'AAAGTGAAGAGTGTGC-1', 'GACTCTCTCATCACTT-1', 'TCCCAGTGTGTATTGC-1', 'CCTTTGGAGCTGGCTC-1', 'AACCTGAAGCACAAAT-1', 'ACTGCAATCTCCATAT-1', 'TGGGCTGGTCTTGGTA-1', 'AAGCCATTCATTGTTC-1', 'AGTTAGCTCCAGCCTT-1', 'CCGATGGCATTCCTCG-1', 'TTTCGATTCACTTGGA-1', 'GACACGCCATTCAGCA-1', 'GTTTACTAGATACTGA-1', 'TTATTGCTCTTTACAC-1', 'TCCGAAAAGGACACTG-1', 'TTAGGCATCCTCACCA-1', 'TCCGGGATCGTAGTGT-1', 'GCGTTTCTCGGACGTC-1', 'GTACAGTGTTGGGTTT-1', 'TTCTAACAGCTCGGCT-1', 'ACAAAGATCTGGCCTT-1', 'TTTAGTCTCCAAAGGG-1', 'GAAGAATAGTAGTCTC-1', 'CCTCACAGTCCCTGTT-1', 'ATTTACCAGATCCCGC-1', 'GAGTCATTCCATTGTT-1', 'CCAATGAAGCCATTCA-1', 'ATGGGAGGTCCATACA-1', 'CTCTCAGTCTGGCTGG-1', 'ACGGAAGGTACGGTTT-1', 'AGTGACTCACATGACT-1', 'GGGTTATGTATCTTCT-1', 'TAATCTCAGGCGTTGA-1', 'ACACAGTCAGCGCTTG-1', 'TTTCGATCACATTACG-1', 'GAGGGTAAGTACCATC-1', 'TCCAGAAAGTGGACTG-1', 'GCCGTGAGTGTTGAGG-1', 'TGCTTGCGTCCCAAAT-1', 'GAGTGAGCACGAGAAC-1', 'GCACATATCACTTCTA-1', 'AGAGCAGTCGCAGATT-1', 'TCATTTGGTCACCGAC-1', 'TCGCTTGGTGGAACAC-1', 'CAGATTGTCAAGGACG-1', 'CAATCGAAGTTGTCGT-1', 'ATCAGGTCAGAGCCCT-1', 'TTGATGGGTGCCTATA-1', 'TTCTTGAAGACGAGCT-1', 'GTGGTTATCGCCATAA-1', 'GTAACCAAGTCATAGA-1', 'CAGGGCTTCCATACAG-1', 'AGACCATGTACAGTTC-1', 'CTCAACCAGATGTTAG-1', 'AAGTCGTTCAAACGTC-1', 'ACGTAGTTCTCGGGAC-1', 'GGGATGACACGGGTAA-1', 'CTGGTCTCACTGCGTG-1', 'TTTACCAGTACCACGC-1', 'TATCCTACACAAGTTC-1', 'GCACGGTCACCGTGAC-1', 'GAACTGTGTTAAGAAC-1', 'TGAACGTTCATTGCCC-1', 'AATGCCATCGATACAC-1', 'TACTGCCAGCCTGTGC-1', 'ACCAACATCTCAGTCC-1', 'ACCAAACCAACCGGAA-1', 'TGTTACTAGGACGCAT-1', 'TCTTTGATCATGCAGT-1', 'CCATAAGTCGGCCAAC-1', 'AGTAACCAGTAGAGTT-1', 'GACTCAAAGAGCATCG-1', 'GTGGAAGAGGCCTTCG-1', 'TACTGCCGTACTGCCG-1', 'CTGTGGGCATTCGATG-1', 'TTGGGATAGTGGAAAG-1', 'CATTGTTGTTGGCCTG-1', 'TCTATCAAGCCTTTCC-1', 'CGAAGGAGTATCATGC-1', 'AGCTTCCTCTAGCATG-1', 'GAGGGATAGCAAACAT-1', 'AGACCATGTCCCTCAT-1', 'GCACTAAAGTCATGAA-1', 'CCTTTGGGTTAGAAGT-1', 'CCAATGAAGGTCCCGT-1', 'CAGCAGCCAAGTATCC-1', 'TGCATGAAGTAACCGG-1', 'GGATGTTAGAGGTGCT-1', 'ATTACTCTCGCTGTCT-1', 'CTGGACGTCAAATGAG-1', 'TGTTACTGTACCCGAC-1', 'TCTTCCTTCGGACCAC-1', 'GAGTTACTCGCTACAA-1', 'CAGCGTGAGAGGGCGA-1', 'TATTTCGGTACGATGG-1', 'GCCGTGAGTGTTGAGG-1', 'TAATCTCTCAGACCCG-1', 'CGTGCTTAGATTGTGA-1', 'TGAGCGCAGCTCATAC-1', 'ACTGTGACAGTCCCGA-1', 'TACGGTATCTCTCTTC-1', 'ACTTATCCAGGGCTTC-1', 'GTAATGCGTTGCGGCT-1', 'TCGAAGTTCCACAAGT-1', 'TTTCACAGTTTCCCAC-1', 'TACTTCAGTCACCGAC-1', 'ATCTTCAAGTCAACAA-1', 'CACTGGGGTCCGCAGT-1', 'TCTACATAGTTGCCTA-1', 'TGGGCTGTCAGCAATC-1', 'GCGGATCAGGGAGGTG-1', 'CTTTCAATCCATCGTC-1', 'ACTATGGCAGCTGCCA-1', 'TTCGGTCAGGTCGTAG-1', 'AGACACTTCAACACCA-1', 'GCCCAGACATCTAACG-1', 'GTATTGGTCCCATTCG-1', 'GAGTGAGAGTGGTTCT-1', 'CAACAACAGCACTAGG-1', 'TAATCTCTCAGACCCG-1', 'TCTACATGTCCAGCAC-1', 'CAGCAATAGCTTTGTG-1', 'ATCAGGTAGGTCGTGA-1', 'GTCACTCGTGAGTTGG-1', 'TGATCAGGTGATTAGA-1', 'TTCTCTCGTAGTCGGA-1', 'TGGGAAGGTGCCGGTT-1', 'CAATTTCCAACCGTGC-1', 'AGAGCCCAGCGTTCCG-1', 'GCCCGAATCCTCACCA-1', 'CACTGTCAGCCGCTTG-1', 'ATCGTGAAGCTAGAGC-1', 'CTCATGCGTTCTCCCA-1', 'ACAAAGATCACCTACC-1', 'ACGATGTGTTGTAAAG-1', 'TACCCGTCATAAGATG-1', 'CCAAGCGCACCTCTAC-1', 'GAAGGGTCAGGCGTTC-1', 'AGGGCTCGTGCTCGTG-1', 'GTGAGTTGTGTGACCC-1', 'CAACGGCAGCATTTGC-1', 'ATCGCCTGTCACCCTT-1', 'GAAGTAATCTAGAGCT-1', 'ATCGGATAGGCACCAA-1', 'GTGTTCCGTCGAAACG-1', 'CGGAGAAAGGGCCTCT-1', 'CTAAGTGAGTGTCATC-1', 'CAGGTATTCCTTCTTC-1', 'CGAATTGCAAGAAACT-1', 'AGCCAATTCCTTACCG-1', 'GTGAGGATCAACTGGT-1', 'TTCCTTCAGTGCTCGC-1', 'TGATCAGGTCCAGGTC-1', 'CCCTCTCAGCATGCAG-1', 'TTAGTCTAGCACGTCC-1', 'CTTCCGAGTCTGTCCT-1', 'CTATCTATCATTTGCT-1', 'AGCGATTTCGCGAAGA-1', 'TCCAGAAGTCTGTCAA-1', 'TAAGCCAAGACGACTG-1', 'ATTTCTGGTGATACCT-1', 'AATGAAGAGGTAAGGA-1', 'AACCCAAGTATGAGAT-1', 'GTGGCGTTCCAGTGCG-1', 'AGTGCCGGTGCATGAG-1', 'AGATGCTCACGCCAGT-1', 'AGGAATATCACCTCTG-1', 'GCGAGAAGTCCAGTTA-1', 'CCTATCGGTCGGTGTC-1', 'TTTGGAGTCGCGCCAA-1', 'TAGCACAAGGACAGCT-1', 'ACATCGATCTCGTCGT-1', 'CAAGCTAAGGTAAGAG-1', 'AGCGATTGTATGTCAC-1', 'ACTGCAATCTCCATAT-1', 'TGGAGAGCACGTAACT-1', 'CTGTAGAAGATTAGTG-1', 'TGTAAGCGTACTGCCG-1', 'TCCACGTCACCCAACG-1', 'TTCCTTCGTCGTCGGT-1', 'TTACTGTCAAGTACCT-1', 'TTTCATGCACTCAGAT-1', 'TCACTATAGATGTTAG-1', 'AATGAAGCATCTGGGC-1', 'AACCAACGTCAGACGA-1', 'GCTACAAGTGTCTAAC-1', 'TGCAGTAGTTTCGGCG-1', 'GACTGATCAATGAGCG-1', 'TCAATCTGTCCGAAGA-1', 'AGACCCGAGTCCCGGT-1', 'AGAGCAGTCGAACCTA-1', 'CCTCAACCAAGCGAAC-1', 'GGTTCTCCACAGAAGC-1', 'CCCTCAAGTAAGAACT-1', 'GCCCGAAAGTATGATG-1', 'ATACCGAAGGACTTCT-1', 'CTTGATTTCTGAATGC-1', 'AGAGCCCGTGCCCACA-1', 'TAACGACTCGGTTGTA-1', 'TCAATCTGTCTGATAC-1', 'CACTTCGAGCTCCATA-1', 'GCCGATGAGGTCACTT-1', 'GATAGCTCACATTCTT-1', 'AGCGCTGAGTGGGAAA-1', 'ACGGGTCAGATCGCTT-1', 'AGGGCCTTCGCAACAT-1', 'CGTTAGAGTTACGTAC-1', 'TTGTTCAGTGTAAACA-1', 'CATAGACAGCACTAGG-1', 'ATATCCTCAGGGAATC-1', 'TCCAGAAGTCATCGCG-1', 'TATCTTGAGCCTCGTG-1', 'ATTACTCTCAAGATAG-1', 'GGTAACTCAGGTAGTG-1', 'AAAGGATCACTACCGG-1', 'AGAGCCCAGGTTGAGC-1', 'TCTATACTCGCAACAT-1', 'GAGAAATTCGCCTATC-1', 'GGTCACGGTAGCGAGT-1', 'ATAGACCAGCCGTCGT-1', 'TCGATTTAGTATTGCC-1', 'TGTCCTGAGACATCCT-1', 'AGTAACCTCATAGAGA-1', 'TTCCGGTCATTAAGCC-1', 'TGTTTGTCAGTTAGGG-1', 'CAGATCACAAACTGCT-1', 'TTGATGGGTTTACTTC-1', 'TATCGCCTCGTGTTCC-1', 'GATGGAGAGTATGGCG-1', 'ATGCCTCAGTGCCAGA-1', 'TGGGCGTGTTCTTGCC-1', 'CTTGATTGTCGAGCAA-1', 'GAGTGAGCACGAAGAC-1', 'ATTCGTTTCTGTACAG-1', 'GTTACAGAGGTTGACG-1', 'CCATCACCATCCGAGC-1', 'TCGTGGGAGGCAGTCA-1', 'ACTTCCGCAGCGTACC-1', 'TCATGGATCACAAGAA-1', 'AGTAGCTCAACGACAG-1', 'CTGTATTGTGCGAACA-1', 'CATCCGTGTTCCCACT-1', 'GTGACGCAGCTGAGCA-1', 'TCCTCGATCTTCCACG-1', 'GATGTTGAGTGCAGCA-1', 'TGACGCGTCAACGAGG-1', 'TAGACCAAGGGACACT-1', 'CTGCATCTCTGTAAGC-1', 'ACTCCCAAGTGGTTCT-1', 'GAATCACAGAGTGGCT-1', 'TCATACTCAGCATTGT-1', 'AGCGCTGCAGTCGGAA-1', 'AGAAGCGAGATGTTAG-1', 'GATCATGAGGTGCATG-1', 'CAGGTATGTCATCGCG-1', 'AGGATCTTCACCTCTG-1', 'AAGGAATAGCAATTAG-1', 'CGGACACAGTCACGAG-1', 'CTGGTCTTCGAGCTGC-1', 'CCGATCTGTTCTCCAC-1', 'ATCACGACATAGATCC-1', 'ACGATGTAGGCTTAAA-1', 'TTCATTGTCCGTAGGC-1', 'GGGAGATAGTCAAGCG-1', 'TCACACCCAAATGGCG-1', 'TTCCTCTCATCGTGGC-1', 'TTACCATCAGACTGCC-1', 'GCACTAAAGCTCAGAG-1', 'AAGTGAAGTCGATTCA-1', 'CCTCTCCCAGATTTCG-1', 'CCATAAGTCGGCCAAC-1', 'TACCCACTCCGGCTTT-1', 'TATGTTCTCTCCATAT-1', 'AACGGGATCGAGCTGC-1', 'AGGACTTTCGCTCTCA-1', 'ACGTACATCGAGGCAA-1', 'TCCCAGTAGTCACAGG-1', 'GATCACATCAAAGGAT-1', 'TGGGATTAGTGCACTT-1', 'CGACAGCCACTGAGGA-1', 'GATTTCTCAGATACTC-1', 'GACTTCCAGGTAGACC-1', 'AGTCACATCATGACAC-1', 'TACTTACCATGATGCT-1', 'CGATGCGGTCGAATTC-1', 'GAGACCCCAAGCGGAT-1', 'ATGAAAGAGCCGGAAT-1', 'GGAACCCTCGTGGCGT-1', 'GAACGTTAGTCTGCAT-1', 'TAGGTTGAGCATTGAA-1', 'CTCGAGGAGCCTATTG-1', 'ACAAGCTCACCGTCGA-1', 'TTTCGATAGTCAGGGT-1', 'TTCGATTAGGGTGGGA-1', 'CCACACTCAGTTCTAG-1', 'AACCTGAAGCACAAAT-1', 'CGTCAAACAACCACGC-1', 'TCATCATTCCGCATAA-1', 'GTGCTGGCATCCGTGG-1', 'CAGATCATCCTATTTG-1', 'GCAGTTAGTGTATTGC-1', 'ACTGTCCAGGTGCTAG-1', 'TTCCTCTCAGGAGGAG-1', 'TCGCTTGAGTGGCAGT-1', 'AGGAGGTAGGAGTCTG-1', 'CTACCTGAGCCTATCA-1', 'CATACAGCAGCTGAGA-1', 'TCACGCTCAGCAGTAG-1', 'GTCGTTCTCGGACGTC-1', 'TGCAGTACACCTGTCT-1', 'GGATCTATCAGCTGTA-1', 'CGCAGGTGTGATTAGA-1', 'TCAGTTTCAAATGCTC-1', 'TCTGTCGCAGATTTCG-1', 'GAAGGGTCAGAAGTTA-1', 'TGGATGTTCAAGAATG-1', 'GTCATTTTCGAAGAAT-1', 'AGTACCACACGCAAAG-1', 'CCTCCTCTCGGCTATA-1', 'TGAGCGCGTGTTCCAA-1', 'TTACGTTAGAAGCCAC-1', 'TCACGCTAGGTACCTT-1', 'TGGGCGTGTATACGGG-1', 'CGCCAGAAGGGTTTCT-1', 'CATACCCGTCTTCTAT-1', 'CTTCTCTCAACCGCCA-1', 'TGTCCACAGGAGGGTG-1', 'AGATAGAGTGCATACT-1', 'TTTACGTAGAATTTGG-1', 'CGCGTGAAGACTCCGC-1', 'TGGTAGTTCAGACCTA-1', 'GAGGGTAAGGACGCTA-1', 'CTAAGTGAGGTAAACT-1', 'CTTTCGGCAAGATTGA-1', 'ATCCGTCAGGACTAAT-1', 'GTTTACTGTATAGCTC-1', 'TCGGATATCGTGCTCT-1', 'ACCGTTCGTTACTCAG-1', 'AGCATCAGTCGAACGA-1', 'CAGATCACAAACTGCT-1', 'TGGGTTAAGATCCGAG-1', 'ATGGTTGTCACCTGGG-1', 'GACGTTAAGAAATGGG-1', 'CGGTCAGTCCGGTAGC-1', 'TAGGTACTCGACCACG-1', 'TCACGGGTCCGTGTCT-1', 'GTGCGTGGTGCCCGTA-1', 'GAATCACGTCCGGTGT-1', 'TATACCTGTACTAAGA-1', 'CGACAGCAGGTGCAGT-1', 'CCAAGCGCAAGATGTA-1', 'CACGGGTTCGACGAGA-1', 'GTGTGATTCCACGTAA-1', 'CTTCGGTGTTAAAGTG-1', 'GGGACAATCGAACGGA-1', 'TGACGCGGTCACCGCA-1', 'CATCGGGCATGTTCGA-1', 'GGCTTTCAGCGTATAA-1', 'ATGGGTTTCGCGTGCA-1', 'TGTACAGTCGTGTGAT-1', 'TGTCCTGAGAGTCTGG-1', 'TCGCAGGTCACCATAG-1', 'TTGCCTGCAATCAGCT-1', 'TGGAGGAGTTAGGCCC-1', 'TTGAACGGTGAGGAAA-1', 'GAGCTGCTCAACTTTC-1', 'GGTGAAGGTCAAAGCG-1', 'TGGTGATGTTCGGACC-1', 'ACTTCGCCAGCATCTA-1', 'GCAGCTGGTCACCTTC-1', 'ATTACCTTCATGAGGG-1', 'GCACGTGTCTGTCTCG-1', 'GGTAACTAGGTAAACT-1', 'GAGACCCTCGTGTCAA-1', 'GCCGATGTCGTTCGCT-1', 'CATGGATCAGAGAATT-1', 'TGCCGAGGTTGGACCC-1', 'TGGAGGATCCAACCGG-1', 'CGCATAATCAGACCGC-1', 'AGGGCTCGTCTCTCTG-1', 'GAGGGTAAGGATTCAA-1', 'GACTCTCGTGGTAACG-1', 'CGAGTGCAGAGAGAAC-1', 'CGGCAGTCATGTGTCA-1', 'CCTACGTCAAACTCGT-1', 'GCCAGCAGTTGCATGT-1', 'GTCTGTCGTGGTTTGT-1', 'TACATTCCATCCGTTC-1', 'GGAATGGGTCTTGAGT-1', 'TCCTCGAAGCTCCGAC-1', 'CTCATGCGTCGGCACT-1', 'AATTCCTCACACGGTC-1', 'TCGGATACAAGACGAC-1', 'TGATTTCCACGTCATA-1', 'CATTTCATCAACTGGT-1', 'TGGTTAGTCCGAGTGC-1', 'TGTGATGAGCTAGATA-1', 'AATTCCTTCAGTCAGT-1', 'CAAGCTAAGCATATGA-1', 'CAAGAGGGTACCCGCA-1', 'AGACACTAGCACACAG-1', 'ATATCCTAGGTGGGTT-1', 'CAGAGCCTCGAGTGGA-1', 'AGGAAATAGATTGGGC-1', 'GTAGCTAAGCGCAATG-1', 'GATGTTGGTTCAAAGA-1', 'CTTGATTAGAGCACTG-1', 'TAGTGCACAGACCATT-1', 'CTTAGGAGTTAACCTG-1', 'AATGGCTGTTTACCTT-1', 'TCTGCCAGTCTAGTGT-1', 'AACAAGAAGATACGAT-1', 'GTAGAGGAGTCACAGG-1', 'TTGGGATAGCCGATCC-1', 'ACTGCAAGTTCTAACG-1', 'GGAATCTTCAGTGTGT-1', 'CGTGTCTGTTACTCAG-1', 'GTTGCTCAGGTGGGTT-1', 'GGCACGTAGAGGTCAC-1', 'GAAATGAGTTCGGGTC-1', 'ATGACCATCGCCATAA-1', 'CCGTTCATCGGATTAC-1', 'GACCAATTCTTTGCAT-1', 'GATTCTTGTGTGTTTG-1', 'GAGTGAGTCGTGCGAC-1', 'TCATTGTTCTCTTGCG-1', 'TAACTTCGTGGCTAGA-1', 'GAAGCGAGTGATACTC-1', 'GACTGATGTCATCAGT-1', 'TTACGTTGTAGAGGAA-1', 'ATCGGCGTCATCGCTC-1', 'GCGTGCAAGAAGTCCG-1', 'TCCTCTTAGGAGAATG-1', 'CGGGTCAAGAAACCCG-1', 'CTCTCGAAGAAGTCCG-1', 'CTCATTAGTATTGCCA-1', 'TGGGTTAAGAACTGAT-1', 'TAGGAGGGTCAACGCC-1', 'AAAGGATGTCCTGGGT-1', 'ACTGTCCGTAGCACGA-1', 'TCGGTCTAGTTACGAA-1', 'AAGCCATTCGAGAACG-1', 'ATCCACCTCCCAGTGG-1', 'CAATCGACAATGAAAC-1', 'CTGTGAAAGTATGAAC-1', 'GGTTAACAGCTAAATG-1', 'AAGCCATTCATTGTTC-1', 'TAACCAGTCGTAACCA-1', 'TCCCAGTGTGTATTGC-1', 'ATAGACCTCTCGGTCT-1', 'AGGGCCTGTTCCGCGA-1', 'TTTGGAGTCGCGCCAA-1', 'ATGTCCCGTTCTCCCA-1', 'GAATAGACATGACAGG-1', 'AGTTAGCCACACGCCA-1', 'TCAGTTTAGCCTCTCT-1', 'TTCGCTGAGTGAGTGC-1', 'ATGTCCCTCGAGCACC-1', 'CCTCCTCCACATACTG-1', 'CTTCCGAGTGGGTATG-1', 'GACGTTACAAGCTGTT-1', 'GGAATCTAGCCGGATA-1', 'CTTACCGCAAATAAGC-1', 'ACGCACGCAAGAATAC-1', 'CCGATCTGTTAGAAAC-1', 'AGGGTGACATCAGCGC-1', 'CTGTGGGTCCGTCCTA-1', 'ATCGTGAAGTCGGCAA-1', 'CTCCTTTTCGTCGACG-1', 'TGTTCATAGATCGCTT-1', 'TGGGCGTCATGGGTCC-1', 'AATGAAGAGGTAAGGA-1', 'CAGGCCACAGTAACGG-1', 'AGATCCACACACAGAG-1', 'CCTCCAAAGGGCAATC-1', 'ACCAAACCATGGCACC-1', 'GTAGTACTCTTCCGTG-1', 'TCTTCCTAGGCCACTC-1', 'TTCCTAAAGTCCTGCG-1', 'TTCTTCCGTACACGTT-1', 'CGAGGAAGTAATGCGG-1', 'TCTTCCTAGGTGAGCT-1', 'GAGAAATTCGCTGTTC-1', 'TCTACATGTAAGGCCA-1', 'CATTGAGGTCTAGGCC-1', 'ACTTCGCGTTGTCCCT-1', 'CTGGACGTCAAATGAG-1', 'TCCATCGCAATTGGTC-1', 'AACAAAGTCTGGGTCG-1', 'ATACCGACAATCCTTT-1', 'GATTCTTTCGGTTAGT-1', 'CCACAAACACTAACGT-1', 'TTTGGTTAGCCTGCCA-1', 'AACCAACAGCGTGTTT-1', 'TGAGTCACATCCGCGA-1', 'TTGTTTGCACACCGAC-1', 'TGGTGATTCGGTCTGG-1', 'CGGGACTAGAGGATGA-1', 'AGGGTGACAGTAGTTC-1', 'CGTCCATGTTACACTG-1', 'TATTTCGAGTGAGCCA-1', 'TGGGAGAGTCGTATTG-1', 'AACCCAAGTTACGCCG-1', 'TGATCTTCATGAATCC-1', 'GAAGGGTCACGCTGAC-1', 'TATCGCCGTAGGCTCC-1', 'TCTACCGTCCTAAGTG-1', 'GACCAATAGAACGCGT-1', 'TTACGTTTCTTACTGT-1', 'ATGCCTCGTAGGCTGA-1', 'TCATATCTCTCCGATC-1', 'TGAACGTCACCCAACG-1', 'TCGACGGTCGTTGCCT-1', 'ACCAACAGTGGCATCC-1', 'AAAGTGAAGACAGTCG-1', 'GTTCTATGTCGGCCTA-1', 'GAGTCATAGCTGTGCC-1', 'GGAGGATAGATTAGAC-1', 'CAACCAAGTGAGCCAA-1', 'CGTTAGACAATCCTAG-1', 'CTGATCCCATCGAACT-1', 'AATCACGCACTATCGA-1', 'TCAGCCTGTGAGACCA-1', 'TACTTACGTTGAGGAC-1', 'AAGTCGTCACGCCACA-1', 'TCGATTTGTAGCCAGA-1', 'TCAATTCAGGTTAGTA-1', 'GTTATGGGTACCCAGC-1', 'CAGATTGAGCATCCTA-1', 'TGAGGAGGTGGCTGCT-1', 'AGCTTCCTCCCATTTA-1', 'ATGACCAAGGGTTAGC-1', 'GAATCACAGGCTTAGG-1', 'TGCTTGCAGAAGGCTC-1', 'GTTCGCTCAGCGTAGA-1', 'CCAATGAAGGTCCCGT-1', 'ACTGTGAGTCCCTGTT-1', 'GAATAGACACCCTGAG-1', 'TCATGAGAGACTCTTG-1', 'ACACGCGTCAAGCTGT-1', 'TCATGCCGTGTTCCTC-1', 'AGCCACGAGTACTGTC-1', 'TGGATGTCACTCGATA-1']\n"
          ]
        },
        {
          "output_type": "execute_result",
          "data": {
            "text/plain": [
              "View of AnnData object with n_obs × n_vars = 2000 × 3000\n",
              "    obs: 'tissue', 'batch'\n",
              "    var: 'gene_ids', 'feature_types'"
            ]
          },
          "metadata": {},
          "execution_count": 99
        }
      ]
    },
    {
      "cell_type": "markdown",
      "source": [
        "# Задание 3\n",
        "## Решение"
      ],
      "metadata": {
        "id": "Z6jz_WPWIu6N"
      }
    },
    {
      "cell_type": "code",
      "source": [
        "import anndata2ri\n",
        "anndata2ri.activate()\n",
        "%R .libPaths(\"usr/local/lib/R/site-library/\")"
      ],
      "metadata": {
        "colab": {
          "base_uri": "https://localhost:8080/",
          "height": 58
        },
        "id": "2YntQS4XI4r-",
        "outputId": "3510c7e0-475f-4253-8955-918e2b3995b5"
      },
      "execution_count": 103,
      "outputs": [
        {
          "output_type": "execute_result",
          "data": {
            "text/plain": [
              "<rpy2.robjects.vectors.StrVector object at 0x7fd58fd77500> [RTYPES.STRSXP]\n",
              "R classes: ('character',)\n",
              "['/content/..., '/usr/loca..., '/usr/lib/..., '/usr/lib/...]"
            ],
            "text/html": [
              "\n",
              "        <span>StrVector with 4 elements.</span>\n",
              "        <table>\n",
              "        <tbody>\n",
              "          <tr>\n",
              "          \n",
              "            <td>\n",
              "            '/content/...\n",
              "            </td>\n",
              "          \n",
              "            <td>\n",
              "            '/usr/loca...\n",
              "            </td>\n",
              "          \n",
              "            <td>\n",
              "            '/usr/lib/...\n",
              "            </td>\n",
              "          \n",
              "            <td>\n",
              "            '/usr/lib/...\n",
              "            </td>\n",
              "          \n",
              "          </tr>\n",
              "        </tbody>\n",
              "        </table>\n",
              "        "
            ]
          },
          "metadata": {},
          "execution_count": 103
        }
      ]
    },
    {
      "cell_type": "markdown",
      "source": [
        "Напишем функцию, которая будет сохранять файл AnnData-объекта, как Seurat-объекта в формате `.rds`."
      ],
      "metadata": {
        "id": "2frGD7AYKXTl"
      }
    },
    {
      "cell_type": "code",
      "source": [
        "import rpy2.robjects as ro\n",
        "\n",
        "def save_as_seurat(anndata, path = \"./\", name = 'out.rds'):\n",
        "  ro.r(\"library(Seurat)\")\n",
        "  ro.globalenv[\"anndata\"] = anndata\n",
        "  ro.globalenv[\"path\"] = path + name\n",
        "  df = ro.r('out <- as.Seurat(anndata, data = NULL, counts = \"X\")')\n",
        "  ro.r('saveRDS(out, file = path)')"
      ],
      "metadata": {
        "id": "BnpkINqGIFog"
      },
      "execution_count": 106,
      "outputs": []
    },
    {
      "cell_type": "code",
      "source": [
        "save_as_seurat(anndata, name = 'anndata_as_seurat_out.rds')"
      ],
      "metadata": {
        "id": "R48jHECaJWnw"
      },
      "execution_count": 107,
      "outputs": []
    }
  ],
  "metadata": {
    "colab": {
      "provenance": []
    },
    "kernelspec": {
      "display_name": "Python 3",
      "name": "python3"
    },
    "language_info": {
      "name": "python"
    }
  },
  "nbformat": 4,
  "nbformat_minor": 0
}